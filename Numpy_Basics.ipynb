{
 "cells": [
  {
   "metadata": {
    "ExecuteTime": {
     "end_time": "2025-06-27T12:09:37.128860Z",
     "start_time": "2025-06-27T12:09:37.124965Z"
    }
   },
   "cell_type": "code",
   "source": "print(\"hello world\")",
   "id": "2c53097ed70ad633",
   "outputs": [
    {
     "name": "stdout",
     "output_type": "stream",
     "text": [
      "hello world\n"
     ]
    }
   ],
   "execution_count": 3
  },
  {
   "metadata": {
    "ExecuteTime": {
     "end_time": "2025-06-27T12:09:37.153181Z",
     "start_time": "2025-06-27T12:09:37.145305Z"
    }
   },
   "cell_type": "code",
   "source": [
    "tup=tuple('string')\n",
    "tup"
   ],
   "id": "9fe0ffbce6b4fe65",
   "outputs": [
    {
     "data": {
      "text/plain": [
       "('s', 't', 'r', 'i', 'n', 'g')"
      ]
     },
     "execution_count": 4,
     "metadata": {},
     "output_type": "execute_result"
    }
   ],
   "execution_count": 4
  },
  {
   "metadata": {
    "ExecuteTime": {
     "end_time": "2025-06-27T12:09:37.261640Z",
     "start_time": "2025-06-27T12:09:37.257651Z"
    }
   },
   "cell_type": "code",
   "source": "tup[0]",
   "id": "e1065665f7a7f377",
   "outputs": [
    {
     "data": {
      "text/plain": [
       "'s'"
      ]
     },
     "execution_count": 5,
     "metadata": {},
     "output_type": "execute_result"
    }
   ],
   "execution_count": 5
  },
  {
   "metadata": {
    "ExecuteTime": {
     "end_time": "2025-06-27T12:09:37.333810Z",
     "start_time": "2025-06-27T12:09:37.328441Z"
    }
   },
   "cell_type": "code",
   "source": [
    "nested_tup=(4,5,6),(7,8)\n",
    "nested_tup"
   ],
   "id": "6063cec14473a954",
   "outputs": [
    {
     "data": {
      "text/plain": [
       "((4, 5, 6), (7, 8))"
      ]
     },
     "execution_count": 6,
     "metadata": {},
     "output_type": "execute_result"
    }
   ],
   "execution_count": 6
  },
  {
   "metadata": {
    "ExecuteTime": {
     "end_time": "2025-06-27T12:09:37.388280Z",
     "start_time": "2025-06-27T12:09:37.383561Z"
    }
   },
   "cell_type": "code",
   "source": "nested_tup[0]",
   "id": "bb56e419a0dd053",
   "outputs": [
    {
     "data": {
      "text/plain": [
       "(4, 5, 6)"
      ]
     },
     "execution_count": 7,
     "metadata": {},
     "output_type": "execute_result"
    }
   ],
   "execution_count": 7
  },
  {
   "metadata": {
    "ExecuteTime": {
     "end_time": "2025-06-27T12:09:37.439242Z",
     "start_time": "2025-06-27T12:09:37.434428Z"
    }
   },
   "cell_type": "code",
   "source": "nested_tup[0][:2]",
   "id": "1e856e35c772a2f9",
   "outputs": [
    {
     "data": {
      "text/plain": [
       "(4, 5)"
      ]
     },
     "execution_count": 8,
     "metadata": {},
     "output_type": "execute_result"
    }
   ],
   "execution_count": 8
  },
  {
   "metadata": {
    "ExecuteTime": {
     "end_time": "2025-06-27T12:09:37.488589Z",
     "start_time": "2025-06-27T12:09:37.484742Z"
    }
   },
   "cell_type": "code",
   "source": [
    "a_list=[2,3,7,True,\"Hello\"]\n",
    "a_list"
   ],
   "id": "aa951357ee358a99",
   "outputs": [
    {
     "data": {
      "text/plain": [
       "[2, 3, 7, True, 'Hello']"
      ]
     },
     "execution_count": 9,
     "metadata": {},
     "output_type": "execute_result"
    }
   ],
   "execution_count": 9
  },
  {
   "metadata": {
    "ExecuteTime": {
     "end_time": "2025-06-27T12:09:37.546323Z",
     "start_time": "2025-06-27T12:09:37.541039Z"
    }
   },
   "cell_type": "code",
   "source": [
    "tup=(\"foo\",\"bar\",\"baz\")\n",
    "b_list=list(tup)\n",
    "b_list[1]=\"hello\"\n",
    "b_list"
   ],
   "id": "61b89c753fc47200",
   "outputs": [
    {
     "data": {
      "text/plain": [
       "['foo', 'hello', 'baz']"
      ]
     },
     "execution_count": 10,
     "metadata": {},
     "output_type": "execute_result"
    }
   ],
   "execution_count": 10
  },
  {
   "metadata": {
    "ExecuteTime": {
     "end_time": "2025-06-27T12:30:23.066507Z",
     "start_time": "2025-06-27T12:30:23.008531Z"
    }
   },
   "cell_type": "code",
   "source": [
    "b_list.append(\"aaa\")\n",
    "b_list"
   ],
   "id": "ce05795559cfe4a",
   "outputs": [
    {
     "data": {
      "text/plain": [
       "['foo', 'hello', 'baz', 'thamidu', 'aaa']"
      ]
     },
     "execution_count": 140,
     "metadata": {},
     "output_type": "execute_result"
    }
   ],
   "execution_count": 140
  },
  {
   "metadata": {
    "ExecuteTime": {
     "end_time": "2025-06-27T12:09:37.639905Z",
     "start_time": "2025-06-27T12:09:37.635592Z"
    }
   },
   "cell_type": "code",
   "source": [
    "gen=range(10)\n",
    "gen"
   ],
   "id": "43b2f4bcbac624e2",
   "outputs": [
    {
     "data": {
      "text/plain": [
       "range(0, 10)"
      ]
     },
     "execution_count": 12,
     "metadata": {},
     "output_type": "execute_result"
    }
   ],
   "execution_count": 12
  },
  {
   "metadata": {
    "ExecuteTime": {
     "end_time": "2025-06-27T12:09:37.688855Z",
     "start_time": "2025-06-27T12:09:37.684665Z"
    }
   },
   "cell_type": "code",
   "source": "list(gen)",
   "id": "3d2645a5145cd4c4",
   "outputs": [
    {
     "data": {
      "text/plain": [
       "[0, 1, 2, 3, 4, 5, 6, 7, 8, 9]"
      ]
     },
     "execution_count": 13,
     "metadata": {},
     "output_type": "execute_result"
    }
   ],
   "execution_count": 13
  },
  {
   "metadata": {
    "ExecuteTime": {
     "end_time": "2025-06-27T12:30:56.679738Z",
     "start_time": "2025-06-27T12:30:56.669321Z"
    }
   },
   "cell_type": "code",
   "source": [
    "c=[\"aaa\",\"bbb\",\"ccc\",\"ddd\",\"eee\",\"fff\"]\n",
    "c.insert(1,\"eee\")\n",
    "c"
   ],
   "id": "5e959c91372942ac",
   "outputs": [
    {
     "data": {
      "text/plain": [
       "['aaa', 'eee', 'bbb', 'ccc', 'ddd', 'eee', 'fff']"
      ]
     },
     "execution_count": 141,
     "metadata": {},
     "output_type": "execute_result"
    }
   ],
   "execution_count": 141
  },
  {
   "metadata": {
    "ExecuteTime": {
     "end_time": "2025-06-27T12:09:37.795845Z",
     "start_time": "2025-06-27T12:09:37.791726Z"
    }
   },
   "cell_type": "code",
   "source": [
    "b=[4,3,8,7,9]\n",
    "b.sort()\n",
    "b"
   ],
   "id": "45e0fcaa2f2d910f",
   "outputs": [
    {
     "data": {
      "text/plain": [
       "[3, 4, 7, 8, 9]"
      ]
     },
     "execution_count": 15,
     "metadata": {},
     "output_type": "execute_result"
    }
   ],
   "execution_count": 15
  },
  {
   "metadata": {
    "ExecuteTime": {
     "end_time": "2025-06-27T12:09:37.845023Z",
     "start_time": "2025-06-27T12:09:37.840738Z"
    }
   },
   "cell_type": "code",
   "source": [
    "d=[\"saw\",\"small\",\"he\",\"foxes\"]\n",
    "d.sort(key=len)\n",
    "d"
   ],
   "id": "7282a49cccb4ffb5",
   "outputs": [
    {
     "data": {
      "text/plain": [
       "['he', 'saw', 'small', 'foxes']"
      ]
     },
     "execution_count": 16,
     "metadata": {},
     "output_type": "execute_result"
    }
   ],
   "execution_count": 16
  },
  {
   "metadata": {
    "ExecuteTime": {
     "end_time": "2025-06-27T12:09:37.889154Z",
     "start_time": "2025-06-27T12:09:37.884766Z"
    }
   },
   "cell_type": "code",
   "source": [
    "seq=[7,2,3,7,5,6,0,1]\n",
    "seq[1:5]"
   ],
   "id": "d123e2e5891d91a6",
   "outputs": [
    {
     "data": {
      "text/plain": [
       "[2, 3, 7, 5]"
      ]
     },
     "execution_count": 17,
     "metadata": {},
     "output_type": "execute_result"
    }
   ],
   "execution_count": 17
  },
  {
   "metadata": {
    "ExecuteTime": {
     "end_time": "2025-06-27T12:09:37.937550Z",
     "start_time": "2025-06-27T12:09:37.933736Z"
    }
   },
   "cell_type": "code",
   "source": "seq[3:5]=[6,3]",
   "id": "21c391b4e99f8c16",
   "outputs": [],
   "execution_count": 18
  },
  {
   "metadata": {
    "ExecuteTime": {
     "end_time": "2025-06-27T12:09:37.968674Z",
     "start_time": "2025-06-27T12:09:37.962757Z"
    }
   },
   "cell_type": "code",
   "source": [
    "strings=[\"a\",\"as\",\"bat\",\"car\",\"dove\",\"python\"]\n",
    "[x.upper() for x in strings if len(x)>2]"
   ],
   "id": "277698f8a8802b77",
   "outputs": [
    {
     "data": {
      "text/plain": [
       "['BAT', 'CAR', 'DOVE', 'PYTHON']"
      ]
     },
     "execution_count": 19,
     "metadata": {},
     "output_type": "execute_result"
    }
   ],
   "execution_count": 19
  },
  {
   "metadata": {
    "ExecuteTime": {
     "end_time": "2025-06-27T12:09:38.034229Z",
     "start_time": "2025-06-27T12:09:38.030090Z"
    }
   },
   "cell_type": "code",
   "source": [
    "unique_lengths={len(x) for x in strings}\n",
    "unique_lengths"
   ],
   "id": "6e7b67937c29a422",
   "outputs": [
    {
     "data": {
      "text/plain": [
       "{1, 2, 3, 4, 6}"
      ]
     },
     "execution_count": 20,
     "metadata": {},
     "output_type": "execute_result"
    }
   ],
   "execution_count": 20
  },
  {
   "metadata": {
    "ExecuteTime": {
     "end_time": "2025-06-27T12:09:38.075659Z",
     "start_time": "2025-06-27T12:09:38.070823Z"
    }
   },
   "cell_type": "code",
   "source": [
    "loc_mapping={value: index for index,value in enumerate(strings)}\n",
    "loc_mapping"
   ],
   "id": "f17615cc4b7ce6da",
   "outputs": [
    {
     "data": {
      "text/plain": [
       "{'a': 0, 'as': 1, 'bat': 2, 'car': 3, 'dove': 4, 'python': 5}"
      ]
     },
     "execution_count": 21,
     "metadata": {},
     "output_type": "execute_result"
    }
   ],
   "execution_count": 21
  },
  {
   "metadata": {
    "ExecuteTime": {
     "end_time": "2025-06-27T12:09:38.109314Z",
     "start_time": "2025-06-27T12:09:38.103831Z"
    }
   },
   "cell_type": "code",
   "source": [
    "def f():\n",
    "    a=5\n",
    "    b=6\n",
    "    c=7\n",
    "    return a,b,c\n",
    "\n",
    "a,b,c=f()\n",
    "\n",
    "return_values=f()\n",
    "return_values"
   ],
   "id": "5b55d663f005ada2",
   "outputs": [
    {
     "data": {
      "text/plain": [
       "(5, 6, 7)"
      ]
     },
     "execution_count": 22,
     "metadata": {},
     "output_type": "execute_result"
    }
   ],
   "execution_count": 22
  },
  {
   "metadata": {
    "ExecuteTime": {
     "end_time": "2025-06-27T12:09:38.153210Z",
     "start_time": "2025-06-27T12:09:38.146765Z"
    }
   },
   "cell_type": "code",
   "source": [
    "def func(y,x):\n",
    "    return y(x)\n",
    "\n",
    "y=lambda x:x**2\n",
    "\n",
    "x_values=list(range(-10,11))\n",
    "y_values=[]\n",
    "[y_values.append(func(y,i)) for i in x_values ]\n",
    "y_values\n"
   ],
   "id": "98a47eb42c72a4c8",
   "outputs": [
    {
     "data": {
      "text/plain": [
       "[100, 81, 64, 49, 36, 25, 16, 9, 4, 1, 0, 1, 4, 9, 16, 25, 36, 49, 64, 81, 100]"
      ]
     },
     "execution_count": 23,
     "metadata": {},
     "output_type": "execute_result"
    }
   ],
   "execution_count": 23
  },
  {
   "metadata": {
    "ExecuteTime": {
     "end_time": "2025-06-27T12:09:38.954437Z",
     "start_time": "2025-06-27T12:09:38.224372Z"
    }
   },
   "cell_type": "code",
   "source": [
    "import matplotlib.pyplot as plt\n",
    "\n",
    "plt.plot(x_values,y_values,marker='x')"
   ],
   "id": "cc92b983b638ec16",
   "outputs": [
    {
     "data": {
      "text/plain": [
       "[<matplotlib.lines.Line2D at 0x1afeeb31bd0>]"
      ]
     },
     "execution_count": 24,
     "metadata": {},
     "output_type": "execute_result"
    },
    {
     "data": {
      "text/plain": [
       "<Figure size 640x480 with 1 Axes>"
      ],
      "image/png": "[encoded data removed]"
     },
     "metadata": {},
     "output_type": "display_data"
    }
   ],
   "execution_count": 24
  },
  {
   "metadata": {
    "ExecuteTime": {
     "end_time": "2025-06-27T12:09:38.964612Z",
     "start_time": "2025-06-27T12:09:38.961884Z"
    }
   },
   "cell_type": "code",
   "source": "import numpy as np\n",
   "id": "a43f1b438da317a1",
   "outputs": [],
   "execution_count": 25
  },
  {
   "metadata": {
    "ExecuteTime": {
     "end_time": "2025-06-27T12:09:39.008248Z",
     "start_time": "2025-06-27T12:09:39.002576Z"
    }
   },
   "cell_type": "code",
   "source": [
    "data=np.array([[1,2,3],[4,5,6]])\n",
    "data"
   ],
   "id": "f126976d6b23d0b0",
   "outputs": [
    {
     "data": {
      "text/plain": [
       "array([[1, 2, 3],\n",
       "       [4, 5, 6]])"
      ]
     },
     "execution_count": 26,
     "metadata": {},
     "output_type": "execute_result"
    }
   ],
   "execution_count": 26
  },
  {
   "metadata": {
    "ExecuteTime": {
     "end_time": "2025-06-27T12:09:39.064678Z",
     "start_time": "2025-06-27T12:09:39.059372Z"
    }
   },
   "cell_type": "code",
   "source": "data*10",
   "id": "5e4488218cd8abba",
   "outputs": [
    {
     "data": {
      "text/plain": [
       "array([[10, 20, 30],\n",
       "       [40, 50, 60]])"
      ]
     },
     "execution_count": 27,
     "metadata": {},
     "output_type": "execute_result"
    }
   ],
   "execution_count": 27
  },
  {
   "metadata": {
    "ExecuteTime": {
     "end_time": "2025-06-27T12:09:39.683673Z",
     "start_time": "2025-06-27T12:09:39.679033Z"
    }
   },
   "cell_type": "code",
   "source": "data+data",
   "id": "585263c0651a950f",
   "outputs": [
    {
     "data": {
      "text/plain": [
       "array([[ 2,  4,  6],\n",
       "       [ 8, 10, 12]])"
      ]
     },
     "execution_count": 28,
     "metadata": {},
     "output_type": "execute_result"
    }
   ],
   "execution_count": 28
  },
  {
   "metadata": {
    "ExecuteTime": {
     "end_time": "2025-06-27T12:09:40.416303Z",
     "start_time": "2025-06-27T12:09:40.411568Z"
    }
   },
   "cell_type": "code",
   "source": "data.shape",
   "id": "b7ca29479205ab02",
   "outputs": [
    {
     "data": {
      "text/plain": [
       "(2, 3)"
      ]
     },
     "execution_count": 29,
     "metadata": {},
     "output_type": "execute_result"
    }
   ],
   "execution_count": 29
  },
  {
   "metadata": {
    "ExecuteTime": {
     "end_time": "2025-06-27T12:09:40.625053Z",
     "start_time": "2025-06-27T12:09:40.620727Z"
    }
   },
   "cell_type": "code",
   "source": "data.dtype",
   "id": "2d61012be559cfb0",
   "outputs": [
    {
     "data": {
      "text/plain": [
       "dtype('int64')"
      ]
     },
     "execution_count": 30,
     "metadata": {},
     "output_type": "execute_result"
    }
   ],
   "execution_count": 30
  },
  {
   "metadata": {
    "ExecuteTime": {
     "end_time": "2025-06-27T12:09:40.708835Z",
     "start_time": "2025-06-27T12:09:40.703039Z"
    }
   },
   "cell_type": "code",
   "source": [
    "data1=[6,7.5,8,0,1]\n",
    "arr1=np.array(data1)\n",
    "arr1"
   ],
   "id": "57681d4d94ff62d7",
   "outputs": [
    {
     "data": {
      "text/plain": [
       "array([6. , 7.5, 8. , 0. , 1. ])"
      ]
     },
     "execution_count": 31,
     "metadata": {},
     "output_type": "execute_result"
    }
   ],
   "execution_count": 31
  },
  {
   "metadata": {
    "ExecuteTime": {
     "end_time": "2025-06-27T12:09:40.793120Z",
     "start_time": "2025-06-27T12:09:40.787330Z"
    }
   },
   "cell_type": "code",
   "source": [
    "data2=[[1,2,3,4],[6,7,8,9]]\n",
    "arr2=np.array(data2)\n",
    "arr2"
   ],
   "id": "2004461b9bde0b4f",
   "outputs": [
    {
     "data": {
      "text/plain": [
       "array([[1, 2, 3, 4],\n",
       "       [6, 7, 8, 9]])"
      ]
     },
     "execution_count": 32,
     "metadata": {},
     "output_type": "execute_result"
    }
   ],
   "execution_count": 32
  },
  {
   "metadata": {
    "ExecuteTime": {
     "end_time": "2025-06-27T12:09:40.868580Z",
     "start_time": "2025-06-27T12:09:40.864261Z"
    }
   },
   "cell_type": "code",
   "source": "arr2.ndim",
   "id": "b6efc65be4cf3986",
   "outputs": [
    {
     "data": {
      "text/plain": [
       "2"
      ]
     },
     "execution_count": 33,
     "metadata": {},
     "output_type": "execute_result"
    }
   ],
   "execution_count": 33
  },
  {
   "metadata": {
    "ExecuteTime": {
     "end_time": "2025-06-27T12:09:41.074966Z",
     "start_time": "2025-06-27T12:09:41.068091Z"
    }
   },
   "cell_type": "code",
   "source": "arr2.shape",
   "id": "cd1b481bcc4802c9",
   "outputs": [
    {
     "data": {
      "text/plain": [
       "(2, 4)"
      ]
     },
     "execution_count": 34,
     "metadata": {},
     "output_type": "execute_result"
    }
   ],
   "execution_count": 34
  },
  {
   "metadata": {
    "ExecuteTime": {
     "end_time": "2025-06-27T12:09:41.213647Z",
     "start_time": "2025-06-27T12:09:41.207215Z"
    }
   },
   "cell_type": "code",
   "source": "arr1.dtype",
   "id": "ab37f8628499679d",
   "outputs": [
    {
     "data": {
      "text/plain": [
       "dtype('float64')"
      ]
     },
     "execution_count": 35,
     "metadata": {},
     "output_type": "execute_result"
    }
   ],
   "execution_count": 35
  },
  {
   "metadata": {
    "ExecuteTime": {
     "end_time": "2025-06-27T12:09:41.299657Z",
     "start_time": "2025-06-27T12:09:41.293328Z"
    }
   },
   "cell_type": "code",
   "source": "arr2.dtype",
   "id": "c43c3d310dec25ff",
   "outputs": [
    {
     "data": {
      "text/plain": [
       "dtype('int64')"
      ]
     },
     "execution_count": 36,
     "metadata": {},
     "output_type": "execute_result"
    }
   ],
   "execution_count": 36
  },
  {
   "metadata": {
    "ExecuteTime": {
     "end_time": "2025-06-27T12:09:41.401536Z",
     "start_time": "2025-06-27T12:09:41.395520Z"
    }
   },
   "cell_type": "code",
   "source": "np.zeros((2,3),dtype='int64')",
   "id": "881c81769058c5ba",
   "outputs": [
    {
     "data": {
      "text/plain": [
       "array([[0, 0, 0],\n",
       "       [0, 0, 0]])"
      ]
     },
     "execution_count": 37,
     "metadata": {},
     "output_type": "execute_result"
    }
   ],
   "execution_count": 37
  },
  {
   "metadata": {
    "ExecuteTime": {
     "end_time": "2025-06-27T12:09:41.488091Z",
     "start_time": "2025-06-27T12:09:41.480529Z"
    }
   },
   "cell_type": "code",
   "source": "np.ones((3,3),dtype='int64')",
   "id": "2f6e8cf536ddfc3c",
   "outputs": [
    {
     "data": {
      "text/plain": [
       "array([[1, 1, 1],\n",
       "       [1, 1, 1],\n",
       "       [1, 1, 1]])"
      ]
     },
     "execution_count": 38,
     "metadata": {},
     "output_type": "execute_result"
    }
   ],
   "execution_count": 38
  },
  {
   "metadata": {
    "ExecuteTime": {
     "end_time": "2025-06-27T12:09:41.695432Z",
     "start_time": "2025-06-27T12:09:41.687842Z"
    }
   },
   "cell_type": "code",
   "source": "np.eye(3,3)",
   "id": "91554a06670cc749",
   "outputs": [
    {
     "data": {
      "text/plain": [
       "array([[1., 0., 0.],\n",
       "       [0., 1., 0.],\n",
       "       [0., 0., 1.]])"
      ]
     },
     "execution_count": 39,
     "metadata": {},
     "output_type": "execute_result"
    }
   ],
   "execution_count": 39
  },
  {
   "metadata": {
    "ExecuteTime": {
     "end_time": "2025-06-27T12:09:41.946832Z",
     "start_time": "2025-06-27T12:09:41.940352Z"
    }
   },
   "cell_type": "code",
   "source": [
    "arr3=np.array([2.3,-4.5,6,2,7.8])\n",
    "arr3.dtype"
   ],
   "id": "e37b0d84b76d1da6",
   "outputs": [
    {
     "data": {
      "text/plain": [
       "dtype('float64')"
      ]
     },
     "execution_count": 40,
     "metadata": {},
     "output_type": "execute_result"
    }
   ],
   "execution_count": 40
  },
  {
   "metadata": {
    "ExecuteTime": {
     "end_time": "2025-06-27T12:09:42.180973Z",
     "start_time": "2025-06-27T12:09:42.176612Z"
    }
   },
   "cell_type": "code",
   "source": "int_arr3=arr3.astype(int)",
   "id": "6e04146902de48c3",
   "outputs": [],
   "execution_count": 41
  },
  {
   "metadata": {
    "ExecuteTime": {
     "end_time": "2025-06-27T12:09:42.256787Z",
     "start_time": "2025-06-27T12:09:42.250204Z"
    }
   },
   "cell_type": "code",
   "source": "int_arr3",
   "id": "617a1bdafe740b2b",
   "outputs": [
    {
     "data": {
      "text/plain": [
       "array([ 2, -4,  6,  2,  7])"
      ]
     },
     "execution_count": 42,
     "metadata": {},
     "output_type": "execute_result"
    }
   ],
   "execution_count": 42
  },
  {
   "metadata": {
    "ExecuteTime": {
     "end_time": "2025-06-27T12:09:42.374265Z",
     "start_time": "2025-06-27T12:09:42.367003Z"
    }
   },
   "cell_type": "code",
   "source": [
    "int_array=np.arange(10)\n",
    "int_array"
   ],
   "id": "24689560c8d56502",
   "outputs": [
    {
     "data": {
      "text/plain": [
       "array([0, 1, 2, 3, 4, 5, 6, 7, 8, 9])"
      ]
     },
     "execution_count": 43,
     "metadata": {},
     "output_type": "execute_result"
    }
   ],
   "execution_count": 43
  },
  {
   "metadata": {
    "ExecuteTime": {
     "end_time": "2025-06-27T12:09:42.450629Z",
     "start_time": "2025-06-27T12:09:42.443647Z"
    }
   },
   "cell_type": "code",
   "source": [
    "arr=np.array([[1,2,3],[4,5,6]])\n",
    "arr*arr"
   ],
   "id": "8c249836eaef837b",
   "outputs": [
    {
     "data": {
      "text/plain": [
       "array([[ 1,  4,  9],\n",
       "       [16, 25, 36]])"
      ]
     },
     "execution_count": 44,
     "metadata": {},
     "output_type": "execute_result"
    }
   ],
   "execution_count": 44
  },
  {
   "metadata": {
    "ExecuteTime": {
     "end_time": "2025-06-27T12:09:42.568232Z",
     "start_time": "2025-06-27T12:09:42.560076Z"
    }
   },
   "cell_type": "code",
   "source": "arr-arr",
   "id": "d4966c37f27f42db",
   "outputs": [
    {
     "data": {
      "text/plain": [
       "array([[0, 0, 0],\n",
       "       [0, 0, 0]])"
      ]
     },
     "execution_count": 45,
     "metadata": {},
     "output_type": "execute_result"
    }
   ],
   "execution_count": 45
  },
  {
   "metadata": {
    "ExecuteTime": {
     "end_time": "2025-06-27T12:09:42.770791Z",
     "start_time": "2025-06-27T12:09:42.763938Z"
    }
   },
   "cell_type": "code",
   "source": "1/arr",
   "id": "63e8411911ec76e6",
   "outputs": [
    {
     "data": {
      "text/plain": [
       "array([[1.        , 0.5       , 0.33333333],\n",
       "       [0.25      , 0.2       , 0.16666667]])"
      ]
     },
     "execution_count": 46,
     "metadata": {},
     "output_type": "execute_result"
    }
   ],
   "execution_count": 46
  },
  {
   "metadata": {
    "ExecuteTime": {
     "end_time": "2025-06-27T12:09:43.101549Z",
     "start_time": "2025-06-27T12:09:43.095245Z"
    }
   },
   "cell_type": "code",
   "source": "arr**2",
   "id": "707fbddd0adddaab",
   "outputs": [
    {
     "data": {
      "text/plain": [
       "array([[ 1,  4,  9],\n",
       "       [16, 25, 36]])"
      ]
     },
     "execution_count": 47,
     "metadata": {},
     "output_type": "execute_result"
    }
   ],
   "execution_count": 47
  },
  {
   "metadata": {},
   "cell_type": "markdown",
   "source": "## Basic Indexing and Slicing",
   "id": "93b9ce5fdd5f6ccd"
  },
  {
   "metadata": {
    "ExecuteTime": {
     "end_time": "2025-06-27T12:09:43.560114Z",
     "start_time": "2025-06-27T12:09:43.552931Z"
    }
   },
   "cell_type": "code",
   "source": [
    "arr5=np.arange(10)\n",
    "arr5"
   ],
   "id": "816b7b11464b3863",
   "outputs": [
    {
     "data": {
      "text/plain": [
       "array([0, 1, 2, 3, 4, 5, 6, 7, 8, 9])"
      ]
     },
     "execution_count": 48,
     "metadata": {},
     "output_type": "execute_result"
    }
   ],
   "execution_count": 48
  },
  {
   "metadata": {
    "ExecuteTime": {
     "end_time": "2025-06-27T12:09:43.908838Z",
     "start_time": "2025-06-27T12:09:43.902340Z"
    }
   },
   "cell_type": "code",
   "source": "arr5[5]",
   "id": "f9efe9a0ddad4958",
   "outputs": [
    {
     "data": {
      "text/plain": [
       "np.int64(5)"
      ]
     },
     "execution_count": 49,
     "metadata": {},
     "output_type": "execute_result"
    }
   ],
   "execution_count": 49
  },
  {
   "metadata": {
    "ExecuteTime": {
     "end_time": "2025-06-27T12:09:44.055703Z",
     "start_time": "2025-06-27T12:09:44.048627Z"
    }
   },
   "cell_type": "code",
   "source": "arr5[5:8]",
   "id": "cb6dcff2a99bf06b",
   "outputs": [
    {
     "data": {
      "text/plain": [
       "array([5, 6, 7])"
      ]
     },
     "execution_count": 50,
     "metadata": {},
     "output_type": "execute_result"
    }
   ],
   "execution_count": 50
  },
  {
   "metadata": {
    "ExecuteTime": {
     "end_time": "2025-06-27T12:09:44.130876Z",
     "start_time": "2025-06-27T12:09:44.125441Z"
    }
   },
   "cell_type": "code",
   "source": [
    "arr5[5:8]=12\n",
    "arr5"
   ],
   "id": "446126f0a880c158",
   "outputs": [
    {
     "data": {
      "text/plain": [
       "array([ 0,  1,  2,  3,  4, 12, 12, 12,  8,  9])"
      ]
     },
     "execution_count": 51,
     "metadata": {},
     "output_type": "execute_result"
    }
   ],
   "execution_count": 51
  },
  {
   "metadata": {
    "ExecuteTime": {
     "end_time": "2025-06-27T12:09:44.246239Z",
     "start_time": "2025-06-27T12:09:44.239679Z"
    }
   },
   "cell_type": "code",
   "source": [
    "arr_slice=arr5[5:8]\n",
    "arr_slice"
   ],
   "id": "c3cb4e3dc3ba55fd",
   "outputs": [
    {
     "data": {
      "text/plain": [
       "array([12, 12, 12])"
      ]
     },
     "execution_count": 52,
     "metadata": {},
     "output_type": "execute_result"
    }
   ],
   "execution_count": 52
  },
  {
   "metadata": {
    "ExecuteTime": {
     "end_time": "2025-06-27T12:09:44.366233Z",
     "start_time": "2025-06-27T12:09:44.363025Z"
    }
   },
   "cell_type": "code",
   "source": "new_arr=arr5[5:].copy()",
   "id": "42ae9d7d0756e685",
   "outputs": [],
   "execution_count": 53
  },
  {
   "metadata": {
    "ExecuteTime": {
     "end_time": "2025-06-27T12:09:44.396667Z",
     "start_time": "2025-06-27T12:09:44.389670Z"
    }
   },
   "cell_type": "code",
   "source": "new_arr",
   "id": "e31cae1f62e5b20c",
   "outputs": [
    {
     "data": {
      "text/plain": [
       "array([12, 12, 12,  8,  9])"
      ]
     },
     "execution_count": 54,
     "metadata": {},
     "output_type": "execute_result"
    }
   ],
   "execution_count": 54
  },
  {
   "metadata": {
    "ExecuteTime": {
     "end_time": "2025-06-27T12:09:44.465127Z",
     "start_time": "2025-06-27T12:09:44.459053Z"
    }
   },
   "cell_type": "code",
   "source": [
    "new_arr[:3]=1\n",
    "new_arr"
   ],
   "id": "b7915bf3aa6f87b4",
   "outputs": [
    {
     "data": {
      "text/plain": [
       "array([1, 1, 1, 8, 9])"
      ]
     },
     "execution_count": 55,
     "metadata": {},
     "output_type": "execute_result"
    }
   ],
   "execution_count": 55
  },
  {
   "metadata": {
    "ExecuteTime": {
     "end_time": "2025-06-27T12:09:44.535363Z",
     "start_time": "2025-06-27T12:09:44.529605Z"
    }
   },
   "cell_type": "code",
   "source": "arr5",
   "id": "e3a2f93d927c035a",
   "outputs": [
    {
     "data": {
      "text/plain": [
       "array([ 0,  1,  2,  3,  4, 12, 12, 12,  8,  9])"
      ]
     },
     "execution_count": 56,
     "metadata": {},
     "output_type": "execute_result"
    }
   ],
   "execution_count": 56
  },
  {
   "metadata": {
    "ExecuteTime": {
     "end_time": "2025-06-27T12:09:44.613518Z",
     "start_time": "2025-06-27T12:09:44.608831Z"
    }
   },
   "cell_type": "code",
   "source": [
    "arr2d=[[1,2,3],\n",
    "       [4,5,6],\n",
    "       [7,7,9]]\n",
    "\n",
    "arr2d=np.array(arr2d)"
   ],
   "id": "ab817d059df235f6",
   "outputs": [],
   "execution_count": 57
  },
  {
   "metadata": {
    "ExecuteTime": {
     "end_time": "2025-06-27T12:09:44.648148Z",
     "start_time": "2025-06-27T12:09:44.641811Z"
    }
   },
   "cell_type": "code",
   "source": "arr2d",
   "id": "f02afc8252b3d42a",
   "outputs": [
    {
     "data": {
      "text/plain": [
       "array([[1, 2, 3],\n",
       "       [4, 5, 6],\n",
       "       [7, 7, 9]])"
      ]
     },
     "execution_count": 58,
     "metadata": {},
     "output_type": "execute_result"
    }
   ],
   "execution_count": 58
  },
  {
   "metadata": {
    "ExecuteTime": {
     "end_time": "2025-06-27T12:09:44.718560Z",
     "start_time": "2025-06-27T12:09:44.711747Z"
    }
   },
   "cell_type": "code",
   "source": "arr2d[:2]",
   "id": "dc798d17e3a42893",
   "outputs": [
    {
     "data": {
      "text/plain": [
       "array([[1, 2, 3],\n",
       "       [4, 5, 6]])"
      ]
     },
     "execution_count": 59,
     "metadata": {},
     "output_type": "execute_result"
    }
   ],
   "execution_count": 59
  },
  {
   "metadata": {
    "ExecuteTime": {
     "end_time": "2025-06-27T12:09:44.869857Z",
     "start_time": "2025-06-27T12:09:44.863778Z"
    }
   },
   "cell_type": "code",
   "source": "arr2d[:2,1:]",
   "id": "1591b8c8ea308bb8",
   "outputs": [
    {
     "data": {
      "text/plain": [
       "array([[2, 3],\n",
       "       [5, 6]])"
      ]
     },
     "execution_count": 60,
     "metadata": {},
     "output_type": "execute_result"
    }
   ],
   "execution_count": 60
  },
  {
   "metadata": {
    "ExecuteTime": {
     "end_time": "2025-06-27T12:09:45.034943Z",
     "start_time": "2025-06-27T12:09:45.030660Z"
    }
   },
   "cell_type": "code",
   "source": [
    "names=np.array([\"Bob\",\"Joe\",\"Will\",\"Bob\",\"Will\",\"Joe\",\"Joe\"])\n",
    "data=np.array([[4,7],[0,2],[-5,6],[0,0],[1,2],[-12,-4],[3,4]])"
   ],
   "id": "b910f1ecd9b56488",
   "outputs": [],
   "execution_count": 61
  },
  {
   "metadata": {
    "ExecuteTime": {
     "end_time": "2025-06-27T12:09:45.253154Z",
     "start_time": "2025-06-27T12:09:45.247618Z"
    }
   },
   "cell_type": "code",
   "source": "names",
   "id": "ac142136707fab63",
   "outputs": [
    {
     "data": {
      "text/plain": [
       "array(['Bob', 'Joe', 'Will', 'Bob', 'Will', 'Joe', 'Joe'], dtype='<U4')"
      ]
     },
     "execution_count": 62,
     "metadata": {},
     "output_type": "execute_result"
    }
   ],
   "execution_count": 62
  },
  {
   "metadata": {
    "ExecuteTime": {
     "end_time": "2025-06-27T12:09:45.393954Z",
     "start_time": "2025-06-27T12:09:45.388593Z"
    }
   },
   "cell_type": "code",
   "source": "data",
   "id": "8b1509c6dcefb9cc",
   "outputs": [
    {
     "data": {
      "text/plain": [
       "array([[  4,   7],\n",
       "       [  0,   2],\n",
       "       [ -5,   6],\n",
       "       [  0,   0],\n",
       "       [  1,   2],\n",
       "       [-12,  -4],\n",
       "       [  3,   4]])"
      ]
     },
     "execution_count": 63,
     "metadata": {},
     "output_type": "execute_result"
    }
   ],
   "execution_count": 63
  },
  {
   "metadata": {
    "ExecuteTime": {
     "end_time": "2025-06-27T12:09:45.486489Z",
     "start_time": "2025-06-27T12:09:45.479507Z"
    }
   },
   "cell_type": "code",
   "source": "names==\"Bob\"",
   "id": "e56e1e4f49c5af72",
   "outputs": [
    {
     "data": {
      "text/plain": [
       "array([ True, False, False,  True, False, False, False])"
      ]
     },
     "execution_count": 64,
     "metadata": {},
     "output_type": "execute_result"
    }
   ],
   "execution_count": 64
  },
  {
   "metadata": {
    "ExecuteTime": {
     "end_time": "2025-06-27T12:09:45.678518Z",
     "start_time": "2025-06-27T12:09:45.672339Z"
    }
   },
   "cell_type": "code",
   "source": "data[names==\"Bob\"]",
   "id": "1c321dd50b0a3182",
   "outputs": [
    {
     "data": {
      "text/plain": [
       "array([[4, 7],\n",
       "       [0, 0]])"
      ]
     },
     "execution_count": 65,
     "metadata": {},
     "output_type": "execute_result"
    }
   ],
   "execution_count": 65
  },
  {
   "metadata": {
    "ExecuteTime": {
     "end_time": "2025-06-27T12:09:45.789788Z",
     "start_time": "2025-06-27T12:09:45.782781Z"
    }
   },
   "cell_type": "code",
   "source": [
    "arr=np.zeros((8,4),dtype='int64')\n",
    "for i in range(8):\n",
    "    arr[i]=i\n",
    "\n",
    "arr"
   ],
   "id": "4f4b5e90a96e5945",
   "outputs": [
    {
     "data": {
      "text/plain": [
       "array([[0, 0, 0, 0],\n",
       "       [1, 1, 1, 1],\n",
       "       [2, 2, 2, 2],\n",
       "       [3, 3, 3, 3],\n",
       "       [4, 4, 4, 4],\n",
       "       [5, 5, 5, 5],\n",
       "       [6, 6, 6, 6],\n",
       "       [7, 7, 7, 7]])"
      ]
     },
     "execution_count": 66,
     "metadata": {},
     "output_type": "execute_result"
    }
   ],
   "execution_count": 66
  },
  {
   "metadata": {
    "ExecuteTime": {
     "end_time": "2025-06-27T12:09:46.008344Z",
     "start_time": "2025-06-27T12:09:46.001089Z"
    }
   },
   "cell_type": "code",
   "source": "arr[[4,3,0,6]] # displaying 4th row,3rd row and 0,6",
   "id": "6af480ec3b031410",
   "outputs": [
    {
     "data": {
      "text/plain": [
       "array([[4, 4, 4, 4],\n",
       "       [3, 3, 3, 3],\n",
       "       [0, 0, 0, 0],\n",
       "       [6, 6, 6, 6]])"
      ]
     },
     "execution_count": 67,
     "metadata": {},
     "output_type": "execute_result"
    }
   ],
   "execution_count": 67
  },
  {
   "metadata": {
    "ExecuteTime": {
     "end_time": "2025-06-27T12:09:46.278565Z",
     "start_time": "2025-06-27T12:09:46.272465Z"
    }
   },
   "cell_type": "code",
   "source": [
    "arr=np.arange(32).reshape((8,4))\n",
    "arr"
   ],
   "id": "bc4d1d5a12aa39b9",
   "outputs": [
    {
     "data": {
      "text/plain": [
       "array([[ 0,  1,  2,  3],\n",
       "       [ 4,  5,  6,  7],\n",
       "       [ 8,  9, 10, 11],\n",
       "       [12, 13, 14, 15],\n",
       "       [16, 17, 18, 19],\n",
       "       [20, 21, 22, 23],\n",
       "       [24, 25, 26, 27],\n",
       "       [28, 29, 30, 31]])"
      ]
     },
     "execution_count": 68,
     "metadata": {},
     "output_type": "execute_result"
    }
   ],
   "execution_count": 68
  },
  {
   "metadata": {
    "ExecuteTime": {
     "end_time": "2025-06-27T12:09:46.521323Z",
     "start_time": "2025-06-27T12:09:46.514980Z"
    }
   },
   "cell_type": "code",
   "source": "arr[[1,5,7,2],[0,3,1,2]]",
   "id": "ec7c0bc3971477f5",
   "outputs": [
    {
     "data": {
      "text/plain": [
       "array([ 4, 23, 29, 10])"
      ]
     },
     "execution_count": 69,
     "metadata": {},
     "output_type": "execute_result"
    }
   ],
   "execution_count": 69
  },
  {
   "metadata": {
    "ExecuteTime": {
     "end_time": "2025-06-27T12:09:46.782951Z",
     "start_time": "2025-06-27T12:09:46.775465Z"
    }
   },
   "cell_type": "code",
   "source": "arr[[1, 5, 7, 2]][:, [0, 3, 1, 2]]",
   "id": "99f0263a76ed30d4",
   "outputs": [
    {
     "data": {
      "text/plain": [
       "array([[ 4,  7,  5,  6],\n",
       "       [20, 23, 21, 22],\n",
       "       [28, 31, 29, 30],\n",
       "       [ 8, 11,  9, 10]])"
      ]
     },
     "execution_count": 70,
     "metadata": {},
     "output_type": "execute_result"
    }
   ],
   "execution_count": 70
  },
  {
   "metadata": {},
   "cell_type": "markdown",
   "source": "## Transposing Arrays and Swapping Axes",
   "id": "c5cbaad875a06b59"
  },
  {
   "metadata": {
    "ExecuteTime": {
     "end_time": "2025-06-27T12:09:46.897097Z",
     "start_time": "2025-06-27T12:09:46.889938Z"
    }
   },
   "cell_type": "code",
   "source": [
    "arr=np.arange(15).reshape((3,5))\n",
    "arr"
   ],
   "id": "44243de10927e7ac",
   "outputs": [
    {
     "data": {
      "text/plain": [
       "array([[ 0,  1,  2,  3,  4],\n",
       "       [ 5,  6,  7,  8,  9],\n",
       "       [10, 11, 12, 13, 14]])"
      ]
     },
     "execution_count": 71,
     "metadata": {},
     "output_type": "execute_result"
    }
   ],
   "execution_count": 71
  },
  {
   "metadata": {
    "ExecuteTime": {
     "end_time": "2025-06-27T12:09:47.163732Z",
     "start_time": "2025-06-27T12:09:47.157330Z"
    }
   },
   "cell_type": "code",
   "source": "arr.T",
   "id": "1d25c4ebcffb4230",
   "outputs": [
    {
     "data": {
      "text/plain": [
       "array([[ 0,  5, 10],\n",
       "       [ 1,  6, 11],\n",
       "       [ 2,  7, 12],\n",
       "       [ 3,  8, 13],\n",
       "       [ 4,  9, 14]])"
      ]
     },
     "execution_count": 72,
     "metadata": {},
     "output_type": "execute_result"
    }
   ],
   "execution_count": 72
  },
  {
   "metadata": {
    "ExecuteTime": {
     "end_time": "2025-06-27T12:09:47.393891Z",
     "start_time": "2025-06-27T12:09:47.386594Z"
    }
   },
   "cell_type": "code",
   "source": [
    "arr = np.array([[0, 1, 0], [1, 2, -2], [6, 3, 2], [-1, 0, -1], [1, 0, 1\n",
    "]])\n",
    "arr"
   ],
   "id": "9c04b1bb50e8741f",
   "outputs": [
    {
     "data": {
      "text/plain": [
       "array([[ 0,  1,  0],\n",
       "       [ 1,  2, -2],\n",
       "       [ 6,  3,  2],\n",
       "       [-1,  0, -1],\n",
       "       [ 1,  0,  1]])"
      ]
     },
     "execution_count": 73,
     "metadata": {},
     "output_type": "execute_result"
    }
   ],
   "execution_count": 73
  },
  {
   "metadata": {
    "ExecuteTime": {
     "end_time": "2025-06-27T12:09:47.648261Z",
     "start_time": "2025-06-27T12:09:47.641556Z"
    }
   },
   "cell_type": "code",
   "source": "arr.T.dot(arr)",
   "id": "aecab5adc1ab1544",
   "outputs": [
    {
     "data": {
      "text/plain": [
       "array([[39, 20, 12],\n",
       "       [20, 14,  2],\n",
       "       [12,  2, 10]])"
      ]
     },
     "execution_count": 74,
     "metadata": {},
     "output_type": "execute_result"
    }
   ],
   "execution_count": 74
  },
  {
   "metadata": {
    "ExecuteTime": {
     "end_time": "2025-06-27T12:09:47.888935Z",
     "start_time": "2025-06-27T12:09:47.885145Z"
    }
   },
   "cell_type": "code",
   "source": "import math\n",
   "id": "6dfee467ec1ce4d5",
   "outputs": [],
   "execution_count": 75
  },
  {
   "metadata": {
    "ExecuteTime": {
     "end_time": "2025-06-27T12:09:48.017697Z",
     "start_time": "2025-06-27T12:09:48.011509Z"
    }
   },
   "cell_type": "code",
   "source": [
    "a=np.array([1,2,3])\n",
    "length_a=math.sqrt(a.dot(a))\n",
    "length_a"
   ],
   "id": "3738f575c15c787c",
   "outputs": [
    {
     "data": {
      "text/plain": [
       "3.7416573867739413"
      ]
     },
     "execution_count": 76,
     "metadata": {},
     "output_type": "execute_result"
    }
   ],
   "execution_count": 76
  },
  {
   "metadata": {
    "ExecuteTime": {
     "end_time": "2025-06-27T12:09:48.156423Z",
     "start_time": "2025-06-27T12:09:48.149581Z"
    }
   },
   "cell_type": "code",
   "source": [
    "a=np.array([[1,2,3],[4,5,6]])\n",
    "b=np.array([[1,2],[3,4],[5,6]])\n",
    "a@b"
   ],
   "id": "9c29c4c126856db2",
   "outputs": [
    {
     "data": {
      "text/plain": [
       "array([[22, 28],\n",
       "       [49, 64]])"
      ]
     },
     "execution_count": 77,
     "metadata": {},
     "output_type": "execute_result"
    }
   ],
   "execution_count": 77
  },
  {
   "metadata": {
    "ExecuteTime": {
     "end_time": "2025-06-27T12:09:48.276132Z",
     "start_time": "2025-06-27T12:09:48.266285Z"
    }
   },
   "cell_type": "code",
   "source": "arr",
   "id": "f680cb92a0f63de5",
   "outputs": [
    {
     "data": {
      "text/plain": [
       "array([[ 0,  1,  0],\n",
       "       [ 1,  2, -2],\n",
       "       [ 6,  3,  2],\n",
       "       [-1,  0, -1],\n",
       "       [ 1,  0,  1]])"
      ]
     },
     "execution_count": 78,
     "metadata": {},
     "output_type": "execute_result"
    }
   ],
   "execution_count": 78
  },
  {
   "metadata": {
    "ExecuteTime": {
     "end_time": "2025-06-27T12:09:48.476250Z",
     "start_time": "2025-06-27T12:09:48.470140Z"
    }
   },
   "cell_type": "code",
   "source": "arr.swapaxes(0,1)",
   "id": "8a1427738483531d",
   "outputs": [
    {
     "data": {
      "text/plain": [
       "array([[ 0,  1,  6, -1,  1],\n",
       "       [ 1,  2,  3,  0,  0],\n",
       "       [ 0, -2,  2, -1,  1]])"
      ]
     },
     "execution_count": 79,
     "metadata": {},
     "output_type": "execute_result"
    }
   ],
   "execution_count": 79
  },
  {
   "metadata": {},
   "cell_type": "markdown",
   "source": "## Pseudorandom Number Generation",
   "id": "6eb8b769cb58f6e0"
  },
  {
   "metadata": {
    "ExecuteTime": {
     "end_time": "2025-06-27T12:09:48.697810Z",
     "start_time": "2025-06-27T12:09:48.691776Z"
    }
   },
   "cell_type": "code",
   "source": [
    "samples=np.random.standard_normal(size=(4,4))\n",
    "samples"
   ],
   "id": "f124a7d9060c500e",
   "outputs": [
    {
     "data": {
      "text/plain": [
       "array([[ 1.79750137e-01,  5.20989110e-01,  7.61872035e-01,\n",
       "         9.95813626e-02],\n",
       "       [ 4.26980234e-01,  5.42110538e-01,  2.29301212e+00,\n",
       "         6.84401947e-01],\n",
       "       [-1.48410657e+00,  3.26346030e-01, -2.52420479e-03,\n",
       "         1.84776204e-01],\n",
       "       [-6.36394368e-01,  7.63821441e-01, -1.25510973e+00,\n",
       "         1.70936284e-03]])"
      ]
     },
     "execution_count": 80,
     "metadata": {},
     "output_type": "execute_result"
    }
   ],
   "execution_count": 80
  },
  {
   "metadata": {
    "ExecuteTime": {
     "end_time": "2025-06-27T12:09:49.013167Z",
     "start_time": "2025-06-27T12:09:49.002781Z"
    }
   },
   "cell_type": "code",
   "source": [
    "rng=np.random.default_rng(seed=12345)\n",
    "data=rng.standard_normal((2,3))\n",
    "data"
   ],
   "id": "30981b438b2e15d2",
   "outputs": [
    {
     "data": {
      "text/plain": [
       "array([[-1.42382504,  1.26372846, -0.87066174],\n",
       "       [-0.25917323, -0.07534331, -0.74088465]])"
      ]
     },
     "execution_count": 81,
     "metadata": {},
     "output_type": "execute_result"
    }
   ],
   "execution_count": 81
  },
  {
   "metadata": {
    "ExecuteTime": {
     "end_time": "2025-06-27T12:09:49.217975Z",
     "start_time": "2025-06-27T12:09:49.210426Z"
    }
   },
   "cell_type": "code",
   "source": "np.random.randint(1,10,size=(2,3))",
   "id": "81d56d69a1996e6c",
   "outputs": [
    {
     "data": {
      "text/plain": [
       "array([[2, 4, 9],\n",
       "       [7, 6, 7]], dtype=int32)"
      ]
     },
     "execution_count": 82,
     "metadata": {},
     "output_type": "execute_result"
    }
   ],
   "execution_count": 82
  },
  {
   "metadata": {
    "ExecuteTime": {
     "end_time": "2025-06-27T12:09:49.444748Z",
     "start_time": "2025-06-27T12:09:49.440413Z"
    }
   },
   "cell_type": "code",
   "source": "",
   "id": "c6f9e96c7d2080f4",
   "outputs": [],
   "execution_count": null
  },
  {
   "metadata": {
    "ExecuteTime": {
     "end_time": "2025-06-27T12:09:49.674739Z",
     "start_time": "2025-06-27T12:09:49.668278Z"
    }
   },
   "cell_type": "code",
   "source": "arr",
   "id": "88ec184a700de2aa",
   "outputs": [
    {
     "data": {
      "text/plain": [
       "array([[ 0,  1,  0],\n",
       "       [ 1,  2, -2],\n",
       "       [ 6,  3,  2],\n",
       "       [-1,  0, -1],\n",
       "       [ 1,  0,  1]])"
      ]
     },
     "execution_count": 83,
     "metadata": {},
     "output_type": "execute_result"
    }
   ],
   "execution_count": 83
  },
  {
   "metadata": {
    "ExecuteTime": {
     "end_time": "2025-06-27T12:09:49.804655Z",
     "start_time": "2025-06-27T12:09:49.794887Z"
    }
   },
   "cell_type": "code",
   "source": "arr[[1,2,3,4]]",
   "id": "1766a8d01b34ea7c",
   "outputs": [
    {
     "data": {
      "text/plain": [
       "array([[ 1,  2, -2],\n",
       "       [ 6,  3,  2],\n",
       "       [-1,  0, -1],\n",
       "       [ 1,  0,  1]])"
      ]
     },
     "execution_count": 84,
     "metadata": {},
     "output_type": "execute_result"
    }
   ],
   "execution_count": 84
  },
  {
   "metadata": {
    "ExecuteTime": {
     "end_time": "2025-06-27T12:09:50.046221Z",
     "start_time": "2025-06-27T12:09:50.039510Z"
    }
   },
   "cell_type": "code",
   "source": [
    "arr[[1,2,3,4],[0,0,0,0]]=[99]\n",
    "arr"
   ],
   "id": "b759e977d0a4f5d1",
   "outputs": [
    {
     "data": {
      "text/plain": [
       "array([[ 0,  1,  0],\n",
       "       [99,  2, -2],\n",
       "       [99,  3,  2],\n",
       "       [99,  0, -1],\n",
       "       [99,  0,  1]])"
      ]
     },
     "execution_count": 85,
     "metadata": {},
     "output_type": "execute_result"
    }
   ],
   "execution_count": 85
  },
  {
   "metadata": {},
   "cell_type": "markdown",
   "source": [
    "## Universal Functions: Fast Element-Wise Array Functions\n",
    "\n",
    "A universal function, or ufunc, is a function that performs element-wise operations on data in ndarrays."
   ],
   "id": "3d7ffd5b96a543"
  },
  {
   "metadata": {
    "ExecuteTime": {
     "end_time": "2025-06-27T12:09:50.326476Z",
     "start_time": "2025-06-27T12:09:50.321788Z"
    }
   },
   "cell_type": "code",
   "source": [
    "arr=np.arange(10)\n",
    "arr"
   ],
   "id": "858c871b85c429a7",
   "outputs": [
    {
     "data": {
      "text/plain": [
       "array([0, 1, 2, 3, 4, 5, 6, 7, 8, 9])"
      ]
     },
     "execution_count": 86,
     "metadata": {},
     "output_type": "execute_result"
    }
   ],
   "execution_count": 86
  },
  {
   "metadata": {
    "ExecuteTime": {
     "end_time": "2025-06-27T12:09:50.583581Z",
     "start_time": "2025-06-27T12:09:50.576472Z"
    }
   },
   "cell_type": "code",
   "source": "np.sqrt(arr).round(4)",
   "id": "106da1c7aedccfa7",
   "outputs": [
    {
     "data": {
      "text/plain": [
       "array([0.    , 1.    , 1.4142, 1.7321, 2.    , 2.2361, 2.4495, 2.6458,\n",
       "       2.8284, 3.    ])"
      ]
     },
     "execution_count": 87,
     "metadata": {},
     "output_type": "execute_result"
    }
   ],
   "execution_count": 87
  },
  {
   "metadata": {
    "ExecuteTime": {
     "end_time": "2025-06-27T12:09:50.705561Z",
     "start_time": "2025-06-27T12:09:50.698130Z"
    }
   },
   "cell_type": "code",
   "source": "np.exp(arr).round(4)",
   "id": "70cf9ae7e7ed9fb0",
   "outputs": [
    {
     "data": {
      "text/plain": [
       "array([1.0000000e+00, 2.7183000e+00, 7.3891000e+00, 2.0085500e+01,\n",
       "       5.4598200e+01, 1.4841320e+02, 4.0342880e+02, 1.0966332e+03,\n",
       "       2.9809580e+03, 8.1030839e+03])"
      ]
     },
     "execution_count": 88,
     "metadata": {},
     "output_type": "execute_result"
    }
   ],
   "execution_count": 88
  },
  {
   "metadata": {
    "ExecuteTime": {
     "end_time": "2025-06-27T12:09:50.771361Z",
     "start_time": "2025-06-27T12:09:50.765571Z"
    }
   },
   "cell_type": "code",
   "source": [
    "x=np.random.standard_normal(8).round(2)\n",
    "y=np.random.standard_normal(8).round(2)\n",
    "print(x)\n",
    "print(y)"
   ],
   "id": "501ccfe5196856ca",
   "outputs": [
    {
     "name": "stdout",
     "output_type": "stream",
     "text": [
      "[ 0.61  1.83 -0.52 -1.1   1.78  0.29  0.57  0.32]\n",
      "[ 0.34  3.11 -1.58  0.16  0.97  1.06  0.74 -1.18]\n"
     ]
    }
   ],
   "execution_count": 89
  },
  {
   "metadata": {
    "ExecuteTime": {
     "end_time": "2025-06-27T12:09:50.852773Z",
     "start_time": "2025-06-27T12:09:50.846770Z"
    }
   },
   "cell_type": "code",
   "source": "np.maximum(x,y)",
   "id": "abcde1db4d2e0656",
   "outputs": [
    {
     "data": {
      "text/plain": [
       "array([ 0.61,  3.11, -0.52,  0.16,  1.78,  1.06,  0.74,  0.32])"
      ]
     },
     "execution_count": 90,
     "metadata": {},
     "output_type": "execute_result"
    }
   ],
   "execution_count": 90
  },
  {
   "metadata": {
    "ExecuteTime": {
     "end_time": "2025-06-27T12:09:50.933378Z",
     "start_time": "2025-06-27T12:09:50.927361Z"
    }
   },
   "cell_type": "code",
   "source": "np.add(x,y)",
   "id": "c48a5bc839cfead",
   "outputs": [
    {
     "data": {
      "text/plain": [
       "array([ 0.95,  4.94, -2.1 , -0.94,  2.75,  1.35,  1.31, -0.86])"
      ]
     },
     "execution_count": 91,
     "metadata": {},
     "output_type": "execute_result"
    }
   ],
   "execution_count": 91
  },
  {
   "metadata": {
    "ExecuteTime": {
     "end_time": "2025-06-27T12:09:51.117283Z",
     "start_time": "2025-06-27T12:09:51.110070Z"
    }
   },
   "cell_type": "code",
   "source": [
    "arr=np.random.standard_normal(7).round(4)*5\n",
    "arr"
   ],
   "id": "cbae560fcc62706f",
   "outputs": [
    {
     "data": {
      "text/plain": [
       "array([ -6.6225,  -1.072 ,   3.5595,  -5.864 ,   4.901 , -11.3395,\n",
       "         5.4425])"
      ]
     },
     "execution_count": 92,
     "metadata": {},
     "output_type": "execute_result"
    }
   ],
   "execution_count": 92
  },
  {
   "metadata": {
    "ExecuteTime": {
     "end_time": "2025-06-27T12:09:51.195141Z",
     "start_time": "2025-06-27T12:09:51.191363Z"
    }
   },
   "cell_type": "code",
   "source": "remainder,whole_part=np.modf(arr)",
   "id": "8430bd470dc2ea65",
   "outputs": [],
   "execution_count": 93
  },
  {
   "metadata": {
    "ExecuteTime": {
     "end_time": "2025-06-27T12:09:51.245547Z",
     "start_time": "2025-06-27T12:09:51.239880Z"
    }
   },
   "cell_type": "code",
   "source": "remainder,whole_part",
   "id": "3556e4fe1cf3f4c",
   "outputs": [
    {
     "data": {
      "text/plain": [
       "(array([-0.6225, -0.072 ,  0.5595, -0.864 ,  0.901 , -0.3395,  0.4425]),\n",
       " array([ -6.,  -1.,   3.,  -5.,   4., -11.,   5.]))"
      ]
     },
     "execution_count": 94,
     "metadata": {},
     "output_type": "execute_result"
    }
   ],
   "execution_count": 94
  },
  {
   "metadata": {
    "ExecuteTime": {
     "end_time": "2025-06-27T12:09:51.303862Z",
     "start_time": "2025-06-27T12:09:51.295164Z"
    }
   },
   "cell_type": "code",
   "source": "arr",
   "id": "7a521585f2c25ec9",
   "outputs": [
    {
     "data": {
      "text/plain": [
       "array([ -6.6225,  -1.072 ,   3.5595,  -5.864 ,   4.901 , -11.3395,\n",
       "         5.4425])"
      ]
     },
     "execution_count": 95,
     "metadata": {},
     "output_type": "execute_result"
    }
   ],
   "execution_count": 95
  },
  {
   "metadata": {
    "ExecuteTime": {
     "end_time": "2025-06-27T12:09:51.368126Z",
     "start_time": "2025-06-27T12:09:51.361027Z"
    }
   },
   "cell_type": "code",
   "source": [
    "out=np.zeros_like(arr)\n",
    "np.add(arr,1)"
   ],
   "id": "84a9743df0e09807",
   "outputs": [
    {
     "data": {
      "text/plain": [
       "array([ -5.6225,  -0.072 ,   4.5595,  -4.864 ,   5.901 , -10.3395,\n",
       "         6.4425])"
      ]
     },
     "execution_count": 96,
     "metadata": {},
     "output_type": "execute_result"
    }
   ],
   "execution_count": 96
  },
  {
   "metadata": {
    "ExecuteTime": {
     "end_time": "2025-06-27T12:09:51.418221Z",
     "start_time": "2025-06-27T12:09:51.410815Z"
    }
   },
   "cell_type": "code",
   "source": [
    "# Ufuncs accept an optional out argument that allows them to assign their results into an existing array rather than create a new one:\n",
    "np.add(arr,1,out=out)"
   ],
   "id": "69a5008c90608a5a",
   "outputs": [
    {
     "data": {
      "text/plain": [
       "array([ -5.6225,  -0.072 ,   4.5595,  -4.864 ,   5.901 , -10.3395,\n",
       "         6.4425])"
      ]
     },
     "execution_count": 97,
     "metadata": {},
     "output_type": "execute_result"
    }
   ],
   "execution_count": 97
  },
  {
   "metadata": {
    "ExecuteTime": {
     "end_time": "2025-06-27T12:09:51.467578Z",
     "start_time": "2025-06-27T12:09:51.461433Z"
    }
   },
   "cell_type": "code",
   "source": "out",
   "id": "818257f2856c4005",
   "outputs": [
    {
     "data": {
      "text/plain": [
       "array([ -5.6225,  -0.072 ,   4.5595,  -4.864 ,   5.901 , -10.3395,\n",
       "         6.4425])"
      ]
     },
     "execution_count": 98,
     "metadata": {},
     "output_type": "execute_result"
    }
   ],
   "execution_count": 98
  },
  {
   "metadata": {
    "ExecuteTime": {
     "end_time": "2025-06-27T12:09:51.516190Z",
     "start_time": "2025-06-27T12:09:51.508793Z"
    }
   },
   "cell_type": "code",
   "source": "np.abs(arr),np.fabs(arr) # Compute the absolute value element-wise for integer, floating-point, or complex values",
   "id": "b800947f4a6b5f50",
   "outputs": [
    {
     "data": {
      "text/plain": [
       "(array([ 6.6225,  1.072 ,  3.5595,  5.864 ,  4.901 , 11.3395,  5.4425]),\n",
       " array([ 6.6225,  1.072 ,  3.5595,  5.864 ,  4.901 , 11.3395,  5.4425]))"
      ]
     },
     "execution_count": 99,
     "metadata": {},
     "output_type": "execute_result"
    }
   ],
   "execution_count": 99
  },
  {
   "metadata": {
    "ExecuteTime": {
     "end_time": "2025-06-27T12:09:51.592851Z",
     "start_time": "2025-06-27T12:09:51.586379Z"
    }
   },
   "cell_type": "code",
   "source": [
    "arr6=np.random.randint(3,88,6)\n",
    "arr6"
   ],
   "id": "887e48c037c756a5",
   "outputs": [
    {
     "data": {
      "text/plain": [
       "array([79, 32, 50, 33, 11, 66], dtype=int32)"
      ]
     },
     "execution_count": 100,
     "metadata": {},
     "output_type": "execute_result"
    }
   ],
   "execution_count": 100
  },
  {
   "metadata": {
    "ExecuteTime": {
     "end_time": "2025-06-27T12:09:51.660562Z",
     "start_time": "2025-06-27T12:09:51.653904Z"
    }
   },
   "cell_type": "code",
   "source": "np.sqrt(arr6) # Compute the square root of each element (equivalent to arr ** 0.5)",
   "id": "9d00e09e732aa6da",
   "outputs": [
    {
     "data": {
      "text/plain": [
       "array([8.88819442, 5.65685425, 7.07106781, 5.74456265, 3.31662479,\n",
       "       8.1240384 ])"
      ]
     },
     "execution_count": 101,
     "metadata": {},
     "output_type": "execute_result"
    }
   ],
   "execution_count": 101
  },
  {
   "metadata": {
    "ExecuteTime": {
     "end_time": "2025-06-27T12:09:51.717067Z",
     "start_time": "2025-06-27T12:09:51.710182Z"
    }
   },
   "cell_type": "code",
   "source": "np.square(arr6) # Compute the square of each element (equivalent to arr ** 2)",
   "id": "e0e3c8d526a58ef5",
   "outputs": [
    {
     "data": {
      "text/plain": [
       "array([6241, 1024, 2500, 1089,  121, 4356], dtype=int32)"
      ]
     },
     "execution_count": 102,
     "metadata": {},
     "output_type": "execute_result"
    }
   ],
   "execution_count": 102
  },
  {
   "metadata": {
    "ExecuteTime": {
     "end_time": "2025-06-27T12:09:51.756244Z",
     "start_time": "2025-06-27T12:09:51.748804Z"
    }
   },
   "cell_type": "code",
   "source": "np.exp(arr6) # Compute the exponent ex of each element",
   "id": "978878b59c853afe",
   "outputs": [
    {
     "data": {
      "text/plain": [
       "array([2.03828107e+34, 7.89629602e+13, 5.18470553e+21, 2.14643580e+14,\n",
       "       5.98741417e+04, 4.60718663e+28])"
      ]
     },
     "execution_count": 103,
     "metadata": {},
     "output_type": "execute_result"
    }
   ],
   "execution_count": 103
  },
  {
   "metadata": {
    "ExecuteTime": {
     "end_time": "2025-06-27T12:09:51.812965Z",
     "start_time": "2025-06-27T12:09:51.805335Z"
    }
   },
   "cell_type": "code",
   "source": [
    "np.log(arr6),np.log10(arr6),np.log2(arr6),np.log1p(arr6)\n",
    "#Natural logarithm (base e), log base 10, log base 2, and log(1 + x), respectively"
   ],
   "id": "e30e9411d379ee1d",
   "outputs": [
    {
     "data": {
      "text/plain": [
       "(array([4.36944785, 3.4657359 , 3.91202301, 3.49650756, 2.39789527,\n",
       "        4.18965474]),\n",
       " array([1.89762709, 1.50514998, 1.69897   , 1.51851394, 1.04139269,\n",
       "        1.81954394]),\n",
       " array([6.30378075, 5.        , 5.64385619, 5.04439412, 3.45943162,\n",
       "        6.04439412]),\n",
       " array([4.38202663, 3.49650756, 3.93182563, 3.52636052, 2.48490665,\n",
       "        4.20469262]))"
      ]
     },
     "execution_count": 104,
     "metadata": {},
     "output_type": "execute_result"
    }
   ],
   "execution_count": 104
  },
  {
   "metadata": {
    "ExecuteTime": {
     "end_time": "2025-06-27T12:09:51.877216Z",
     "start_time": "2025-06-27T12:09:51.870844Z"
    }
   },
   "cell_type": "code",
   "source": "np.sign(arr6) #Compute the sign of each element: 1 (positive), 0 (zero), or –1 (negative)",
   "id": "b64e509a6780a851",
   "outputs": [
    {
     "data": {
      "text/plain": [
       "array([1, 1, 1, 1, 1, 1], dtype=int32)"
      ]
     },
     "execution_count": 105,
     "metadata": {},
     "output_type": "execute_result"
    }
   ],
   "execution_count": 105
  },
  {
   "metadata": {
    "ExecuteTime": {
     "end_time": "2025-06-27T12:09:51.968993Z",
     "start_time": "2025-06-27T12:09:51.961549Z"
    }
   },
   "cell_type": "code",
   "source": "np.ceil(arr6) #Compute the ceiling of each element (i.e., the smallest integer greater than or equal to that number)",
   "id": "d0e926a202e4ee33",
   "outputs": [
    {
     "data": {
      "text/plain": [
       "array([79, 32, 50, 33, 11, 66], dtype=int32)"
      ]
     },
     "execution_count": 106,
     "metadata": {},
     "output_type": "execute_result"
    }
   ],
   "execution_count": 106
  },
  {
   "metadata": {
    "ExecuteTime": {
     "end_time": "2025-06-27T12:10:11.209539Z",
     "start_time": "2025-06-27T12:10:11.204562Z"
    }
   },
   "cell_type": "code",
   "source": "np.floor(arr6)",
   "id": "4934bd7e916d3cf1",
   "outputs": [
    {
     "data": {
      "text/plain": [
       "array([79, 32, 50, 33, 11, 66], dtype=int32)"
      ]
     },
     "execution_count": 107,
     "metadata": {},
     "output_type": "execute_result"
    }
   ],
   "execution_count": 107
  },
  {
   "metadata": {
    "ExecuteTime": {
     "end_time": "2025-06-27T12:10:58.462770Z",
     "start_time": "2025-06-27T12:10:58.458282Z"
    }
   },
   "cell_type": "code",
   "source": "np.rint(arr6) #\tRound elements to the nearest integer, preserving the dtype",
   "id": "38b7c1860355877e",
   "outputs": [
    {
     "data": {
      "text/plain": [
       "array([79., 32., 50., 33., 11., 66.])"
      ]
     },
     "execution_count": 108,
     "metadata": {},
     "output_type": "execute_result"
    }
   ],
   "execution_count": 108
  },
  {
   "metadata": {
    "ExecuteTime": {
     "end_time": "2025-06-27T12:17:39.357674Z",
     "start_time": "2025-06-27T12:17:39.347012Z"
    }
   },
   "cell_type": "code",
   "source": [
    "arr=np.random.standard_normal(8)*10\n",
    "arr"
   ],
   "id": "865f7ffb851c5d1e",
   "outputs": [
    {
     "data": {
      "text/plain": [
       "array([ -5.53780611,  19.51541291,  -3.36169812,  -9.54766982,\n",
       "        -7.92873391, -14.54666999,  18.51171049, -17.02460646])"
      ]
     },
     "execution_count": 119,
     "metadata": {},
     "output_type": "execute_result"
    }
   ],
   "execution_count": 119
  },
  {
   "metadata": {
    "ExecuteTime": {
     "end_time": "2025-06-27T12:17:41.830Z",
     "start_time": "2025-06-27T12:17:41.824030Z"
    }
   },
   "cell_type": "code",
   "source": [
    "rem,whole=np.modf(arr) # Return fractional and integral parts of array as separate arrays\n",
    "rem,whole"
   ],
   "id": "515bd35a269b39cf",
   "outputs": [
    {
     "data": {
      "text/plain": [
       "(array([-0.53780611,  0.51541291, -0.36169812, -0.54766982, -0.92873391,\n",
       "        -0.54666999,  0.51171049, -0.02460646]),\n",
       " array([ -5.,  19.,  -3.,  -9.,  -7., -14.,  18., -17.]))"
      ]
     },
     "execution_count": 120,
     "metadata": {},
     "output_type": "execute_result"
    }
   ],
   "execution_count": 120
  },
  {
   "metadata": {
    "ExecuteTime": {
     "end_time": "2025-06-27T12:17:44.028162Z",
     "start_time": "2025-06-27T12:17:44.023730Z"
    }
   },
   "cell_type": "code",
   "source": "np.isnan(arr) # Return Boolean array indicating whether each value is NaN (Not a Number)",
   "id": "e7b743571ca0a11b",
   "outputs": [
    {
     "data": {
      "text/plain": [
       "array([False, False, False, False, False, False, False, False])"
      ]
     },
     "execution_count": 121,
     "metadata": {},
     "output_type": "execute_result"
    }
   ],
   "execution_count": 121
  },
  {
   "metadata": {
    "ExecuteTime": {
     "end_time": "2025-06-27T12:17:46.889621Z",
     "start_time": "2025-06-27T12:17:46.883771Z"
    }
   },
   "cell_type": "code",
   "source": "arr6,arr",
   "id": "e197cb7a4236d07",
   "outputs": [
    {
     "data": {
      "text/plain": [
       "(array([79, 32, 50, 33, 11, 66], dtype=int32),\n",
       " array([ -5.53780611,  19.51541291,  -3.36169812,  -9.54766982,\n",
       "         -7.92873391, -14.54666999,  18.51171049, -17.02460646]))"
      ]
     },
     "execution_count": 122,
     "metadata": {},
     "output_type": "execute_result"
    }
   ],
   "execution_count": 122
  },
  {
   "metadata": {
    "ExecuteTime": {
     "end_time": "2025-06-27T12:18:56.027804Z",
     "start_time": "2025-06-27T12:18:56.019243Z"
    }
   },
   "cell_type": "code",
   "source": [
    "arr7=np.zeros_like(arr) # creating an all zeros array like shape of the arr\n",
    "arr7=np.add(arr,1) # converting arr7 using add function (adding 1 to each element in arr)\n",
    "arr7"
   ],
   "id": "7d41ad8bd3201de",
   "outputs": [
    {
     "data": {
      "text/plain": [
       "array([ -4.53780611,  20.51541291,  -2.36169812,  -8.54766982,\n",
       "        -6.92873391, -13.54666999,  19.51171049, -16.02460646])"
      ]
     },
     "execution_count": 128,
     "metadata": {},
     "output_type": "execute_result"
    }
   ],
   "execution_count": 128
  },
  {
   "metadata": {
    "ExecuteTime": {
     "end_time": "2025-06-27T12:19:39.386068Z",
     "start_time": "2025-06-27T12:19:39.380795Z"
    }
   },
   "cell_type": "code",
   "source": "np.add(arr,arr7)",
   "id": "87301725a463c149",
   "outputs": [
    {
     "data": {
      "text/plain": [
       "array([-10.07561222,  40.03082582,  -5.72339624, -18.09533964,\n",
       "       -14.85746782, -28.09333999,  38.02342097, -33.04921292])"
      ]
     },
     "execution_count": 130,
     "metadata": {},
     "output_type": "execute_result"
    }
   ],
   "execution_count": 130
  },
  {
   "metadata": {
    "ExecuteTime": {
     "end_time": "2025-06-27T12:21:48.775932Z",
     "start_time": "2025-06-27T12:21:48.694496Z"
    }
   },
   "cell_type": "code",
   "source": "np.multiply(arr,arr7) # Multiply array elements",
   "id": "c7d5293df691d79e",
   "outputs": [
    {
     "data": {
      "text/plain": [
       "array([ 25.12949042, 400.36675389,   7.93931613,  81.61032913,\n",
       "        54.93608753, 197.05893791, 361.19513558, 272.81261865])"
      ]
     },
     "execution_count": 131,
     "metadata": {},
     "output_type": "execute_result"
    }
   ],
   "execution_count": 131
  },
  {
   "metadata": {
    "ExecuteTime": {
     "end_time": "2025-06-27T12:22:49.491410Z",
     "start_time": "2025-06-27T12:22:49.481333Z"
    }
   },
   "cell_type": "code",
   "source": "np.divide(arr,arr7),np.floor_divide(arr,arr7)  # Divide or floor divide (truncating the remainder)",
   "id": "32e21388a50d57dd",
   "outputs": [
    {
     "data": {
      "text/plain": [
       "(array([1.22037081, 0.95125616, 1.42342414, 1.11699095, 1.14432651,\n",
       "        1.07381888, 0.94874873, 1.06240403]),\n",
       " array([1., 0., 1., 1., 1., 1., 0., 1.]))"
      ]
     },
     "execution_count": 133,
     "metadata": {},
     "output_type": "execute_result"
    }
   ],
   "execution_count": 133
  },
  {
   "metadata": {
    "ExecuteTime": {
     "end_time": "2025-06-27T12:24:50.522703Z",
     "start_time": "2025-06-27T12:24:50.513616Z"
    }
   },
   "cell_type": "code",
   "source": "np.maximum(arr,arr7),np.fmax(arr,arr7) #Element-wise maximum; fmax ignores NaN",
   "id": "face5573522cf71a",
   "outputs": [
    {
     "data": {
      "text/plain": [
       "(array([ -4.53780611,  20.51541291,  -2.36169812,  -8.54766982,\n",
       "         -6.92873391, -13.54666999,  19.51171049, -16.02460646]),\n",
       " array([ -4.53780611,  20.51541291,  -2.36169812,  -8.54766982,\n",
       "         -6.92873391, -13.54666999,  19.51171049, -16.02460646]))"
      ]
     },
     "execution_count": 138,
     "metadata": {},
     "output_type": "execute_result"
    }
   ],
   "execution_count": 138
  },
  {
   "metadata": {
    "ExecuteTime": {
     "end_time": "2025-06-27T12:25:23.056885Z",
     "start_time": "2025-06-27T12:25:23.048663Z"
    }
   },
   "cell_type": "code",
   "source": "np.minimum(arr,arr7),np.fmin(arr,arr7) #Element-wise minimum; fmin ignores NaN",
   "id": "91efbf8a26edb522",
   "outputs": [
    {
     "data": {
      "text/plain": [
       "(array([ -5.53780611,  19.51541291,  -3.36169812,  -9.54766982,\n",
       "         -7.92873391, -14.54666999,  18.51171049, -17.02460646]),\n",
       " array([ -5.53780611,  19.51541291,  -3.36169812,  -9.54766982,\n",
       "         -7.92873391, -14.54666999,  18.51171049, -17.02460646]))"
      ]
     },
     "execution_count": 139,
     "metadata": {},
     "output_type": "execute_result"
    }
   ],
   "execution_count": 139
  },
  {
   "metadata": {},
   "cell_type": "markdown",
   "source": "## Array-Oriented Programming with Arrays",
   "id": "a7040b9462d22543"
  },
  {
   "metadata": {},
   "cell_type": "markdown",
   "source": "### Expressing Conditional Logic as Array Operations",
   "id": "6006d098b609a1eb"
  },
  {
   "metadata": {
    "ExecuteTime": {
     "end_time": "2025-06-27T12:38:49.188764Z",
     "start_time": "2025-06-27T12:38:49.160256Z"
    }
   },
   "cell_type": "code",
   "source": [
    "# The numpy.where function is a vectorized version of the ternary expression x if condition else y\n",
    "\n",
    "xarr=np.array([1.1,1.2,1.3,1.4,1.5])\n",
    "yarr=np.array([2.1,2.2,2.3,2.4,2.5])\n",
    "cond=np.array([True,False,True,True,False])\n",
    "\n",
    "np.where(cond,xarr,yarr) #value from xarr whenever the corresponding value in cond is True, and otherwise take the value from yarr"
   ],
   "id": "98dce13f9a2fd65a",
   "outputs": [
    {
     "data": {
      "text/plain": [
       "array([1.1, 2.2, 1.3, 1.4, 2.5])"
      ]
     },
     "execution_count": 142,
     "metadata": {},
     "output_type": "execute_result"
    }
   ],
   "execution_count": 142
  },
  {
   "metadata": {
    "ExecuteTime": {
     "end_time": "2025-06-27T12:43:35.256594Z",
     "start_time": "2025-06-27T12:43:35.250646Z"
    }
   },
   "cell_type": "code",
   "source": [
    "arr=np.random.standard_normal((4,4)) # generating a random numbers array with shape 4x4\n",
    "arr,arr>0,np.where(arr>0,2,-2) #arr>0 output an array where values >0 as True and otherwise false, np.where: 1st argument condition, 2nd argument if greater than zero replace all the values with 2 and otherwise -2"
   ],
   "id": "27fd32cc0d8a9ae",
   "outputs": [
    {
     "data": {
      "text/plain": [
       "(array([[ 0.5902565 , -0.20363446, -0.05320187,  0.69315995],\n",
       "        [ 1.39909233, -0.39105796,  1.24083603,  2.22735634],\n",
       "        [ 0.48153166,  0.41760186, -1.20272831, -0.59794994],\n",
       "        [-0.06325201, -0.65114914, -0.82071866,  1.12046131]]),\n",
       " array([[ True, False, False,  True],\n",
       "        [ True, False,  True,  True],\n",
       "        [ True,  True, False, False],\n",
       "        [False, False, False,  True]]),\n",
       " array([[ 2, -2, -2,  2],\n",
       "        [ 2, -2,  2,  2],\n",
       "        [ 2,  2, -2, -2],\n",
       "        [-2, -2, -2,  2]]))"
      ]
     },
     "execution_count": 147,
     "metadata": {},
     "output_type": "execute_result"
    }
   ],
   "execution_count": 147
  },
  {
   "metadata": {
    "ExecuteTime": {
     "end_time": "2025-06-27T12:46:06.703997Z",
     "start_time": "2025-06-27T12:46:06.696295Z"
    }
   },
   "cell_type": "code",
   "source": "np.where(arr>0,2,arr) # # set only positive values to 2",
   "id": "f76b63f574acc406",
   "outputs": [
    {
     "data": {
      "text/plain": [
       "array([[ 2.        , -0.20363446, -0.05320187,  2.        ],\n",
       "       [ 2.        , -0.39105796,  2.        ,  2.        ],\n",
       "       [ 2.        ,  2.        , -1.20272831, -0.59794994],\n",
       "       [-0.06325201, -0.65114914, -0.82071866,  2.        ]])"
      ]
     },
     "execution_count": 150,
     "metadata": {},
     "output_type": "execute_result"
    }
   ],
   "execution_count": 150
  },
  {
   "metadata": {
    "ExecuteTime": {
     "end_time": "2025-06-27T12:45:50.748596Z",
     "start_time": "2025-06-27T12:45:50.735526Z"
    }
   },
   "cell_type": "code",
   "source": [
    "gender=np.array([\"Male\",\"Male\",\"Female\",\"Male\",\"Female\",\"Female\"])\n",
    "np.where(gender==\"Male\",1,-1)"
   ],
   "id": "6de8655f976bfbfc",
   "outputs": [
    {
     "data": {
      "text/plain": [
       "array([ 1,  1, -1,  1, -1, -1])"
      ]
     },
     "execution_count": 149,
     "metadata": {},
     "output_type": "execute_result"
    }
   ],
   "execution_count": 149
  },
  {
   "metadata": {},
   "cell_type": "markdown",
   "source": "### Mathematical and Statistical Methods",
   "id": "6de0ee094c2e7523"
  },
  {
   "metadata": {
    "ExecuteTime": {
     "end_time": "2025-06-27T14:37:46.957638Z",
     "start_time": "2025-06-27T14:37:46.944260Z"
    }
   },
   "cell_type": "code",
   "source": [
    "arr=np.random.standard_normal((5,4))\n",
    "arr"
   ],
   "id": "7b0c4e96acf524c3",
   "outputs": [
    {
     "data": {
      "text/plain": [
       "array([[-0.53359856,  1.14462745,  1.3603127 ,  1.8396425 ],\n",
       "       [ 0.20093507, -1.2753186 , -1.17169105,  0.65950185],\n",
       "       [ 0.03933467,  0.11003969,  0.13531084,  0.44276894],\n",
       "       [-2.27792575, -0.35948128,  0.24802044,  1.92486598],\n",
       "       [ 0.30356836, -0.90942295,  0.66531263,  0.63624057]])"
      ]
     },
     "execution_count": 152,
     "metadata": {},
     "output_type": "execute_result"
    }
   ],
   "execution_count": 152
  },
  {
   "metadata": {
    "ExecuteTime": {
     "end_time": "2025-06-27T14:41:36.016227Z",
     "start_time": "2025-06-27T14:41:35.996524Z"
    }
   },
   "cell_type": "code",
   "source": "arr.mean(),np.mean(arr)",
   "id": "2630f7b36423709d",
   "outputs": [
    {
     "data": {
      "text/plain": [
       "(np.float64(0.15915217541538568), np.float64(0.15915217541538568))"
      ]
     },
     "execution_count": 155,
     "metadata": {},
     "output_type": "execute_result"
    }
   ],
   "execution_count": 155
  },
  {
   "metadata": {
    "ExecuteTime": {
     "end_time": "2025-06-27T14:45:20.812416Z",
     "start_time": "2025-06-27T14:45:20.800145Z"
    }
   },
   "cell_type": "code",
   "source": "np.sum(arr),arr.sum()",
   "id": "ffaaf7bf4e90b30e",
   "outputs": [
    {
     "data": {
      "text/plain": [
       "(np.float64(3.1830435083077138), np.float64(3.1830435083077138))"
      ]
     },
     "execution_count": 160,
     "metadata": {},
     "output_type": "execute_result"
    }
   ],
   "execution_count": 160
  },
  {
   "metadata": {},
   "cell_type": "markdown",
   "source": [
    "axis=0 → Down the rows → Column-wise operation\n",
    "axis=1 → Across the columns → Row-wise operation"
   ],
   "id": "534d22641a02433b"
  },
  {
   "metadata": {
    "ExecuteTime": {
     "end_time": "2025-06-27T14:42:30.025257Z",
     "start_time": "2025-06-27T14:42:30.015520Z"
    }
   },
   "cell_type": "code",
   "source": "arr.sum(axis=0) #, it calculates the sum column-wise (down each column)",
   "id": "9f755c36c094e091",
   "outputs": [
    {
     "data": {
      "text/plain": [
       "array([-2.2676862 , -1.28955569,  1.23726555,  5.50301985])"
      ]
     },
     "execution_count": 158,
     "metadata": {},
     "output_type": "execute_result"
    }
   ],
   "execution_count": 158
  },
  {
   "metadata": {
    "ExecuteTime": {
     "end_time": "2025-06-27T14:44:09.261964Z",
     "start_time": "2025-06-27T14:44:09.211455Z"
    }
   },
   "cell_type": "code",
   "source": "arr.mean(axis=1) #it calculates the mean row-wise (across each row)",
   "id": "3a7c3180ef023bdb",
   "outputs": [
    {
     "data": {
      "text/plain": [
       "array([ 0.95274602, -0.39664318,  0.18186353, -0.11613015,  0.17392465])"
      ]
     },
     "execution_count": 159,
     "metadata": {},
     "output_type": "execute_result"
    }
   ],
   "execution_count": 159
  },
  {
   "metadata": {
    "ExecuteTime": {
     "end_time": "2025-06-27T14:46:45.783170Z",
     "start_time": "2025-06-27T14:46:45.764340Z"
    }
   },
   "cell_type": "code",
   "source": [
    "arr=np.array([0,1,2,3,4,5,6,7])\n",
    "arr.cumsum() ## Cumulative sum means adding each element to the sum of all the previous elements."
   ],
   "id": "4737a2f74d318bfc",
   "outputs": [
    {
     "data": {
      "text/plain": [
       "array([ 0,  1,  3,  6, 10, 15, 21, 28])"
      ]
     },
     "execution_count": 161,
     "metadata": {},
     "output_type": "execute_result"
    }
   ],
   "execution_count": 161
  },
  {
   "metadata": {
    "ExecuteTime": {
     "end_time": "2025-06-27T14:49:06.221826Z",
     "start_time": "2025-06-27T14:49:06.196356Z"
    }
   },
   "cell_type": "code",
   "source": [
    "arr=np.array([[0,1,2],[3,4,5],[6,7,8]])\n",
    "arr\n"
   ],
   "id": "6361febad3aaf4c2",
   "outputs": [
    {
     "data": {
      "text/plain": [
       "array([[0, 1, 2],\n",
       "       [3, 4, 5],\n",
       "       [6, 7, 8]])"
      ]
     },
     "execution_count": 162,
     "metadata": {},
     "output_type": "execute_result"
    }
   ],
   "execution_count": 162
  },
  {
   "metadata": {
    "ExecuteTime": {
     "end_time": "2025-06-27T14:49:20.070945Z",
     "start_time": "2025-06-27T14:49:20.055232Z"
    }
   },
   "cell_type": "code",
   "source": "arr.cumsum(axis=0) # Sum down columns",
   "id": "fb9ce61bad0c57a",
   "outputs": [
    {
     "data": {
      "text/plain": [
       "array([[ 0,  1,  2],\n",
       "       [ 3,  5,  7],\n",
       "       [ 9, 12, 15]])"
      ]
     },
     "execution_count": 163,
     "metadata": {},
     "output_type": "execute_result"
    }
   ],
   "execution_count": 163
  },
  {
   "metadata": {
    "ExecuteTime": {
     "end_time": "2025-06-27T14:50:47.989461Z",
     "start_time": "2025-06-27T14:50:47.790802Z"
    }
   },
   "cell_type": "code",
   "source": "arr.cumsum(axis=1) # Sum across rows",
   "id": "2275f33702e6ed5d",
   "outputs": [
    {
     "data": {
      "text/plain": [
       "array([[ 0,  1,  3],\n",
       "       [ 3,  7, 12],\n",
       "       [ 6, 13, 21]])"
      ]
     },
     "execution_count": 164,
     "metadata": {},
     "output_type": "execute_result"
    }
   ],
   "execution_count": 164
  },
  {
   "metadata": {
    "ExecuteTime": {
     "end_time": "2025-06-27T14:53:24.489091Z",
     "start_time": "2025-06-27T14:53:24.478939Z"
    }
   },
   "cell_type": "code",
   "source": "arr.std(),arr.var() # Standard deviation and variance, respectively",
   "id": "39efad2707fdad7",
   "outputs": [
    {
     "data": {
      "text/plain": [
       "(np.float64(2.581988897471611), np.float64(6.666666666666667))"
      ]
     },
     "execution_count": 167,
     "metadata": {},
     "output_type": "execute_result"
    }
   ],
   "execution_count": 167
  },
  {
   "metadata": {
    "ExecuteTime": {
     "end_time": "2025-06-27T14:54:27.271827Z",
     "start_time": "2025-06-27T14:54:27.258358Z"
    }
   },
   "cell_type": "code",
   "source": "arr,arr.max(axis=0),arr.min(axis=1) # Minimum and maximum",
   "id": "776418b3cc5aafae",
   "outputs": [
    {
     "data": {
      "text/plain": [
       "(array([[0, 1, 2],\n",
       "        [3, 4, 5],\n",
       "        [6, 7, 8]]),\n",
       " array([6, 7, 8]),\n",
       " array([0, 3, 6]))"
      ]
     },
     "execution_count": 171,
     "metadata": {},
     "output_type": "execute_result"
    }
   ],
   "execution_count": 171
  },
  {
   "metadata": {
    "ExecuteTime": {
     "end_time": "2025-06-27T14:57:16.707171Z",
     "start_time": "2025-06-27T14:57:16.699122Z"
    }
   },
   "cell_type": "code",
   "source": "arr.argmin(axis=1),arr.argmax(axis=0)",
   "id": "d9a81562e56d0675",
   "outputs": [
    {
     "data": {
      "text/plain": [
       "(array([0, 0, 0]), array([2, 2, 2]))"
      ]
     },
     "execution_count": 177,
     "metadata": {},
     "output_type": "execute_result"
    }
   ],
   "execution_count": 177
  },
  {
   "metadata": {
    "ExecuteTime": {
     "end_time": "2025-06-27T14:58:13.319486Z",
     "start_time": "2025-06-27T14:58:13.311794Z"
    }
   },
   "cell_type": "code",
   "source": "arr,arr.cumprod(axis=0) # Cumulative product of elements starting from 1",
   "id": "1a4675a11276e8f6",
   "outputs": [
    {
     "data": {
      "text/plain": [
       "(array([[0, 1, 2],\n",
       "        [3, 4, 5],\n",
       "        [6, 7, 8]]),\n",
       " array([[ 0,  1,  2],\n",
       "        [ 0,  4, 10],\n",
       "        [ 0, 28, 80]]))"
      ]
     },
     "execution_count": 181,
     "metadata": {},
     "output_type": "execute_result"
    }
   ],
   "execution_count": 181
  },
  {
   "metadata": {},
   "cell_type": "markdown",
   "source": "### Methods for Boolean Arrays",
   "id": "18735238b75afe27"
  },
  {
   "metadata": {},
   "cell_type": "markdown",
   "source": "Boolean values are coerced to 1 (True) and 0 (False) in the preceding methods.",
   "id": "d9a878169c478a56"
  },
  {
   "metadata": {
    "ExecuteTime": {
     "end_time": "2025-06-27T15:03:54.256014Z",
     "start_time": "2025-06-27T15:03:54.245898Z"
    }
   },
   "cell_type": "code",
   "source": "arr=np.random.standard_normal(100)",
   "id": "422888860e84cc76",
   "outputs": [],
   "execution_count": 189
  },
  {
   "metadata": {
    "ExecuteTime": {
     "end_time": "2025-06-27T15:03:56.505214Z",
     "start_time": "2025-06-27T15:03:56.499671Z"
    }
   },
   "cell_type": "code",
   "source": "(arr>0).sum() # Number of positive values",
   "id": "f0e6d5cc1361137",
   "outputs": [
    {
     "data": {
      "text/plain": [
       "np.int64(55)"
      ]
     },
     "execution_count": 190,
     "metadata": {},
     "output_type": "execute_result"
    }
   ],
   "execution_count": 190
  },
  {
   "metadata": {
    "ExecuteTime": {
     "end_time": "2025-06-27T15:03:59.083709Z",
     "start_time": "2025-06-27T15:03:59.076600Z"
    }
   },
   "cell_type": "code",
   "source": "(arr<=0).sum() # number of non-positive values",
   "id": "2c2cccffd5184543",
   "outputs": [
    {
     "data": {
      "text/plain": [
       "np.int64(45)"
      ]
     },
     "execution_count": 191,
     "metadata": {},
     "output_type": "execute_result"
    }
   ],
   "execution_count": 191
  },
  {
   "metadata": {
    "ExecuteTime": {
     "end_time": "2025-06-27T15:05:42.711103Z",
     "start_time": "2025-06-27T15:05:42.695204Z"
    }
   },
   "cell_type": "code",
   "source": [
    "bools=np.array([True,False,True,False,False])\n",
    "bools.any(),bools.all() # any tests whether one or more values in an array is True, while all checks if every value is True"
   ],
   "id": "732a3fee526710d2",
   "outputs": [
    {
     "data": {
      "text/plain": [
       "(np.True_, np.False_)"
      ]
     },
     "execution_count": 193,
     "metadata": {},
     "output_type": "execute_result"
    }
   ],
   "execution_count": 193
  },
  {
   "metadata": {},
   "cell_type": "markdown",
   "source": "### Sorting",
   "id": "da496a5174d269a"
  },
  {
   "metadata": {
    "ExecuteTime": {
     "end_time": "2025-06-27T15:13:15.523217Z",
     "start_time": "2025-06-27T15:13:15.508333Z"
    }
   },
   "cell_type": "code",
   "source": [
    "arr=np.random.standard_normal((5,3))\n",
    "arr"
   ],
   "id": "6df622f55bcaefcf",
   "outputs": [
    {
     "data": {
      "text/plain": [
       "array([[ 0.82920271,  0.06111216, -0.38827806],\n",
       "       [-0.54314758, -1.30065972, -1.67909283],\n",
       "       [-0.35236085, -0.89042655,  0.85686952],\n",
       "       [ 0.1557355 ,  2.21854418,  0.74911864],\n",
       "       [-1.60625019,  0.30858707, -1.26560289]])"
      ]
     },
     "execution_count": 195,
     "metadata": {},
     "output_type": "execute_result"
    }
   ],
   "execution_count": 195
  },
  {
   "metadata": {
    "ExecuteTime": {
     "end_time": "2025-06-27T15:13:45.798945Z",
     "start_time": "2025-06-27T15:13:45.792735Z"
    }
   },
   "cell_type": "code",
   "source": [
    "arr.sort(axis=0)\n",
    "arr"
   ],
   "id": "6fe06f638b45383a",
   "outputs": [
    {
     "data": {
      "text/plain": [
       "array([[-1.60625019, -1.30065972, -1.67909283],\n",
       "       [-0.54314758, -0.89042655, -1.26560289],\n",
       "       [-0.35236085,  0.06111216, -0.38827806],\n",
       "       [ 0.1557355 ,  0.30858707,  0.74911864],\n",
       "       [ 0.82920271,  2.21854418,  0.85686952]])"
      ]
     },
     "execution_count": 197,
     "metadata": {},
     "output_type": "execute_result"
    }
   ],
   "execution_count": 197
  },
  {
   "metadata": {
    "ExecuteTime": {
     "end_time": "2025-06-27T15:14:23.005630Z",
     "start_time": "2025-06-27T15:14:23.000098Z"
    }
   },
   "cell_type": "code",
   "source": [
    "arr.sort(axis=1)\n",
    "arr"
   ],
   "id": "a7f77876d764788",
   "outputs": [
    {
     "data": {
      "text/plain": [
       "array([[-1.67909283, -1.60625019, -1.30065972],\n",
       "       [-1.26560289, -0.89042655, -0.54314758],\n",
       "       [-0.38827806, -0.35236085,  0.06111216],\n",
       "       [ 0.1557355 ,  0.30858707,  0.74911864],\n",
       "       [ 0.82920271,  0.85686952,  2.21854418]])"
      ]
     },
     "execution_count": 199,
     "metadata": {},
     "output_type": "execute_result"
    }
   ],
   "execution_count": 199
  },
  {
   "metadata": {
    "ExecuteTime": {
     "end_time": "2025-06-27T15:15:53.408346Z",
     "start_time": "2025-06-27T15:15:53.390152Z"
    }
   },
   "cell_type": "code",
   "source": [
    "#The top-level method numpy.sort returns a sorted copy of an array (like the Python built-in function sorted) instead of modifying the array in place.\n",
    "arr2=np.array([5,-10,7,1,0,-3])\n",
    "sorted_arr2=np.sort(arr2)\n",
    "sorted_arr2"
   ],
   "id": "3b7421b672493f52",
   "outputs": [
    {
     "data": {
      "text/plain": [
       "array([-10,  -3,   0,   1,   5,   7])"
      ]
     },
     "execution_count": 200,
     "metadata": {},
     "output_type": "execute_result"
    }
   ],
   "execution_count": 200
  },
  {
   "metadata": {},
   "cell_type": "markdown",
   "source": "### Unique and Other Set Logic",
   "id": "c11c4f454432b4e7"
  },
  {
   "metadata": {},
   "cell_type": "markdown",
   "source": "NumPy has some basic set operations for one-dimensional ndarrays. A commonly used one is numpy.unique, which returns the sorted unique values in an array",
   "id": "bc370fcfc16be487"
  },
  {
   "metadata": {
    "ExecuteTime": {
     "end_time": "2025-06-27T15:18:26.082441Z",
     "start_time": "2025-06-27T15:18:26.010455Z"
    }
   },
   "cell_type": "code",
   "source": [
    "names=np.array([\"Bob\", \"Will\", \"Joe\", \"Bob\", \"Will\", \"Joe\", \"Joe\"])\n",
    "np.unique(names)"
   ],
   "id": "44f364574c930244",
   "outputs": [
    {
     "data": {
      "text/plain": [
       "array(['Bob', 'Joe', 'Will'], dtype='<U4')"
      ]
     },
     "execution_count": 201,
     "metadata": {},
     "output_type": "execute_result"
    }
   ],
   "execution_count": 201
  },
  {
   "metadata": {
    "ExecuteTime": {
     "end_time": "2025-06-27T15:19:09.165954Z",
     "start_time": "2025-06-27T15:19:09.147200Z"
    }
   },
   "cell_type": "code",
   "source": [
    "ints=np.array([3, 3, 3, 2, 2, 1, 1, 4, 4])\n",
    "np.unique((ints))"
   ],
   "id": "ce5aebc4bc35c8be",
   "outputs": [
    {
     "data": {
      "text/plain": [
       "array([1, 2, 3, 4])"
      ]
     },
     "execution_count": 202,
     "metadata": {},
     "output_type": "execute_result"
    }
   ],
   "execution_count": 202
  },
  {
   "metadata": {
    "ExecuteTime": {
     "end_time": "2025-06-27T15:19:36.114581Z",
     "start_time": "2025-06-27T15:19:36.101360Z"
    }
   },
   "cell_type": "code",
   "source": "sorted(set(names))",
   "id": "78fbbc01fe3b69e0",
   "outputs": [
    {
     "data": {
      "text/plain": [
       "[np.str_('Bob'), np.str_('Joe'), np.str_('Will')]"
      ]
     },
     "execution_count": 203,
     "metadata": {},
     "output_type": "execute_result"
    }
   ],
   "execution_count": 203
  },
  {
   "metadata": {
    "ExecuteTime": {
     "end_time": "2025-06-27T15:21:34.277934Z",
     "start_time": "2025-06-27T15:21:34.219788Z"
    }
   },
   "cell_type": "code",
   "source": [
    "values=np.array([6, 0, 0, 3, 2, 5, 6])\n",
    "np.isin(values,[2,3,6])"
   ],
   "id": "7af61a49c5798553",
   "outputs": [
    {
     "data": {
      "text/plain": [
       "array([ True, False, False,  True,  True, False,  True])"
      ]
     },
     "execution_count": 204,
     "metadata": {},
     "output_type": "execute_result"
    }
   ],
   "execution_count": 204
  },
  {
   "metadata": {},
   "cell_type": "markdown",
   "source": "## File Input and Output with Arrays",
   "id": "b832afb8249c8c06"
  },
  {
   "metadata": {
    "ExecuteTime": {
     "end_time": "2025-06-27T15:23:59.222219Z",
     "start_time": "2025-06-27T15:23:59.212017Z"
    }
   },
   "cell_type": "code",
   "source": [
    "arr=np.arange(10)\n",
    "np.save(\"some_array\",arr)"
   ],
   "id": "23698b44961dc990",
   "outputs": [],
   "execution_count": 206
  },
  {
   "metadata": {
    "ExecuteTime": {
     "end_time": "2025-06-27T15:24:19.978488Z",
     "start_time": "2025-06-27T15:24:19.968670Z"
    }
   },
   "cell_type": "code",
   "source": "np.load(\"some_array.npy\")",
   "id": "bb94ada7130f3c69",
   "outputs": [
    {
     "data": {
      "text/plain": [
       "array([0, 1, 2, 3, 4, 5, 6, 7, 8, 9])"
      ]
     },
     "execution_count": 207,
     "metadata": {},
     "output_type": "execute_result"
    }
   ],
   "execution_count": 207
  },
  {
   "metadata": {
    "ExecuteTime": {
     "end_time": "2025-06-27T15:29:20.003695Z",
     "start_time": "2025-06-27T15:29:19.908420Z"
    }
   },
   "cell_type": "code",
   "source": "np.savez(\"array_archive.npz\",a=arr,b=arr) #can save multiple arrays in an uncompressed archive using numpy.savez and passing the arrays as keyword arguments:",
   "id": "de5f551eff89fb56",
   "outputs": [],
   "execution_count": 210
  },
  {
   "metadata": {
    "ExecuteTime": {
     "end_time": "2025-06-27T15:29:21.777471Z",
     "start_time": "2025-06-27T15:29:21.690993Z"
    }
   },
   "cell_type": "code",
   "source": [
    "arch=np.load(\"array_archive.npz\") # When loading an .npz file, you get back a dictionary-like object that loads the individual arrays\n",
    "arch[\"b\"]"
   ],
   "id": "cf424b2ee0e5424b",
   "outputs": [
    {
     "data": {
      "text/plain": [
       "array([0, 1, 2, 3, 4, 5, 6, 7, 8, 9])"
      ]
     },
     "execution_count": 211,
     "metadata": {},
     "output_type": "execute_result"
    }
   ],
   "execution_count": 211
  },
  {
   "metadata": {},
   "cell_type": "markdown",
   "source": "## Linear Algebra",
   "id": "5b5565adffa38099"
  },
  {
   "metadata": {
    "ExecuteTime": {
     "end_time": "2025-06-27T15:41:11.124786Z",
     "start_time": "2025-06-27T15:41:11.113560Z"
    }
   },
   "cell_type": "code",
   "source": [
    "x = np.array([[1., 2., 3.], [4., 5., 6.]])\n",
    "y = np.array([[6., 23.], [-1, 7], [8, 9]])\n",
    "x,y"
   ],
   "id": "d2d5019ccf015b0f",
   "outputs": [
    {
     "data": {
      "text/plain": [
       "(array([[1., 2., 3.],\n",
       "        [4., 5., 6.]]),\n",
       " array([[ 6., 23.],\n",
       "        [-1.,  7.],\n",
       "        [ 8.,  9.]]))"
      ]
     },
     "execution_count": 213,
     "metadata": {},
     "output_type": "execute_result"
    }
   ],
   "execution_count": 213
  },
  {
   "metadata": {
    "ExecuteTime": {
     "end_time": "2025-06-27T15:41:30.674473Z",
     "start_time": "2025-06-27T15:41:30.667519Z"
    }
   },
   "cell_type": "code",
   "source": "x.dot(y),np.dot(x,y)",
   "id": "d628396291420dd",
   "outputs": [
    {
     "data": {
      "text/plain": [
       "(array([[ 28.,  64.],\n",
       "        [ 67., 181.]]),\n",
       " array([[ 28.,  64.],\n",
       "        [ 67., 181.]]))"
      ]
     },
     "execution_count": 215,
     "metadata": {},
     "output_type": "execute_result"
    }
   ],
   "execution_count": 215
  },
  {
   "metadata": {
    "ExecuteTime": {
     "end_time": "2025-06-27T15:44:23.043558Z",
     "start_time": "2025-06-27T15:44:23.034455Z"
    }
   },
   "cell_type": "code",
   "source": "from numpy.linalg import inv,qr",
   "id": "2b1586459063f6e6",
   "outputs": [],
   "execution_count": 216
  },
  {
   "metadata": {
    "ExecuteTime": {
     "end_time": "2025-06-27T15:44:43.085042Z",
     "start_time": "2025-06-27T15:44:43.074858Z"
    }
   },
   "cell_type": "code",
   "source": "x=np.random.standard_normal((5,5))",
   "id": "1477826278c1454a",
   "outputs": [],
   "execution_count": 217
  },
  {
   "metadata": {
    "ExecuteTime": {
     "end_time": "2025-06-27T15:45:06.525567Z",
     "start_time": "2025-06-27T15:45:06.516404Z"
    }
   },
   "cell_type": "code",
   "source": "mat=x.T@x",
   "id": "5c28c3b9c9a10512",
   "outputs": [],
   "execution_count": 218
  },
  {
   "metadata": {
    "ExecuteTime": {
     "end_time": "2025-06-27T15:45:14.131717Z",
     "start_time": "2025-06-27T15:45:14.114169Z"
    }
   },
   "cell_type": "code",
   "source": "inv(mat)",
   "id": "cf24582691068b12",
   "outputs": [
    {
     "data": {
      "text/plain": [
       "array([[ 2.80385559,  0.02313007,  0.02895263,  1.3812895 ,  0.94887032],\n",
       "       [ 0.02313007,  0.21745718,  0.06443633,  0.10299054, -0.01086182],\n",
       "       [ 0.02895263,  0.06443633,  0.64710988,  0.23118462,  0.29002541],\n",
       "       [ 1.3812895 ,  0.10299054,  0.23118462,  1.02263042,  0.56092473],\n",
       "       [ 0.94887032, -0.01086182,  0.29002541,  0.56092473,  0.54711352]])"
      ]
     },
     "execution_count": 219,
     "metadata": {},
     "output_type": "execute_result"
    }
   ],
   "execution_count": 219
  },
  {
   "metadata": {
    "ExecuteTime": {
     "end_time": "2025-06-27T15:45:44.614136Z",
     "start_time": "2025-06-27T15:45:44.609790Z"
    }
   },
   "cell_type": "code",
   "source": "mat@inv(mat)",
   "id": "6f146b88f3f425a8",
   "outputs": [
    {
     "data": {
      "text/plain": [
       "array([[ 1.00000000e+00,  7.37870405e-18, -8.11372660e-16,\n",
       "        -1.92904930e-15, -1.04981178e-15],\n",
       "       [ 2.02798204e-16,  1.00000000e+00,  1.01163429e-16,\n",
       "         8.72734510e-17,  1.21086481e-16],\n",
       "       [-1.19439336e-15, -1.99349684e-18,  1.00000000e+00,\n",
       "        -9.09166312e-16, -8.53518939e-16],\n",
       "       [ 9.77213176e-16, -1.74777890e-16,  4.85264938e-17,\n",
       "         1.00000000e+00, -7.41029811e-17],\n",
       "       [ 5.93131205e-16,  1.20348217e-17,  1.81629192e-16,\n",
       "         1.11937266e-15,  1.00000000e+00]])"
      ]
     },
     "execution_count": 221,
     "metadata": {},
     "output_type": "execute_result"
    }
   ],
   "execution_count": 221
  },
  {
   "metadata": {
    "ExecuteTime": {
     "end_time": "2025-06-27T15:48:46.031186Z",
     "start_time": "2025-06-27T15:48:45.989782Z"
    }
   },
   "cell_type": "code",
   "source": [
    "A=np.array([[1,2],[3,4]])\n",
    "x=np.array([[\"x\"],[\"y\"]])\n",
    "b=np.array([[4],[5]])\n",
    "\n",
    "from numpy.linalg import solve"
   ],
   "id": "2db2690840bcf6fb",
   "outputs": [],
   "execution_count": 222
  },
  {
   "metadata": {
    "ExecuteTime": {
     "end_time": "2025-06-27T15:49:03.524028Z",
     "start_time": "2025-06-27T15:49:03.506545Z"
    }
   },
   "cell_type": "code",
   "source": "solve(A,b)",
   "id": "88d45cfeffa9ddf",
   "outputs": [
    {
     "data": {
      "text/plain": [
       "array([[-3. ],\n",
       "       [ 3.5]])"
      ]
     },
     "execution_count": 224,
     "metadata": {},
     "output_type": "execute_result"
    }
   ],
   "execution_count": 224
  },
  {
   "metadata": {
    "ExecuteTime": {
     "end_time": "2025-06-27T15:52:42.222948Z",
     "start_time": "2025-06-27T15:52:42.212980Z"
    }
   },
   "cell_type": "code",
   "source": [
    "import random\n",
    "position=0\n",
    "walk=[position]\n",
    "nsteps=1000\n",
    "for _ in range(nsteps):\n",
    "    step=1 if random.randint(0,1) else -1\n",
    "    position+=step\n",
    "    walk.append(position)"
   ],
   "id": "997db4f399d8ad18",
   "outputs": [],
   "execution_count": 226
  },
  {
   "metadata": {
    "ExecuteTime": {
     "end_time": "2025-06-27T15:52:45.322319Z",
     "start_time": "2025-06-27T15:52:45.075409Z"
    }
   },
   "cell_type": "code",
   "source": "plt.plot(walk[:100])",
   "id": "5a89f74f7a67d80f",
   "outputs": [
    {
     "data": {
      "text/plain": [
       "[<matplotlib.lines.Line2D at 0x1aff4820190>]"
      ]
     },
     "execution_count": 227,
     "metadata": {},
     "output_type": "execute_result"
    },
    {
     "data": {
      "text/plain": [
       "<Figure size 640x480 with 1 Axes>"
      ],
      "image/png": "[encoded data removed]"
     },
     "metadata": {},
     "output_type": "display_data"
    }
   ],
   "execution_count": 227
  },
  {
   "metadata": {},
   "cell_type": "code",
   "outputs": [],
   "execution_count": null,
   "source": "",
   "id": "4f974757a5aa5480"
  }
 ],
 "metadata": {
  "kernelspec": {
   "display_name": "Python 3",
   "language": "python",
   "name": "python3"
  },
  "language_info": {
   "codemirror_mode": {
    "name": "ipython",
    "version": 2
   },
   "file_extension": ".py",
   "mimetype": "text/x-python",
   "name": "python",
   "nbconvert_exporter": "python",
   "pygments_lexer": "ipython2",
   "version": "2.7.6"
  }
 },
 "nbformat": 4,
 "nbformat_minor": 5
}
