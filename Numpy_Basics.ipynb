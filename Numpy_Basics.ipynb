{
 "cells": [
  {
   "metadata": {
    "ExecuteTime": {
     "end_time": "2025-07-01T03:28:22.156827Z",
     "start_time": "2025-07-01T03:28:22.151356Z"
    }
   },
   "cell_type": "code",
   "source": "print(\"hello world\")",
   "id": "2c53097ed70ad633",
   "outputs": [
    {
     "name": "stdout",
     "output_type": "stream",
     "text": [
      "hello world\n"
     ]
    }
   ],
   "execution_count": 1
  },
  {
   "metadata": {
    "ExecuteTime": {
     "end_time": "2025-07-01T03:28:22.219729Z",
     "start_time": "2025-07-01T03:28:22.211093Z"
    }
   },
   "cell_type": "code",
   "source": [
    "tup=tuple('string')\n",
    "tup"
   ],
   "id": "9fe0ffbce6b4fe65",
   "outputs": [
    {
     "data": {
      "text/plain": [
       "('s', 't', 'r', 'i', 'n', 'g')"
      ]
     },
     "execution_count": 2,
     "metadata": {},
     "output_type": "execute_result"
    }
   ],
   "execution_count": 2
  },
  {
   "metadata": {
    "ExecuteTime": {
     "end_time": "2025-07-01T03:28:22.802863Z",
     "start_time": "2025-07-01T03:28:22.798238Z"
    }
   },
   "cell_type": "code",
   "source": "tup[0]",
   "id": "e1065665f7a7f377",
   "outputs": [
    {
     "data": {
      "text/plain": [
       "'s'"
      ]
     },
     "execution_count": 3,
     "metadata": {},
     "output_type": "execute_result"
    }
   ],
   "execution_count": 3
  },
  {
   "metadata": {
    "ExecuteTime": {
     "end_time": "2025-07-01T03:28:22.821545Z",
     "start_time": "2025-07-01T03:28:22.816028Z"
    }
   },
   "cell_type": "code",
   "source": [
    "nested_tup=(4,5,6),(7,8)\n",
    "nested_tup"
   ],
   "id": "6063cec14473a954",
   "outputs": [
    {
     "data": {
      "text/plain": [
       "((4, 5, 6), (7, 8))"
      ]
     },
     "execution_count": 4,
     "metadata": {},
     "output_type": "execute_result"
    }
   ],
   "execution_count": 4
  },
  {
   "metadata": {
    "ExecuteTime": {
     "end_time": "2025-07-01T03:28:22.979473Z",
     "start_time": "2025-07-01T03:28:22.975119Z"
    }
   },
   "cell_type": "code",
   "source": "nested_tup[0]",
   "id": "bb56e419a0dd053",
   "outputs": [
    {
     "data": {
      "text/plain": [
       "(4, 5, 6)"
      ]
     },
     "execution_count": 5,
     "metadata": {},
     "output_type": "execute_result"
    }
   ],
   "execution_count": 5
  },
  {
   "metadata": {
    "ExecuteTime": {
     "end_time": "2025-07-01T03:28:23.062168Z",
     "start_time": "2025-07-01T03:28:23.057764Z"
    }
   },
   "cell_type": "code",
   "source": "nested_tup[0][:2]",
   "id": "1e856e35c772a2f9",
   "outputs": [
    {
     "data": {
      "text/plain": [
       "(4, 5)"
      ]
     },
     "execution_count": 6,
     "metadata": {},
     "output_type": "execute_result"
    }
   ],
   "execution_count": 6
  },
  {
   "metadata": {
    "ExecuteTime": {
     "end_time": "2025-07-01T03:28:23.177175Z",
     "start_time": "2025-07-01T03:28:23.171734Z"
    }
   },
   "cell_type": "code",
   "source": [
    "a_list=[2,3,7,True,\"Hello\"]\n",
    "a_list"
   ],
   "id": "aa951357ee358a99",
   "outputs": [
    {
     "data": {
      "text/plain": [
       "[2, 3, 7, True, 'Hello']"
      ]
     },
     "execution_count": 7,
     "metadata": {},
     "output_type": "execute_result"
    }
   ],
   "execution_count": 7
  },
  {
   "metadata": {
    "ExecuteTime": {
     "end_time": "2025-07-01T03:28:23.258069Z",
     "start_time": "2025-07-01T03:28:23.253051Z"
    }
   },
   "cell_type": "code",
   "source": [
    "tup=(\"foo\",\"bar\",\"baz\")\n",
    "b_list=list(tup)\n",
    "b_list[1]=\"hello\"\n",
    "b_list"
   ],
   "id": "61b89c753fc47200",
   "outputs": [
    {
     "data": {
      "text/plain": [
       "['foo', 'hello', 'baz']"
      ]
     },
     "execution_count": 8,
     "metadata": {},
     "output_type": "execute_result"
    }
   ],
   "execution_count": 8
  },
  {
   "metadata": {
    "ExecuteTime": {
     "end_time": "2025-07-01T03:28:23.318432Z",
     "start_time": "2025-07-01T03:28:23.313663Z"
    }
   },
   "cell_type": "code",
   "source": [
    "b_list.append(\"aaa\")\n",
    "b_list"
   ],
   "id": "ce05795559cfe4a",
   "outputs": [
    {
     "data": {
      "text/plain": [
       "['foo', 'hello', 'baz', 'aaa']"
      ]
     },
     "execution_count": 9,
     "metadata": {},
     "output_type": "execute_result"
    }
   ],
   "execution_count": 9
  },
  {
   "metadata": {
    "ExecuteTime": {
     "end_time": "2025-07-01T03:28:23.413385Z",
     "start_time": "2025-07-01T03:28:23.407250Z"
    }
   },
   "cell_type": "code",
   "source": [
    "gen=range(10)\n",
    "gen"
   ],
   "id": "43b2f4bcbac624e2",
   "outputs": [
    {
     "data": {
      "text/plain": [
       "range(0, 10)"
      ]
     },
     "execution_count": 10,
     "metadata": {},
     "output_type": "execute_result"
    }
   ],
   "execution_count": 10
  },
  {
   "metadata": {
    "ExecuteTime": {
     "end_time": "2025-07-01T03:28:23.505740Z",
     "start_time": "2025-07-01T03:28:23.500371Z"
    }
   },
   "cell_type": "code",
   "source": "list(gen)",
   "id": "3d2645a5145cd4c4",
   "outputs": [
    {
     "data": {
      "text/plain": [
       "[0, 1, 2, 3, 4, 5, 6, 7, 8, 9]"
      ]
     },
     "execution_count": 11,
     "metadata": {},
     "output_type": "execute_result"
    }
   ],
   "execution_count": 11
  },
  {
   "metadata": {
    "ExecuteTime": {
     "end_time": "2025-07-01T03:28:23.610595Z",
     "start_time": "2025-07-01T03:28:23.605178Z"
    }
   },
   "cell_type": "code",
   "source": [
    "c=[\"aaa\",\"bbb\",\"ccc\",\"ddd\",\"eee\",\"fff\"]\n",
    "c.insert(1,\"eee\")\n",
    "c"
   ],
   "id": "5e959c91372942ac",
   "outputs": [
    {
     "data": {
      "text/plain": [
       "['aaa', 'eee', 'bbb', 'ccc', 'ddd', 'eee', 'fff']"
      ]
     },
     "execution_count": 12,
     "metadata": {},
     "output_type": "execute_result"
    }
   ],
   "execution_count": 12
  },
  {
   "metadata": {
    "ExecuteTime": {
     "end_time": "2025-07-01T03:28:23.682196Z",
     "start_time": "2025-07-01T03:28:23.677861Z"
    }
   },
   "cell_type": "code",
   "source": [
    "b=[4,3,8,7,9]\n",
    "b.sort()\n",
    "b"
   ],
   "id": "45e0fcaa2f2d910f",
   "outputs": [
    {
     "data": {
      "text/plain": [
       "[3, 4, 7, 8, 9]"
      ]
     },
     "execution_count": 13,
     "metadata": {},
     "output_type": "execute_result"
    }
   ],
   "execution_count": 13
  },
  {
   "metadata": {
    "ExecuteTime": {
     "end_time": "2025-07-01T03:28:23.752689Z",
     "start_time": "2025-07-01T03:28:23.748686Z"
    }
   },
   "cell_type": "code",
   "source": [
    "d=[\"saw\",\"small\",\"he\",\"foxes\"]\n",
    "d.sort(key=len)\n",
    "d"
   ],
   "id": "7282a49cccb4ffb5",
   "outputs": [
    {
     "data": {
      "text/plain": [
       "['he', 'saw', 'small', 'foxes']"
      ]
     },
     "execution_count": 14,
     "metadata": {},
     "output_type": "execute_result"
    }
   ],
   "execution_count": 14
  },
  {
   "metadata": {
    "ExecuteTime": {
     "end_time": "2025-07-01T03:28:23.817363Z",
     "start_time": "2025-07-01T03:28:23.812743Z"
    }
   },
   "cell_type": "code",
   "source": [
    "seq=[7,2,3,7,5,6,0,1]\n",
    "seq[1:5]"
   ],
   "id": "d123e2e5891d91a6",
   "outputs": [
    {
     "data": {
      "text/plain": [
       "[2, 3, 7, 5]"
      ]
     },
     "execution_count": 15,
     "metadata": {},
     "output_type": "execute_result"
    }
   ],
   "execution_count": 15
  },
  {
   "metadata": {
    "ExecuteTime": {
     "end_time": "2025-07-01T03:28:23.885275Z",
     "start_time": "2025-07-01T03:28:23.881388Z"
    }
   },
   "cell_type": "code",
   "source": "seq[3:5]=[6,3]",
   "id": "21c391b4e99f8c16",
   "outputs": [],
   "execution_count": 16
  },
  {
   "metadata": {
    "ExecuteTime": {
     "end_time": "2025-07-01T03:28:23.924469Z",
     "start_time": "2025-07-01T03:28:23.917910Z"
    }
   },
   "cell_type": "code",
   "source": [
    "strings=[\"a\",\"as\",\"bat\",\"car\",\"dove\",\"python\"]\n",
    "[x.upper() for x in strings if len(x)>2]"
   ],
   "id": "277698f8a8802b77",
   "outputs": [
    {
     "data": {
      "text/plain": [
       "['BAT', 'CAR', 'DOVE', 'PYTHON']"
      ]
     },
     "execution_count": 17,
     "metadata": {},
     "output_type": "execute_result"
    }
   ],
   "execution_count": 17
  },
  {
   "metadata": {
    "ExecuteTime": {
     "end_time": "2025-07-01T03:28:23.985680Z",
     "start_time": "2025-07-01T03:28:23.980053Z"
    }
   },
   "cell_type": "code",
   "source": [
    "unique_lengths={len(x) for x in strings}\n",
    "unique_lengths"
   ],
   "id": "6e7b67937c29a422",
   "outputs": [
    {
     "data": {
      "text/plain": [
       "{1, 2, 3, 4, 6}"
      ]
     },
     "execution_count": 18,
     "metadata": {},
     "output_type": "execute_result"
    }
   ],
   "execution_count": 18
  },
  {
   "metadata": {
    "ExecuteTime": {
     "end_time": "2025-07-01T03:28:24.051279Z",
     "start_time": "2025-07-01T03:28:24.045820Z"
    }
   },
   "cell_type": "code",
   "source": [
    "loc_mapping={value: index for index,value in enumerate(strings)}\n",
    "loc_mapping"
   ],
   "id": "f17615cc4b7ce6da",
   "outputs": [
    {
     "data": {
      "text/plain": [
       "{'a': 0, 'as': 1, 'bat': 2, 'car': 3, 'dove': 4, 'python': 5}"
      ]
     },
     "execution_count": 19,
     "metadata": {},
     "output_type": "execute_result"
    }
   ],
   "execution_count": 19
  },
  {
   "metadata": {
    "ExecuteTime": {
     "end_time": "2025-07-01T03:28:24.112458Z",
     "start_time": "2025-07-01T03:28:24.107565Z"
    }
   },
   "cell_type": "code",
   "source": [
    "def f():\n",
    "    a=5\n",
    "    b=6\n",
    "    c=7\n",
    "    return a,b,c\n",
    "\n",
    "a,b,c=f()\n",
    "\n",
    "return_values=f()\n",
    "return_values"
   ],
   "id": "5b55d663f005ada2",
   "outputs": [
    {
     "data": {
      "text/plain": [
       "(5, 6, 7)"
      ]
     },
     "execution_count": 20,
     "metadata": {},
     "output_type": "execute_result"
    }
   ],
   "execution_count": 20
  },
  {
   "metadata": {
    "ExecuteTime": {
     "end_time": "2025-07-01T03:28:24.172645Z",
     "start_time": "2025-07-01T03:28:24.167082Z"
    }
   },
   "cell_type": "code",
   "source": [
    "def func(y,x):\n",
    "    return y(x)\n",
    "\n",
    "y=lambda x:x**2\n",
    "\n",
    "x_values=list(range(-10,11))\n",
    "y_values=[]\n",
    "[y_values.append(func(y,i)) for i in x_values ]\n",
    "y_values\n"
   ],
   "id": "98a47eb42c72a4c8",
   "outputs": [
    {
     "data": {
      "text/plain": [
       "[100, 81, 64, 49, 36, 25, 16, 9, 4, 1, 0, 1, 4, 9, 16, 25, 36, 49, 64, 81, 100]"
      ]
     },
     "execution_count": 21,
     "metadata": {},
     "output_type": "execute_result"
    }
   ],
   "execution_count": 21
  },
  {
   "metadata": {
    "ExecuteTime": {
     "end_time": "2025-07-01T03:28:24.922987Z",
     "start_time": "2025-07-01T03:28:24.234466Z"
    }
   },
   "cell_type": "code",
   "source": [
    "import matplotlib.pyplot as plt\n",
    "\n",
    "plt.plot(x_values,y_values,marker='x')"
   ],
   "id": "cc92b983b638ec16",
   "outputs": [
    {
     "data": {
      "text/plain": [
       "[<matplotlib.lines.Line2D at 0x20120fbdbd0>]"
      ]
     },
     "execution_count": 22,
     "metadata": {},
     "output_type": "execute_result"
    },
    {
     "data": {
      "text/plain": [
       "<Figure size 640x480 with 1 Axes>"
      ],
      "image/png": "[encoded data removed]"
     },
     "metadata": {},
     "output_type": "display_data"
    }
   ],
   "execution_count": 22
  },
  {
   "metadata": {
    "ExecuteTime": {
     "end_time": "2025-07-01T03:28:24.952379Z",
     "start_time": "2025-07-01T03:28:24.948989Z"
    }
   },
   "cell_type": "code",
   "source": "import numpy as np\n",
   "id": "a43f1b438da317a1",
   "outputs": [],
   "execution_count": 23
  },
  {
   "metadata": {
    "ExecuteTime": {
     "end_time": "2025-07-01T03:28:24.999579Z",
     "start_time": "2025-07-01T03:28:24.995094Z"
    }
   },
   "cell_type": "code",
   "source": [
    "data=np.array([[1,2,3],[4,5,6]])\n",
    "data"
   ],
   "id": "f126976d6b23d0b0",
   "outputs": [
    {
     "data": {
      "text/plain": [
       "array([[1, 2, 3],\n",
       "       [4, 5, 6]])"
      ]
     },
     "execution_count": 24,
     "metadata": {},
     "output_type": "execute_result"
    }
   ],
   "execution_count": 24
  },
  {
   "metadata": {
    "ExecuteTime": {
     "end_time": "2025-07-01T03:28:25.099504Z",
     "start_time": "2025-07-01T03:28:25.094212Z"
    }
   },
   "cell_type": "code",
   "source": "data*10",
   "id": "5e4488218cd8abba",
   "outputs": [
    {
     "data": {
      "text/plain": [
       "array([[10, 20, 30],\n",
       "       [40, 50, 60]])"
      ]
     },
     "execution_count": 25,
     "metadata": {},
     "output_type": "execute_result"
    }
   ],
   "execution_count": 25
  },
  {
   "metadata": {
    "ExecuteTime": {
     "end_time": "2025-07-01T03:28:25.806393Z",
     "start_time": "2025-07-01T03:28:25.801933Z"
    }
   },
   "cell_type": "code",
   "source": "data+data",
   "id": "585263c0651a950f",
   "outputs": [
    {
     "data": {
      "text/plain": [
       "array([[ 2,  4,  6],\n",
       "       [ 8, 10, 12]])"
      ]
     },
     "execution_count": 26,
     "metadata": {},
     "output_type": "execute_result"
    }
   ],
   "execution_count": 26
  },
  {
   "metadata": {
    "ExecuteTime": {
     "end_time": "2025-07-01T03:28:26.285741Z",
     "start_time": "2025-07-01T03:28:26.279324Z"
    }
   },
   "cell_type": "code",
   "source": "data.shape",
   "id": "b7ca29479205ab02",
   "outputs": [
    {
     "data": {
      "text/plain": [
       "(2, 3)"
      ]
     },
     "execution_count": 27,
     "metadata": {},
     "output_type": "execute_result"
    }
   ],
   "execution_count": 27
  },
  {
   "metadata": {
    "ExecuteTime": {
     "end_time": "2025-07-01T03:28:26.568068Z",
     "start_time": "2025-07-01T03:28:26.561999Z"
    }
   },
   "cell_type": "code",
   "source": "data.dtype",
   "id": "2d61012be559cfb0",
   "outputs": [
    {
     "data": {
      "text/plain": [
       "dtype('int64')"
      ]
     },
     "execution_count": 28,
     "metadata": {},
     "output_type": "execute_result"
    }
   ],
   "execution_count": 28
  },
  {
   "metadata": {
    "ExecuteTime": {
     "end_time": "2025-07-01T03:28:26.724638Z",
     "start_time": "2025-07-01T03:28:26.717262Z"
    }
   },
   "cell_type": "code",
   "source": [
    "data1=[6,7.5,8,0,1]\n",
    "arr1=np.array(data1)\n",
    "arr1"
   ],
   "id": "57681d4d94ff62d7",
   "outputs": [
    {
     "data": {
      "text/plain": [
       "array([6. , 7.5, 8. , 0. , 1. ])"
      ]
     },
     "execution_count": 29,
     "metadata": {},
     "output_type": "execute_result"
    }
   ],
   "execution_count": 29
  },
  {
   "metadata": {
    "ExecuteTime": {
     "end_time": "2025-07-01T03:28:26.867196Z",
     "start_time": "2025-07-01T03:28:26.861289Z"
    }
   },
   "cell_type": "code",
   "source": [
    "data2=[[1,2,3,4],[6,7,8,9]]\n",
    "arr2=np.array(data2)\n",
    "arr2"
   ],
   "id": "2004461b9bde0b4f",
   "outputs": [
    {
     "data": {
      "text/plain": [
       "array([[1, 2, 3, 4],\n",
       "       [6, 7, 8, 9]])"
      ]
     },
     "execution_count": 30,
     "metadata": {},
     "output_type": "execute_result"
    }
   ],
   "execution_count": 30
  },
  {
   "metadata": {
    "ExecuteTime": {
     "end_time": "2025-07-01T03:28:27.040996Z",
     "start_time": "2025-07-01T03:28:27.033680Z"
    }
   },
   "cell_type": "code",
   "source": "arr2.ndim",
   "id": "b6efc65be4cf3986",
   "outputs": [
    {
     "data": {
      "text/plain": [
       "2"
      ]
     },
     "execution_count": 31,
     "metadata": {},
     "output_type": "execute_result"
    }
   ],
   "execution_count": 31
  },
  {
   "metadata": {
    "ExecuteTime": {
     "end_time": "2025-07-01T03:28:27.302706Z",
     "start_time": "2025-07-01T03:28:27.296698Z"
    }
   },
   "cell_type": "code",
   "source": "arr2.shape",
   "id": "cd1b481bcc4802c9",
   "outputs": [
    {
     "data": {
      "text/plain": [
       "(2, 4)"
      ]
     },
     "execution_count": 32,
     "metadata": {},
     "output_type": "execute_result"
    }
   ],
   "execution_count": 32
  },
  {
   "metadata": {
    "ExecuteTime": {
     "end_time": "2025-07-01T03:28:27.429051Z",
     "start_time": "2025-07-01T03:28:27.423081Z"
    }
   },
   "cell_type": "code",
   "source": "arr1.dtype",
   "id": "ab37f8628499679d",
   "outputs": [
    {
     "data": {
      "text/plain": [
       "dtype('float64')"
      ]
     },
     "execution_count": 33,
     "metadata": {},
     "output_type": "execute_result"
    }
   ],
   "execution_count": 33
  },
  {
   "metadata": {
    "ExecuteTime": {
     "end_time": "2025-07-01T03:28:27.579675Z",
     "start_time": "2025-07-01T03:28:27.573479Z"
    }
   },
   "cell_type": "code",
   "source": "arr2.dtype",
   "id": "c43c3d310dec25ff",
   "outputs": [
    {
     "data": {
      "text/plain": [
       "dtype('int64')"
      ]
     },
     "execution_count": 34,
     "metadata": {},
     "output_type": "execute_result"
    }
   ],
   "execution_count": 34
  },
  {
   "metadata": {
    "ExecuteTime": {
     "end_time": "2025-07-01T03:28:27.731524Z",
     "start_time": "2025-07-01T03:28:27.725148Z"
    }
   },
   "cell_type": "code",
   "source": "np.zeros((2,3),dtype='int64')",
   "id": "881c81769058c5ba",
   "outputs": [
    {
     "data": {
      "text/plain": [
       "array([[0, 0, 0],\n",
       "       [0, 0, 0]])"
      ]
     },
     "execution_count": 35,
     "metadata": {},
     "output_type": "execute_result"
    }
   ],
   "execution_count": 35
  },
  {
   "metadata": {
    "ExecuteTime": {
     "end_time": "2025-07-01T03:28:27.955090Z",
     "start_time": "2025-07-01T03:28:27.948264Z"
    }
   },
   "cell_type": "code",
   "source": "np.ones((3,3),dtype='int64')",
   "id": "2f6e8cf536ddfc3c",
   "outputs": [
    {
     "data": {
      "text/plain": [
       "array([[1, 1, 1],\n",
       "       [1, 1, 1],\n",
       "       [1, 1, 1]])"
      ]
     },
     "execution_count": 36,
     "metadata": {},
     "output_type": "execute_result"
    }
   ],
   "execution_count": 36
  },
  {
   "metadata": {
    "ExecuteTime": {
     "end_time": "2025-07-01T03:28:28.281636Z",
     "start_time": "2025-07-01T03:28:28.275136Z"
    }
   },
   "cell_type": "code",
   "source": "np.eye(3,3)",
   "id": "91554a06670cc749",
   "outputs": [
    {
     "data": {
      "text/plain": [
       "array([[1., 0., 0.],\n",
       "       [0., 1., 0.],\n",
       "       [0., 0., 1.]])"
      ]
     },
     "execution_count": 37,
     "metadata": {},
     "output_type": "execute_result"
    }
   ],
   "execution_count": 37
  },
  {
   "metadata": {
    "ExecuteTime": {
     "end_time": "2025-07-01T03:34:14.747357Z",
     "start_time": "2025-07-01T03:34:14.741698Z"
    }
   },
   "cell_type": "code",
   "source": [
    "B=np.array([[1,2,3],[4,5,6],[7,8,9]])\n",
    "I=np.eye(3,3)\n",
    "B@I"
   ],
   "id": "4a4fe781f289d72c",
   "outputs": [
    {
     "data": {
      "text/plain": [
       "array([[1., 2., 3.],\n",
       "       [4., 5., 6.],\n",
       "       [7., 8., 9.]])"
      ]
     },
     "execution_count": 166,
     "metadata": {},
     "output_type": "execute_result"
    }
   ],
   "execution_count": 166
  },
  {
   "metadata": {
    "ExecuteTime": {
     "end_time": "2025-07-01T03:28:28.895467Z",
     "start_time": "2025-07-01T03:28:28.890705Z"
    }
   },
   "cell_type": "code",
   "source": "int_arr3=arr3.astype(int)",
   "id": "6e04146902de48c3",
   "outputs": [],
   "execution_count": 39
  },
  {
   "metadata": {
    "ExecuteTime": {
     "end_time": "2025-07-01T03:28:29.028041Z",
     "start_time": "2025-07-01T03:28:29.021850Z"
    }
   },
   "cell_type": "code",
   "source": "int_arr3",
   "id": "617a1bdafe740b2b",
   "outputs": [
    {
     "data": {
      "text/plain": [
       "array([ 2, -4,  6,  2,  7])"
      ]
     },
     "execution_count": 40,
     "metadata": {},
     "output_type": "execute_result"
    }
   ],
   "execution_count": 40
  },
  {
   "metadata": {
    "ExecuteTime": {
     "end_time": "2025-07-01T03:28:29.158524Z",
     "start_time": "2025-07-01T03:28:29.152934Z"
    }
   },
   "cell_type": "code",
   "source": [
    "int_array=np.arange(10)\n",
    "int_array"
   ],
   "id": "24689560c8d56502",
   "outputs": [
    {
     "data": {
      "text/plain": [
       "array([0, 1, 2, 3, 4, 5, 6, 7, 8, 9])"
      ]
     },
     "execution_count": 41,
     "metadata": {},
     "output_type": "execute_result"
    }
   ],
   "execution_count": 41
  },
  {
   "metadata": {
    "ExecuteTime": {
     "end_time": "2025-07-01T03:28:29.293Z",
     "start_time": "2025-07-01T03:28:29.287511Z"
    }
   },
   "cell_type": "code",
   "source": [
    "arr=np.array([[1,2,3],[4,5,6]])\n",
    "arr*arr"
   ],
   "id": "8c249836eaef837b",
   "outputs": [
    {
     "data": {
      "text/plain": [
       "array([[ 1,  4,  9],\n",
       "       [16, 25, 36]])"
      ]
     },
     "execution_count": 42,
     "metadata": {},
     "output_type": "execute_result"
    }
   ],
   "execution_count": 42
  },
  {
   "metadata": {
    "ExecuteTime": {
     "end_time": "2025-07-01T03:28:29.501877Z",
     "start_time": "2025-07-01T03:28:29.495425Z"
    }
   },
   "cell_type": "code",
   "source": "arr-arr",
   "id": "d4966c37f27f42db",
   "outputs": [
    {
     "data": {
      "text/plain": [
       "array([[0, 0, 0],\n",
       "       [0, 0, 0]])"
      ]
     },
     "execution_count": 43,
     "metadata": {},
     "output_type": "execute_result"
    }
   ],
   "execution_count": 43
  },
  {
   "metadata": {
    "ExecuteTime": {
     "end_time": "2025-07-01T03:28:29.797356Z",
     "start_time": "2025-07-01T03:28:29.789709Z"
    }
   },
   "cell_type": "code",
   "source": "1/arr",
   "id": "63e8411911ec76e6",
   "outputs": [
    {
     "data": {
      "text/plain": [
       "array([[1.        , 0.5       , 0.33333333],\n",
       "       [0.25      , 0.2       , 0.16666667]])"
      ]
     },
     "execution_count": 44,
     "metadata": {},
     "output_type": "execute_result"
    }
   ],
   "execution_count": 44
  },
  {
   "metadata": {
    "ExecuteTime": {
     "end_time": "2025-07-01T03:28:29.987682Z",
     "start_time": "2025-07-01T03:28:29.981899Z"
    }
   },
   "cell_type": "code",
   "source": "arr**2",
   "id": "707fbddd0adddaab",
   "outputs": [
    {
     "data": {
      "text/plain": [
       "array([[ 1,  4,  9],\n",
       "       [16, 25, 36]])"
      ]
     },
     "execution_count": 45,
     "metadata": {},
     "output_type": "execute_result"
    }
   ],
   "execution_count": 45
  },
  {
   "metadata": {},
   "cell_type": "markdown",
   "source": "## Basic Indexing and Slicing",
   "id": "93b9ce5fdd5f6ccd"
  },
  {
   "metadata": {
    "ExecuteTime": {
     "end_time": "2025-07-01T03:28:30.317385Z",
     "start_time": "2025-07-01T03:28:30.311941Z"
    }
   },
   "cell_type": "code",
   "source": [
    "arr5=np.arange(10)\n",
    "arr5"
   ],
   "id": "816b7b11464b3863",
   "outputs": [
    {
     "data": {
      "text/plain": [
       "array([0, 1, 2, 3, 4, 5, 6, 7, 8, 9])"
      ]
     },
     "execution_count": 46,
     "metadata": {},
     "output_type": "execute_result"
    }
   ],
   "execution_count": 46
  },
  {
   "metadata": {
    "ExecuteTime": {
     "end_time": "2025-07-01T03:28:30.609809Z",
     "start_time": "2025-07-01T03:28:30.604369Z"
    }
   },
   "cell_type": "code",
   "source": "arr5[5]",
   "id": "f9efe9a0ddad4958",
   "outputs": [
    {
     "data": {
      "text/plain": [
       "np.int64(5)"
      ]
     },
     "execution_count": 47,
     "metadata": {},
     "output_type": "execute_result"
    }
   ],
   "execution_count": 47
  },
  {
   "metadata": {
    "ExecuteTime": {
     "end_time": "2025-07-01T03:28:30.779892Z",
     "start_time": "2025-07-01T03:28:30.774010Z"
    }
   },
   "cell_type": "code",
   "source": "arr5[5:8]",
   "id": "cb6dcff2a99bf06b",
   "outputs": [
    {
     "data": {
      "text/plain": [
       "array([5, 6, 7])"
      ]
     },
     "execution_count": 48,
     "metadata": {},
     "output_type": "execute_result"
    }
   ],
   "execution_count": 48
  },
  {
   "metadata": {
    "ExecuteTime": {
     "end_time": "2025-07-01T03:28:30.922656Z",
     "start_time": "2025-07-01T03:28:30.916339Z"
    }
   },
   "cell_type": "code",
   "source": [
    "arr5[5:8]=12\n",
    "arr5"
   ],
   "id": "446126f0a880c158",
   "outputs": [
    {
     "data": {
      "text/plain": [
       "array([ 0,  1,  2,  3,  4, 12, 12, 12,  8,  9])"
      ]
     },
     "execution_count": 49,
     "metadata": {},
     "output_type": "execute_result"
    }
   ],
   "execution_count": 49
  },
  {
   "metadata": {
    "ExecuteTime": {
     "end_time": "2025-07-01T03:28:31.043566Z",
     "start_time": "2025-07-01T03:28:31.038821Z"
    }
   },
   "cell_type": "code",
   "source": [
    "arr_slice=arr5[5:8]\n",
    "arr_slice"
   ],
   "id": "c3cb4e3dc3ba55fd",
   "outputs": [
    {
     "data": {
      "text/plain": [
       "array([12, 12, 12])"
      ]
     },
     "execution_count": 50,
     "metadata": {},
     "output_type": "execute_result"
    }
   ],
   "execution_count": 50
  },
  {
   "metadata": {
    "ExecuteTime": {
     "end_time": "2025-07-01T03:28:31.203091Z",
     "start_time": "2025-07-01T03:28:31.198843Z"
    }
   },
   "cell_type": "code",
   "source": "new_arr=arr5[5:].copy()",
   "id": "42ae9d7d0756e685",
   "outputs": [],
   "execution_count": 51
  },
  {
   "metadata": {
    "ExecuteTime": {
     "end_time": "2025-07-01T03:28:31.245510Z",
     "start_time": "2025-07-01T03:28:31.239591Z"
    }
   },
   "cell_type": "code",
   "source": "new_arr",
   "id": "e31cae1f62e5b20c",
   "outputs": [
    {
     "data": {
      "text/plain": [
       "array([12, 12, 12,  8,  9])"
      ]
     },
     "execution_count": 52,
     "metadata": {},
     "output_type": "execute_result"
    }
   ],
   "execution_count": 52
  },
  {
   "metadata": {
    "ExecuteTime": {
     "end_time": "2025-07-01T03:28:31.348690Z",
     "start_time": "2025-07-01T03:28:31.343773Z"
    }
   },
   "cell_type": "code",
   "source": [
    "new_arr[:3]=1\n",
    "new_arr"
   ],
   "id": "b7915bf3aa6f87b4",
   "outputs": [
    {
     "data": {
      "text/plain": [
       "array([1, 1, 1, 8, 9])"
      ]
     },
     "execution_count": 53,
     "metadata": {},
     "output_type": "execute_result"
    }
   ],
   "execution_count": 53
  },
  {
   "metadata": {
    "ExecuteTime": {
     "end_time": "2025-07-01T03:28:31.447273Z",
     "start_time": "2025-07-01T03:28:31.442423Z"
    }
   },
   "cell_type": "code",
   "source": "arr5",
   "id": "e3a2f93d927c035a",
   "outputs": [
    {
     "data": {
      "text/plain": [
       "array([ 0,  1,  2,  3,  4, 12, 12, 12,  8,  9])"
      ]
     },
     "execution_count": 54,
     "metadata": {},
     "output_type": "execute_result"
    }
   ],
   "execution_count": 54
  },
  {
   "metadata": {
    "ExecuteTime": {
     "end_time": "2025-07-01T03:28:31.512989Z",
     "start_time": "2025-07-01T03:28:31.509639Z"
    }
   },
   "cell_type": "code",
   "source": [
    "arr2d=[[1,2,3],\n",
    "       [4,5,6],\n",
    "       [7,7,9]]\n",
    "\n",
    "arr2d=np.array(arr2d)"
   ],
   "id": "ab817d059df235f6",
   "outputs": [],
   "execution_count": 55
  },
  {
   "metadata": {
    "ExecuteTime": {
     "end_time": "2025-07-01T03:28:31.561762Z",
     "start_time": "2025-07-01T03:28:31.556198Z"
    }
   },
   "cell_type": "code",
   "source": "arr2d",
   "id": "f02afc8252b3d42a",
   "outputs": [
    {
     "data": {
      "text/plain": [
       "array([[1, 2, 3],\n",
       "       [4, 5, 6],\n",
       "       [7, 7, 9]])"
      ]
     },
     "execution_count": 56,
     "metadata": {},
     "output_type": "execute_result"
    }
   ],
   "execution_count": 56
  },
  {
   "metadata": {
    "ExecuteTime": {
     "end_time": "2025-07-01T03:28:31.725934Z",
     "start_time": "2025-07-01T03:28:31.717798Z"
    }
   },
   "cell_type": "code",
   "source": "arr2d[:2]",
   "id": "dc798d17e3a42893",
   "outputs": [
    {
     "data": {
      "text/plain": [
       "array([[1, 2, 3],\n",
       "       [4, 5, 6]])"
      ]
     },
     "execution_count": 57,
     "metadata": {},
     "output_type": "execute_result"
    }
   ],
   "execution_count": 57
  },
  {
   "metadata": {
    "ExecuteTime": {
     "end_time": "2025-07-01T03:28:31.909752Z",
     "start_time": "2025-07-01T03:28:31.903248Z"
    }
   },
   "cell_type": "code",
   "source": "arr2d[:2,1:]",
   "id": "1591b8c8ea308bb8",
   "outputs": [
    {
     "data": {
      "text/plain": [
       "array([[2, 3],\n",
       "       [5, 6]])"
      ]
     },
     "execution_count": 58,
     "metadata": {},
     "output_type": "execute_result"
    }
   ],
   "execution_count": 58
  },
  {
   "metadata": {
    "ExecuteTime": {
     "end_time": "2025-07-01T03:28:32.131033Z",
     "start_time": "2025-07-01T03:28:32.126969Z"
    }
   },
   "cell_type": "code",
   "source": [
    "names=np.array([\"Bob\",\"Joe\",\"Will\",\"Bob\",\"Will\",\"Joe\",\"Joe\"])\n",
    "data=np.array([[4,7],[0,2],[-5,6],[0,0],[1,2],[-12,-4],[3,4]])"
   ],
   "id": "b910f1ecd9b56488",
   "outputs": [],
   "execution_count": 59
  },
  {
   "metadata": {
    "ExecuteTime": {
     "end_time": "2025-07-01T03:28:32.364451Z",
     "start_time": "2025-07-01T03:28:32.358460Z"
    }
   },
   "cell_type": "code",
   "source": "names",
   "id": "ac142136707fab63",
   "outputs": [
    {
     "data": {
      "text/plain": [
       "array(['Bob', 'Joe', 'Will', 'Bob', 'Will', 'Joe', 'Joe'], dtype='<U4')"
      ]
     },
     "execution_count": 60,
     "metadata": {},
     "output_type": "execute_result"
    }
   ],
   "execution_count": 60
  },
  {
   "metadata": {
    "ExecuteTime": {
     "end_time": "2025-07-01T03:28:32.517777Z",
     "start_time": "2025-07-01T03:28:32.511069Z"
    }
   },
   "cell_type": "code",
   "source": "data",
   "id": "8b1509c6dcefb9cc",
   "outputs": [
    {
     "data": {
      "text/plain": [
       "array([[  4,   7],\n",
       "       [  0,   2],\n",
       "       [ -5,   6],\n",
       "       [  0,   0],\n",
       "       [  1,   2],\n",
       "       [-12,  -4],\n",
       "       [  3,   4]])"
      ]
     },
     "execution_count": 61,
     "metadata": {},
     "output_type": "execute_result"
    }
   ],
   "execution_count": 61
  },
  {
   "metadata": {
    "ExecuteTime": {
     "end_time": "2025-07-01T03:28:32.685210Z",
     "start_time": "2025-07-01T03:28:32.679046Z"
    }
   },
   "cell_type": "code",
   "source": "names==\"Bob\"",
   "id": "e56e1e4f49c5af72",
   "outputs": [
    {
     "data": {
      "text/plain": [
       "array([ True, False, False,  True, False, False, False])"
      ]
     },
     "execution_count": 62,
     "metadata": {},
     "output_type": "execute_result"
    }
   ],
   "execution_count": 62
  },
  {
   "metadata": {
    "ExecuteTime": {
     "end_time": "2025-07-01T03:28:32.964771Z",
     "start_time": "2025-07-01T03:28:32.957976Z"
    }
   },
   "cell_type": "code",
   "source": "data[names==\"Bob\"]",
   "id": "1c321dd50b0a3182",
   "outputs": [
    {
     "data": {
      "text/plain": [
       "array([[4, 7],\n",
       "       [0, 0]])"
      ]
     },
     "execution_count": 63,
     "metadata": {},
     "output_type": "execute_result"
    }
   ],
   "execution_count": 63
  },
  {
   "metadata": {
    "ExecuteTime": {
     "end_time": "2025-07-01T03:28:33.077280Z",
     "start_time": "2025-07-01T03:28:33.070665Z"
    }
   },
   "cell_type": "code",
   "source": [
    "arr=np.zeros((8,4),dtype='int64')\n",
    "for i in range(8):\n",
    "    arr[i]=i\n",
    "\n",
    "arr"
   ],
   "id": "4f4b5e90a96e5945",
   "outputs": [
    {
     "data": {
      "text/plain": [
       "array([[0, 0, 0, 0],\n",
       "       [1, 1, 1, 1],\n",
       "       [2, 2, 2, 2],\n",
       "       [3, 3, 3, 3],\n",
       "       [4, 4, 4, 4],\n",
       "       [5, 5, 5, 5],\n",
       "       [6, 6, 6, 6],\n",
       "       [7, 7, 7, 7]])"
      ]
     },
     "execution_count": 64,
     "metadata": {},
     "output_type": "execute_result"
    }
   ],
   "execution_count": 64
  },
  {
   "metadata": {
    "ExecuteTime": {
     "end_time": "2025-07-01T03:28:33.379098Z",
     "start_time": "2025-07-01T03:28:33.372645Z"
    }
   },
   "cell_type": "code",
   "source": "arr[[4,3,0,6]] # displaying 4th row,3rd row and 0,6",
   "id": "6af480ec3b031410",
   "outputs": [
    {
     "data": {
      "text/plain": [
       "array([[4, 4, 4, 4],\n",
       "       [3, 3, 3, 3],\n",
       "       [0, 0, 0, 0],\n",
       "       [6, 6, 6, 6]])"
      ]
     },
     "execution_count": 65,
     "metadata": {},
     "output_type": "execute_result"
    }
   ],
   "execution_count": 65
  },
  {
   "metadata": {
    "ExecuteTime": {
     "end_time": "2025-07-01T03:28:33.753924Z",
     "start_time": "2025-07-01T03:28:33.747538Z"
    }
   },
   "cell_type": "code",
   "source": [
    "arr=np.arange(32).reshape((8,4))\n",
    "arr"
   ],
   "id": "bc4d1d5a12aa39b9",
   "outputs": [
    {
     "data": {
      "text/plain": [
       "array([[ 0,  1,  2,  3],\n",
       "       [ 4,  5,  6,  7],\n",
       "       [ 8,  9, 10, 11],\n",
       "       [12, 13, 14, 15],\n",
       "       [16, 17, 18, 19],\n",
       "       [20, 21, 22, 23],\n",
       "       [24, 25, 26, 27],\n",
       "       [28, 29, 30, 31]])"
      ]
     },
     "execution_count": 66,
     "metadata": {},
     "output_type": "execute_result"
    }
   ],
   "execution_count": 66
  },
  {
   "metadata": {
    "ExecuteTime": {
     "end_time": "2025-07-01T03:28:34.124469Z",
     "start_time": "2025-07-01T03:28:34.116899Z"
    }
   },
   "cell_type": "code",
   "source": "arr[[1,5,7,2],[0,3,1,2]]",
   "id": "ec7c0bc3971477f5",
   "outputs": [
    {
     "data": {
      "text/plain": [
       "array([ 4, 23, 29, 10])"
      ]
     },
     "execution_count": 67,
     "metadata": {},
     "output_type": "execute_result"
    }
   ],
   "execution_count": 67
  },
  {
   "metadata": {
    "ExecuteTime": {
     "end_time": "2025-07-01T03:28:34.376784Z",
     "start_time": "2025-07-01T03:28:34.370984Z"
    }
   },
   "cell_type": "code",
   "source": "arr[[1, 5, 7, 2]][:, [0, 3, 1, 2]]",
   "id": "99f0263a76ed30d4",
   "outputs": [
    {
     "data": {
      "text/plain": [
       "array([[ 4,  7,  5,  6],\n",
       "       [20, 23, 21, 22],\n",
       "       [28, 31, 29, 30],\n",
       "       [ 8, 11,  9, 10]])"
      ]
     },
     "execution_count": 68,
     "metadata": {},
     "output_type": "execute_result"
    }
   ],
   "execution_count": 68
  },
  {
   "metadata": {},
   "cell_type": "markdown",
   "source": "## Transposing Arrays and Swapping Axes",
   "id": "c5cbaad875a06b59"
  },
  {
   "metadata": {
    "ExecuteTime": {
     "end_time": "2025-07-01T03:28:34.556232Z",
     "start_time": "2025-07-01T03:28:34.549332Z"
    }
   },
   "cell_type": "code",
   "source": [
    "arr=np.arange(15).reshape((3,5))\n",
    "arr"
   ],
   "id": "44243de10927e7ac",
   "outputs": [
    {
     "data": {
      "text/plain": [
       "array([[ 0,  1,  2,  3,  4],\n",
       "       [ 5,  6,  7,  8,  9],\n",
       "       [10, 11, 12, 13, 14]])"
      ]
     },
     "execution_count": 69,
     "metadata": {},
     "output_type": "execute_result"
    }
   ],
   "execution_count": 69
  },
  {
   "metadata": {
    "ExecuteTime": {
     "end_time": "2025-07-01T03:28:34.839563Z",
     "start_time": "2025-07-01T03:28:34.834629Z"
    }
   },
   "cell_type": "code",
   "source": "arr.T",
   "id": "1d25c4ebcffb4230",
   "outputs": [
    {
     "data": {
      "text/plain": [
       "array([[ 0,  5, 10],\n",
       "       [ 1,  6, 11],\n",
       "       [ 2,  7, 12],\n",
       "       [ 3,  8, 13],\n",
       "       [ 4,  9, 14]])"
      ]
     },
     "execution_count": 70,
     "metadata": {},
     "output_type": "execute_result"
    }
   ],
   "execution_count": 70
  },
  {
   "metadata": {
    "ExecuteTime": {
     "end_time": "2025-07-01T03:28:35.047456Z",
     "start_time": "2025-07-01T03:28:35.041896Z"
    }
   },
   "cell_type": "code",
   "source": [
    "arr = np.array([[0, 1, 0], [1, 2, -2], [6, 3, 2], [-1, 0, -1], [1, 0, 1\n",
    "]])\n",
    "arr"
   ],
   "id": "9c04b1bb50e8741f",
   "outputs": [
    {
     "data": {
      "text/plain": [
       "array([[ 0,  1,  0],\n",
       "       [ 1,  2, -2],\n",
       "       [ 6,  3,  2],\n",
       "       [-1,  0, -1],\n",
       "       [ 1,  0,  1]])"
      ]
     },
     "execution_count": 71,
     "metadata": {},
     "output_type": "execute_result"
    }
   ],
   "execution_count": 71
  },
  {
   "metadata": {
    "ExecuteTime": {
     "end_time": "2025-07-01T03:28:35.325260Z",
     "start_time": "2025-07-01T03:28:35.319229Z"
    }
   },
   "cell_type": "code",
   "source": "arr.T.dot(arr)",
   "id": "aecab5adc1ab1544",
   "outputs": [
    {
     "data": {
      "text/plain": [
       "array([[39, 20, 12],\n",
       "       [20, 14,  2],\n",
       "       [12,  2, 10]])"
      ]
     },
     "execution_count": 72,
     "metadata": {},
     "output_type": "execute_result"
    }
   ],
   "execution_count": 72
  },
  {
   "metadata": {
    "ExecuteTime": {
     "end_time": "2025-07-01T03:28:35.650624Z",
     "start_time": "2025-07-01T03:28:35.645035Z"
    }
   },
   "cell_type": "code",
   "source": "import math\n",
   "id": "6dfee467ec1ce4d5",
   "outputs": [],
   "execution_count": 73
  },
  {
   "metadata": {
    "ExecuteTime": {
     "end_time": "2025-07-01T03:28:35.933677Z",
     "start_time": "2025-07-01T03:28:35.928336Z"
    }
   },
   "cell_type": "code",
   "source": [
    "a=np.array([1,2,3])\n",
    "length_a=math.sqrt(a.dot(a))\n",
    "length_a"
   ],
   "id": "3738f575c15c787c",
   "outputs": [
    {
     "data": {
      "text/plain": [
       "3.7416573867739413"
      ]
     },
     "execution_count": 74,
     "metadata": {},
     "output_type": "execute_result"
    }
   ],
   "execution_count": 74
  },
  {
   "metadata": {
    "ExecuteTime": {
     "end_time": "2025-07-01T03:28:36.046392Z",
     "start_time": "2025-07-01T03:28:36.039733Z"
    }
   },
   "cell_type": "code",
   "source": [
    "a=np.array([[1,2,3],[4,5,6]])\n",
    "b=np.array([[1,2],[3,4],[5,6]])\n",
    "a@b"
   ],
   "id": "9c29c4c126856db2",
   "outputs": [
    {
     "data": {
      "text/plain": [
       "array([[22, 28],\n",
       "       [49, 64]])"
      ]
     },
     "execution_count": 75,
     "metadata": {},
     "output_type": "execute_result"
    }
   ],
   "execution_count": 75
  },
  {
   "metadata": {
    "ExecuteTime": {
     "end_time": "2025-07-01T03:28:36.199227Z",
     "start_time": "2025-07-01T03:28:36.193119Z"
    }
   },
   "cell_type": "code",
   "source": "arr",
   "id": "f680cb92a0f63de5",
   "outputs": [
    {
     "data": {
      "text/plain": [
       "array([[ 0,  1,  0],\n",
       "       [ 1,  2, -2],\n",
       "       [ 6,  3,  2],\n",
       "       [-1,  0, -1],\n",
       "       [ 1,  0,  1]])"
      ]
     },
     "execution_count": 76,
     "metadata": {},
     "output_type": "execute_result"
    }
   ],
   "execution_count": 76
  },
  {
   "metadata": {
    "ExecuteTime": {
     "end_time": "2025-07-01T03:28:36.470556Z",
     "start_time": "2025-07-01T03:28:36.464160Z"
    }
   },
   "cell_type": "code",
   "source": "arr.swapaxes(0,1)",
   "id": "8a1427738483531d",
   "outputs": [
    {
     "data": {
      "text/plain": [
       "array([[ 0,  1,  6, -1,  1],\n",
       "       [ 1,  2,  3,  0,  0],\n",
       "       [ 0, -2,  2, -1,  1]])"
      ]
     },
     "execution_count": 77,
     "metadata": {},
     "output_type": "execute_result"
    }
   ],
   "execution_count": 77
  },
  {
   "metadata": {},
   "cell_type": "markdown",
   "source": "## Pseudorandom Number Generation",
   "id": "6eb8b769cb58f6e0"
  },
  {
   "metadata": {
    "ExecuteTime": {
     "end_time": "2025-07-01T03:28:36.728165Z",
     "start_time": "2025-07-01T03:28:36.719658Z"
    }
   },
   "cell_type": "code",
   "source": [
    "samples=np.random.standard_normal(size=(4,4))\n",
    "samples"
   ],
   "id": "f124a7d9060c500e",
   "outputs": [
    {
     "data": {
      "text/plain": [
       "array([[-0.38451357,  1.45807897,  0.11906091, -0.745443  ],\n",
       "       [ 0.34336432, -1.4562327 ,  1.47185134, -0.18606027],\n",
       "       [ 0.30211563,  2.12843904, -0.03493604,  0.03571191],\n",
       "       [ 1.45796336, -3.00451747, -0.50060771, -1.29351227]])"
      ]
     },
     "execution_count": 78,
     "metadata": {},
     "output_type": "execute_result"
    }
   ],
   "execution_count": 78
  },
  {
   "metadata": {
    "ExecuteTime": {
     "end_time": "2025-07-01T03:28:37.065674Z",
     "start_time": "2025-07-01T03:28:37.055938Z"
    }
   },
   "cell_type": "code",
   "source": [
    "rng=np.random.default_rng(seed=12345)\n",
    "data=rng.standard_normal((2,3))\n",
    "data"
   ],
   "id": "30981b438b2e15d2",
   "outputs": [
    {
     "data": {
      "text/plain": [
       "array([[-1.42382504,  1.26372846, -0.87066174],\n",
       "       [-0.25917323, -0.07534331, -0.74088465]])"
      ]
     },
     "execution_count": 79,
     "metadata": {},
     "output_type": "execute_result"
    }
   ],
   "execution_count": 79
  },
  {
   "metadata": {
    "ExecuteTime": {
     "end_time": "2025-07-01T03:28:37.402819Z",
     "start_time": "2025-07-01T03:28:37.390616Z"
    }
   },
   "cell_type": "code",
   "source": "np.random.randint(1,10,size=(2,3))",
   "id": "81d56d69a1996e6c",
   "outputs": [
    {
     "data": {
      "text/plain": [
       "array([[4, 3, 7],\n",
       "       [6, 1, 3]], dtype=int32)"
      ]
     },
     "execution_count": 80,
     "metadata": {},
     "output_type": "execute_result"
    }
   ],
   "execution_count": 80
  },
  {
   "metadata": {
    "ExecuteTime": {
     "end_time": "2025-07-01T03:28:37.794519Z",
     "start_time": "2025-07-01T03:28:37.791125Z"
    }
   },
   "cell_type": "code",
   "source": "",
   "id": "c6f9e96c7d2080f4",
   "outputs": [],
   "execution_count": null
  },
  {
   "metadata": {
    "ExecuteTime": {
     "end_time": "2025-07-01T03:28:38.219675Z",
     "start_time": "2025-07-01T03:28:38.213138Z"
    }
   },
   "cell_type": "code",
   "source": "arr",
   "id": "88ec184a700de2aa",
   "outputs": [
    {
     "data": {
      "text/plain": [
       "array([[ 0,  1,  0],\n",
       "       [ 1,  2, -2],\n",
       "       [ 6,  3,  2],\n",
       "       [-1,  0, -1],\n",
       "       [ 1,  0,  1]])"
      ]
     },
     "execution_count": 81,
     "metadata": {},
     "output_type": "execute_result"
    }
   ],
   "execution_count": 81
  },
  {
   "metadata": {
    "ExecuteTime": {
     "end_time": "2025-07-01T03:28:38.358582Z",
     "start_time": "2025-07-01T03:28:38.351664Z"
    }
   },
   "cell_type": "code",
   "source": "arr[[1,2,3,4]]",
   "id": "1766a8d01b34ea7c",
   "outputs": [
    {
     "data": {
      "text/plain": [
       "array([[ 1,  2, -2],\n",
       "       [ 6,  3,  2],\n",
       "       [-1,  0, -1],\n",
       "       [ 1,  0,  1]])"
      ]
     },
     "execution_count": 82,
     "metadata": {},
     "output_type": "execute_result"
    }
   ],
   "execution_count": 82
  },
  {
   "metadata": {
    "ExecuteTime": {
     "end_time": "2025-07-01T03:28:38.710219Z",
     "start_time": "2025-07-01T03:28:38.701149Z"
    }
   },
   "cell_type": "code",
   "source": [
    "arr[[1,2,3,4],[0,0,0,0]]=[99]\n",
    "arr"
   ],
   "id": "b759e977d0a4f5d1",
   "outputs": [
    {
     "data": {
      "text/plain": [
       "array([[ 0,  1,  0],\n",
       "       [99,  2, -2],\n",
       "       [99,  3,  2],\n",
       "       [99,  0, -1],\n",
       "       [99,  0,  1]])"
      ]
     },
     "execution_count": 83,
     "metadata": {},
     "output_type": "execute_result"
    }
   ],
   "execution_count": 83
  },
  {
   "metadata": {},
   "cell_type": "markdown",
   "source": [
    "## Universal Functions: Fast Element-Wise Array Functions\n",
    "\n",
    "A universal function, or ufunc, is a function that performs element-wise operations on data in ndarrays."
   ],
   "id": "3d7ffd5b96a543"
  },
  {
   "metadata": {
    "ExecuteTime": {
     "end_time": "2025-07-01T03:28:39.054084Z",
     "start_time": "2025-07-01T03:28:39.047923Z"
    }
   },
   "cell_type": "code",
   "source": [
    "arr=np.arange(10)\n",
    "arr"
   ],
   "id": "858c871b85c429a7",
   "outputs": [
    {
     "data": {
      "text/plain": [
       "array([0, 1, 2, 3, 4, 5, 6, 7, 8, 9])"
      ]
     },
     "execution_count": 84,
     "metadata": {},
     "output_type": "execute_result"
    }
   ],
   "execution_count": 84
  },
  {
   "metadata": {
    "ExecuteTime": {
     "end_time": "2025-07-01T03:28:39.340654Z",
     "start_time": "2025-07-01T03:28:39.334348Z"
    }
   },
   "cell_type": "code",
   "source": "np.sqrt(arr).round(4)",
   "id": "106da1c7aedccfa7",
   "outputs": [
    {
     "data": {
      "text/plain": [
       "array([0.    , 1.    , 1.4142, 1.7321, 2.    , 2.2361, 2.4495, 2.6458,\n",
       "       2.8284, 3.    ])"
      ]
     },
     "execution_count": 85,
     "metadata": {},
     "output_type": "execute_result"
    }
   ],
   "execution_count": 85
  },
  {
   "metadata": {
    "ExecuteTime": {
     "end_time": "2025-07-01T03:28:39.475170Z",
     "start_time": "2025-07-01T03:28:39.470514Z"
    }
   },
   "cell_type": "code",
   "source": "np.exp(arr).round(4)",
   "id": "70cf9ae7e7ed9fb0",
   "outputs": [
    {
     "data": {
      "text/plain": [
       "array([1.0000000e+00, 2.7183000e+00, 7.3891000e+00, 2.0085500e+01,\n",
       "       5.4598200e+01, 1.4841320e+02, 4.0342880e+02, 1.0966332e+03,\n",
       "       2.9809580e+03, 8.1030839e+03])"
      ]
     },
     "execution_count": 86,
     "metadata": {},
     "output_type": "execute_result"
    }
   ],
   "execution_count": 86
  },
  {
   "metadata": {
    "ExecuteTime": {
     "end_time": "2025-07-01T03:28:39.581697Z",
     "start_time": "2025-07-01T03:28:39.575548Z"
    }
   },
   "cell_type": "code",
   "source": [
    "x=np.random.standard_normal(8).round(2)\n",
    "y=np.random.standard_normal(8).round(2)\n",
    "print(x)\n",
    "print(y)"
   ],
   "id": "501ccfe5196856ca",
   "outputs": [
    {
     "name": "stdout",
     "output_type": "stream",
     "text": [
      "[ 0.4  -0.15 -4.31  0.2   1.52  0.49  0.82  0.79]\n",
      "[ 0.69  1.2  -1.19  1.45  0.29 -0.05 -1.19  0.53]\n"
     ]
    }
   ],
   "execution_count": 87
  },
  {
   "metadata": {
    "ExecuteTime": {
     "end_time": "2025-07-01T03:28:39.695852Z",
     "start_time": "2025-07-01T03:28:39.688881Z"
    }
   },
   "cell_type": "code",
   "source": "np.maximum(x,y)",
   "id": "abcde1db4d2e0656",
   "outputs": [
    {
     "data": {
      "text/plain": [
       "array([ 0.69,  1.2 , -1.19,  1.45,  1.52,  0.49,  0.82,  0.79])"
      ]
     },
     "execution_count": 88,
     "metadata": {},
     "output_type": "execute_result"
    }
   ],
   "execution_count": 88
  },
  {
   "metadata": {
    "ExecuteTime": {
     "end_time": "2025-07-01T03:28:39.863696Z",
     "start_time": "2025-07-01T03:28:39.858560Z"
    }
   },
   "cell_type": "code",
   "source": "np.add(x,y)",
   "id": "c48a5bc839cfead",
   "outputs": [
    {
     "data": {
      "text/plain": [
       "array([ 1.09,  1.05, -5.5 ,  1.65,  1.81,  0.44, -0.37,  1.32])"
      ]
     },
     "execution_count": 89,
     "metadata": {},
     "output_type": "execute_result"
    }
   ],
   "execution_count": 89
  },
  {
   "metadata": {
    "ExecuteTime": {
     "end_time": "2025-07-01T03:28:39.994393Z",
     "start_time": "2025-07-01T03:28:39.987942Z"
    }
   },
   "cell_type": "code",
   "source": [
    "arr=np.random.standard_normal(7).round(4)*5\n",
    "arr"
   ],
   "id": "cbae560fcc62706f",
   "outputs": [
    {
     "data": {
      "text/plain": [
       "array([ 3.354 , -4.1075,  6.619 , -8.518 , 10.085 ,  2.326 , -4.1425])"
      ]
     },
     "execution_count": 90,
     "metadata": {},
     "output_type": "execute_result"
    }
   ],
   "execution_count": 90
  },
  {
   "metadata": {
    "ExecuteTime": {
     "end_time": "2025-07-01T03:28:40.126886Z",
     "start_time": "2025-07-01T03:28:40.121509Z"
    }
   },
   "cell_type": "code",
   "source": "remainder,whole_part=np.modf(arr)",
   "id": "8430bd470dc2ea65",
   "outputs": [],
   "execution_count": 91
  },
  {
   "metadata": {
    "ExecuteTime": {
     "end_time": "2025-07-01T03:28:40.165395Z",
     "start_time": "2025-07-01T03:28:40.160522Z"
    }
   },
   "cell_type": "code",
   "source": "remainder,whole_part",
   "id": "3556e4fe1cf3f4c",
   "outputs": [
    {
     "data": {
      "text/plain": [
       "(array([ 0.354 , -0.1075,  0.619 , -0.518 ,  0.085 ,  0.326 , -0.1425]),\n",
       " array([ 3., -4.,  6., -8., 10.,  2., -4.]))"
      ]
     },
     "execution_count": 92,
     "metadata": {},
     "output_type": "execute_result"
    }
   ],
   "execution_count": 92
  },
  {
   "metadata": {
    "ExecuteTime": {
     "end_time": "2025-07-01T03:28:40.240531Z",
     "start_time": "2025-07-01T03:28:40.234977Z"
    }
   },
   "cell_type": "code",
   "source": "arr",
   "id": "7a521585f2c25ec9",
   "outputs": [
    {
     "data": {
      "text/plain": [
       "array([ 3.354 , -4.1075,  6.619 , -8.518 , 10.085 ,  2.326 , -4.1425])"
      ]
     },
     "execution_count": 93,
     "metadata": {},
     "output_type": "execute_result"
    }
   ],
   "execution_count": 93
  },
  {
   "metadata": {
    "ExecuteTime": {
     "end_time": "2025-07-01T03:28:40.303719Z",
     "start_time": "2025-07-01T03:28:40.298896Z"
    }
   },
   "cell_type": "code",
   "source": [
    "out=np.zeros_like(arr)\n",
    "np.add(arr,1)"
   ],
   "id": "84a9743df0e09807",
   "outputs": [
    {
     "data": {
      "text/plain": [
       "array([ 4.354 , -3.1075,  7.619 , -7.518 , 11.085 ,  3.326 , -3.1425])"
      ]
     },
     "execution_count": 94,
     "metadata": {},
     "output_type": "execute_result"
    }
   ],
   "execution_count": 94
  },
  {
   "metadata": {
    "ExecuteTime": {
     "end_time": "2025-07-01T03:28:40.395886Z",
     "start_time": "2025-07-01T03:28:40.390698Z"
    }
   },
   "cell_type": "code",
   "source": [
    "# Ufuncs accept an optional out argument that allows them to assign their results into an existing array rather than create a new one:\n",
    "np.add(arr,1,out=out)"
   ],
   "id": "69a5008c90608a5a",
   "outputs": [
    {
     "data": {
      "text/plain": [
       "array([ 4.354 , -3.1075,  7.619 , -7.518 , 11.085 ,  3.326 , -3.1425])"
      ]
     },
     "execution_count": 95,
     "metadata": {},
     "output_type": "execute_result"
    }
   ],
   "execution_count": 95
  },
  {
   "metadata": {
    "ExecuteTime": {
     "end_time": "2025-07-01T03:28:40.471118Z",
     "start_time": "2025-07-01T03:28:40.465274Z"
    }
   },
   "cell_type": "code",
   "source": "out",
   "id": "818257f2856c4005",
   "outputs": [
    {
     "data": {
      "text/plain": [
       "array([ 4.354 , -3.1075,  7.619 , -7.518 , 11.085 ,  3.326 , -3.1425])"
      ]
     },
     "execution_count": 96,
     "metadata": {},
     "output_type": "execute_result"
    }
   ],
   "execution_count": 96
  },
  {
   "metadata": {
    "ExecuteTime": {
     "end_time": "2025-07-01T03:28:40.564929Z",
     "start_time": "2025-07-01T03:28:40.559582Z"
    }
   },
   "cell_type": "code",
   "source": "np.abs(arr),np.fabs(arr) # Compute the absolute value element-wise for integer, floating-point, or complex values",
   "id": "b800947f4a6b5f50",
   "outputs": [
    {
     "data": {
      "text/plain": [
       "(array([ 3.354 ,  4.1075,  6.619 ,  8.518 , 10.085 ,  2.326 ,  4.1425]),\n",
       " array([ 3.354 ,  4.1075,  6.619 ,  8.518 , 10.085 ,  2.326 ,  4.1425]))"
      ]
     },
     "execution_count": 97,
     "metadata": {},
     "output_type": "execute_result"
    }
   ],
   "execution_count": 97
  },
  {
   "metadata": {
    "ExecuteTime": {
     "end_time": "2025-07-01T03:28:40.647003Z",
     "start_time": "2025-07-01T03:28:40.641655Z"
    }
   },
   "cell_type": "code",
   "source": [
    "arr6=np.random.randint(3,88,6)\n",
    "arr6"
   ],
   "id": "887e48c037c756a5",
   "outputs": [
    {
     "data": {
      "text/plain": [
       "array([23, 76, 51, 16, 61, 32], dtype=int32)"
      ]
     },
     "execution_count": 98,
     "metadata": {},
     "output_type": "execute_result"
    }
   ],
   "execution_count": 98
  },
  {
   "metadata": {
    "ExecuteTime": {
     "end_time": "2025-07-01T03:28:40.779572Z",
     "start_time": "2025-07-01T03:28:40.774148Z"
    }
   },
   "cell_type": "code",
   "source": "np.sqrt(arr6) # Compute the square root of each element (equivalent to arr ** 0.5)",
   "id": "9d00e09e732aa6da",
   "outputs": [
    {
     "data": {
      "text/plain": [
       "array([4.79583152, 8.71779789, 7.14142843, 4.        , 7.81024968,\n",
       "       5.65685425])"
      ]
     },
     "execution_count": 99,
     "metadata": {},
     "output_type": "execute_result"
    }
   ],
   "execution_count": 99
  },
  {
   "metadata": {
    "ExecuteTime": {
     "end_time": "2025-07-01T03:28:40.872937Z",
     "start_time": "2025-07-01T03:28:40.868472Z"
    }
   },
   "cell_type": "code",
   "source": "np.square(arr6) # Compute the square of each element (equivalent to arr ** 2)",
   "id": "e0e3c8d526a58ef5",
   "outputs": [
    {
     "data": {
      "text/plain": [
       "array([ 529, 5776, 2601,  256, 3721, 1024], dtype=int32)"
      ]
     },
     "execution_count": 100,
     "metadata": {},
     "output_type": "execute_result"
    }
   ],
   "execution_count": 100
  },
  {
   "metadata": {
    "ExecuteTime": {
     "end_time": "2025-07-01T03:28:40.956097Z",
     "start_time": "2025-07-01T03:28:40.950489Z"
    }
   },
   "cell_type": "code",
   "source": "np.exp(arr6) # Compute the exponent ex of each element",
   "id": "978878b59c853afe",
   "outputs": [
    {
     "data": {
      "text/plain": [
       "array([9.74480345e+09, 1.01480039e+33, 1.40934908e+22, 8.88611052e+06,\n",
       "       3.10429794e+26, 7.89629602e+13])"
      ]
     },
     "execution_count": 101,
     "metadata": {},
     "output_type": "execute_result"
    }
   ],
   "execution_count": 101
  },
  {
   "metadata": {
    "ExecuteTime": {
     "end_time": "2025-07-01T03:28:41.048226Z",
     "start_time": "2025-07-01T03:28:41.043153Z"
    }
   },
   "cell_type": "code",
   "source": [
    "np.log(arr6),np.log10(arr6),np.log2(arr6),np.log1p(arr6)\n",
    "#Natural logarithm (base e), log base 10, log base 2, and log(1 + x), respectively"
   ],
   "id": "e30e9411d379ee1d",
   "outputs": [
    {
     "data": {
      "text/plain": [
       "(array([3.13549422, 4.33073334, 3.93182563, 2.77258872, 4.11087386,\n",
       "        3.4657359 ]),\n",
       " array([1.36172784, 1.88081359, 1.70757018, 1.20411998, 1.78532984,\n",
       "        1.50514998]),\n",
       " array([4.52356196, 6.24792751, 5.67242534, 4.        , 5.93073734,\n",
       "        5.        ]),\n",
       " array([3.17805383, 4.34380542, 3.95124372, 2.83321334, 4.12713439,\n",
       "        3.49650756]))"
      ]
     },
     "execution_count": 102,
     "metadata": {},
     "output_type": "execute_result"
    }
   ],
   "execution_count": 102
  },
  {
   "metadata": {
    "ExecuteTime": {
     "end_time": "2025-07-01T03:28:41.118986Z",
     "start_time": "2025-07-01T03:28:41.112847Z"
    }
   },
   "cell_type": "code",
   "source": "np.sign(arr6) #Compute the sign of each element: 1 (positive), 0 (zero), or –1 (negative)",
   "id": "b64e509a6780a851",
   "outputs": [
    {
     "data": {
      "text/plain": [
       "array([1, 1, 1, 1, 1, 1], dtype=int32)"
      ]
     },
     "execution_count": 103,
     "metadata": {},
     "output_type": "execute_result"
    }
   ],
   "execution_count": 103
  },
  {
   "metadata": {
    "ExecuteTime": {
     "end_time": "2025-07-01T03:28:41.221698Z",
     "start_time": "2025-07-01T03:28:41.215101Z"
    }
   },
   "cell_type": "code",
   "source": "np.ceil(arr6) #Compute the ceiling of each element (i.e., the smallest integer greater than or equal to that number)",
   "id": "d0e926a202e4ee33",
   "outputs": [
    {
     "data": {
      "text/plain": [
       "array([23, 76, 51, 16, 61, 32], dtype=int32)"
      ]
     },
     "execution_count": 104,
     "metadata": {},
     "output_type": "execute_result"
    }
   ],
   "execution_count": 104
  },
  {
   "metadata": {
    "ExecuteTime": {
     "end_time": "2025-07-01T03:28:41.318252Z",
     "start_time": "2025-07-01T03:28:41.311874Z"
    }
   },
   "cell_type": "code",
   "source": "np.floor(arr6)",
   "id": "4934bd7e916d3cf1",
   "outputs": [
    {
     "data": {
      "text/plain": [
       "array([23, 76, 51, 16, 61, 32], dtype=int32)"
      ]
     },
     "execution_count": 105,
     "metadata": {},
     "output_type": "execute_result"
    }
   ],
   "execution_count": 105
  },
  {
   "metadata": {
    "ExecuteTime": {
     "end_time": "2025-07-01T03:28:41.388687Z",
     "start_time": "2025-07-01T03:28:41.382492Z"
    }
   },
   "cell_type": "code",
   "source": "np.rint(arr6) #\tRound elements to the nearest integer, preserving the dtype",
   "id": "38b7c1860355877e",
   "outputs": [
    {
     "data": {
      "text/plain": [
       "array([23., 76., 51., 16., 61., 32.])"
      ]
     },
     "execution_count": 106,
     "metadata": {},
     "output_type": "execute_result"
    }
   ],
   "execution_count": 106
  },
  {
   "metadata": {
    "ExecuteTime": {
     "end_time": "2025-07-01T03:28:41.440164Z",
     "start_time": "2025-07-01T03:28:41.434174Z"
    }
   },
   "cell_type": "code",
   "source": [
    "arr=np.random.standard_normal(8)*10\n",
    "arr"
   ],
   "id": "865f7ffb851c5d1e",
   "outputs": [
    {
     "data": {
      "text/plain": [
       "array([ 12.78035231,  -3.24636087, -15.92131489,  -3.71967076,\n",
       "         7.36288712,   3.16620746,  -4.13630793,   8.46937538])"
      ]
     },
     "execution_count": 107,
     "metadata": {},
     "output_type": "execute_result"
    }
   ],
   "execution_count": 107
  },
  {
   "metadata": {
    "ExecuteTime": {
     "end_time": "2025-07-01T03:28:41.516675Z",
     "start_time": "2025-07-01T03:28:41.510366Z"
    }
   },
   "cell_type": "code",
   "source": [
    "rem,whole=np.modf(arr) # Return fractional and integral parts of array as separate arrays\n",
    "rem,whole"
   ],
   "id": "515bd35a269b39cf",
   "outputs": [
    {
     "data": {
      "text/plain": [
       "(array([ 0.78035231, -0.24636087, -0.92131489, -0.71967076,  0.36288712,\n",
       "         0.16620746, -0.13630793,  0.46937538]),\n",
       " array([ 12.,  -3., -15.,  -3.,   7.,   3.,  -4.,   8.]))"
      ]
     },
     "execution_count": 108,
     "metadata": {},
     "output_type": "execute_result"
    }
   ],
   "execution_count": 108
  },
  {
   "metadata": {
    "ExecuteTime": {
     "end_time": "2025-07-01T03:28:41.609498Z",
     "start_time": "2025-07-01T03:28:41.604719Z"
    }
   },
   "cell_type": "code",
   "source": "np.isnan(arr) # Return Boolean array indicating whether each value is NaN (Not a Number)",
   "id": "e7b743571ca0a11b",
   "outputs": [
    {
     "data": {
      "text/plain": [
       "array([False, False, False, False, False, False, False, False])"
      ]
     },
     "execution_count": 109,
     "metadata": {},
     "output_type": "execute_result"
    }
   ],
   "execution_count": 109
  },
  {
   "metadata": {
    "ExecuteTime": {
     "end_time": "2025-07-01T03:28:41.701581Z",
     "start_time": "2025-07-01T03:28:41.695098Z"
    }
   },
   "cell_type": "code",
   "source": "arr6,arr",
   "id": "e197cb7a4236d07",
   "outputs": [
    {
     "data": {
      "text/plain": [
       "(array([23, 76, 51, 16, 61, 32], dtype=int32),\n",
       " array([ 12.78035231,  -3.24636087, -15.92131489,  -3.71967076,\n",
       "          7.36288712,   3.16620746,  -4.13630793,   8.46937538]))"
      ]
     },
     "execution_count": 110,
     "metadata": {},
     "output_type": "execute_result"
    }
   ],
   "execution_count": 110
  },
  {
   "metadata": {
    "ExecuteTime": {
     "end_time": "2025-07-01T03:28:41.830780Z",
     "start_time": "2025-07-01T03:28:41.823412Z"
    }
   },
   "cell_type": "code",
   "source": [
    "arr7=np.zeros_like(arr) # creating an all zeros array like shape of the arr\n",
    "arr7=np.add(arr,1) # converting arr7 using add function (adding 1 to each element in arr)\n",
    "arr7"
   ],
   "id": "7d41ad8bd3201de",
   "outputs": [
    {
     "data": {
      "text/plain": [
       "array([ 13.78035231,  -2.24636087, -14.92131489,  -2.71967076,\n",
       "         8.36288712,   4.16620746,  -3.13630793,   9.46937538])"
      ]
     },
     "execution_count": 111,
     "metadata": {},
     "output_type": "execute_result"
    }
   ],
   "execution_count": 111
  },
  {
   "metadata": {
    "ExecuteTime": {
     "end_time": "2025-07-01T03:28:41.939184Z",
     "start_time": "2025-07-01T03:28:41.932234Z"
    }
   },
   "cell_type": "code",
   "source": "np.add(arr,arr7)",
   "id": "87301725a463c149",
   "outputs": [
    {
     "data": {
      "text/plain": [
       "array([ 26.56070463,  -5.49272174, -30.84262977,  -6.43934152,\n",
       "        15.72577424,   7.33241493,  -7.27261587,  17.93875076])"
      ]
     },
     "execution_count": 112,
     "metadata": {},
     "output_type": "execute_result"
    }
   ],
   "execution_count": 112
  },
  {
   "metadata": {
    "ExecuteTime": {
     "end_time": "2025-07-01T03:28:42.054911Z",
     "start_time": "2025-07-01T03:28:42.049838Z"
    }
   },
   "cell_type": "code",
   "source": "np.multiply(arr,arr7) # Multiply array elements",
   "id": "c7d5293df691d79e",
   "outputs": [
    {
     "data": {
      "text/plain": [
       "array([176.11775759,   7.29249804, 237.5669528 ,  10.11627982,\n",
       "        61.57499385,  13.19107716,  12.97273539,  80.19969467])"
      ]
     },
     "execution_count": 113,
     "metadata": {},
     "output_type": "execute_result"
    }
   ],
   "execution_count": 113
  },
  {
   "metadata": {
    "ExecuteTime": {
     "end_time": "2025-07-01T03:28:42.115187Z",
     "start_time": "2025-07-01T03:28:42.108023Z"
    }
   },
   "cell_type": "code",
   "source": "np.divide(arr,arr7),np.floor_divide(arr,arr7)  # Divide or floor divide (truncating the remainder)",
   "id": "32e21388a50d57dd",
   "outputs": [
    {
     "data": {
      "text/plain": [
       "(array([0.92743291, 1.44516445, 1.06701822, 1.36769157, 0.88042407,\n",
       "        0.75997355, 1.31884624, 0.89439641]),\n",
       " array([0., 1., 1., 1., 0., 0., 1., 0.]))"
      ]
     },
     "execution_count": 114,
     "metadata": {},
     "output_type": "execute_result"
    }
   ],
   "execution_count": 114
  },
  {
   "metadata": {
    "ExecuteTime": {
     "end_time": "2025-07-01T03:28:42.183713Z",
     "start_time": "2025-07-01T03:28:42.176814Z"
    }
   },
   "cell_type": "code",
   "source": "np.maximum(arr,arr7),np.fmax(arr,arr7) #Element-wise maximum; fmax ignores NaN",
   "id": "face5573522cf71a",
   "outputs": [
    {
     "data": {
      "text/plain": [
       "(array([ 13.78035231,  -2.24636087, -14.92131489,  -2.71967076,\n",
       "          8.36288712,   4.16620746,  -3.13630793,   9.46937538]),\n",
       " array([ 13.78035231,  -2.24636087, -14.92131489,  -2.71967076,\n",
       "          8.36288712,   4.16620746,  -3.13630793,   9.46937538]))"
      ]
     },
     "execution_count": 115,
     "metadata": {},
     "output_type": "execute_result"
    }
   ],
   "execution_count": 115
  },
  {
   "metadata": {
    "ExecuteTime": {
     "end_time": "2025-07-01T03:28:42.327264Z",
     "start_time": "2025-07-01T03:28:42.319740Z"
    }
   },
   "cell_type": "code",
   "source": "np.minimum(arr,arr7),np.fmin(arr,arr7) #Element-wise minimum; fmin ignores NaN",
   "id": "91efbf8a26edb522",
   "outputs": [
    {
     "data": {
      "text/plain": [
       "(array([ 12.78035231,  -3.24636087, -15.92131489,  -3.71967076,\n",
       "          7.36288712,   3.16620746,  -4.13630793,   8.46937538]),\n",
       " array([ 12.78035231,  -3.24636087, -15.92131489,  -3.71967076,\n",
       "          7.36288712,   3.16620746,  -4.13630793,   8.46937538]))"
      ]
     },
     "execution_count": 116,
     "metadata": {},
     "output_type": "execute_result"
    }
   ],
   "execution_count": 116
  },
  {
   "metadata": {},
   "cell_type": "markdown",
   "source": "## Array-Oriented Programming with Arrays",
   "id": "a7040b9462d22543"
  },
  {
   "metadata": {},
   "cell_type": "markdown",
   "source": "### Expressing Conditional Logic as Array Operations",
   "id": "6006d098b609a1eb"
  },
  {
   "metadata": {
    "ExecuteTime": {
     "end_time": "2025-07-01T03:28:42.557490Z",
     "start_time": "2025-07-01T03:28:42.550249Z"
    }
   },
   "cell_type": "code",
   "source": [
    "# The numpy.where function is a vectorized version of the ternary expression x if condition else y\n",
    "\n",
    "xarr=np.array([1.1,1.2,1.3,1.4,1.5])\n",
    "yarr=np.array([2.1,2.2,2.3,2.4,2.5])\n",
    "cond=np.array([True,False,True,True,False])\n",
    "\n",
    "np.where(cond,xarr,yarr) #value from xarr whenever the corresponding value in cond is True, and otherwise take the value from yarr"
   ],
   "id": "98dce13f9a2fd65a",
   "outputs": [
    {
     "data": {
      "text/plain": [
       "array([1.1, 2.2, 1.3, 1.4, 2.5])"
      ]
     },
     "execution_count": 117,
     "metadata": {},
     "output_type": "execute_result"
    }
   ],
   "execution_count": 117
  },
  {
   "metadata": {
    "ExecuteTime": {
     "end_time": "2025-07-01T03:28:42.769817Z",
     "start_time": "2025-07-01T03:28:42.762275Z"
    }
   },
   "cell_type": "code",
   "source": [
    "arr=np.random.standard_normal((4,4)) # generating a random numbers array with shape 4x4\n",
    "arr,arr>0,np.where(arr>0,2,-2) #arr>0 output an array where values >0 as True and otherwise false, np.where: 1st argument condition, 2nd argument if greater than zero replace all the values with 2 and otherwise -2"
   ],
   "id": "27fd32cc0d8a9ae",
   "outputs": [
    {
     "data": {
      "text/plain": [
       "(array([[ 1.74426548, -1.07594282, -0.47913857, -0.7997494 ],\n",
       "        [-0.25798631, -0.41813098, -1.87837018, -0.00608519],\n",
       "        [-0.15610772, -0.37292087, -1.97053035,  0.29057707],\n",
       "        [-0.17764348,  1.60197166, -0.6544629 , -1.07475568]]),\n",
       " array([[ True, False, False, False],\n",
       "        [False, False, False, False],\n",
       "        [False, False, False,  True],\n",
       "        [False,  True, False, False]]),\n",
       " array([[ 2, -2, -2, -2],\n",
       "        [-2, -2, -2, -2],\n",
       "        [-2, -2, -2,  2],\n",
       "        [-2,  2, -2, -2]]))"
      ]
     },
     "execution_count": 118,
     "metadata": {},
     "output_type": "execute_result"
    }
   ],
   "execution_count": 118
  },
  {
   "metadata": {
    "ExecuteTime": {
     "end_time": "2025-07-01T03:28:43.014993Z",
     "start_time": "2025-07-01T03:28:43.002970Z"
    }
   },
   "cell_type": "code",
   "source": "np.where(arr>0,2,arr) # # set only positive values to 2",
   "id": "f76b63f574acc406",
   "outputs": [
    {
     "data": {
      "text/plain": [
       "array([[ 2.        , -1.07594282, -0.47913857, -0.7997494 ],\n",
       "       [-0.25798631, -0.41813098, -1.87837018, -0.00608519],\n",
       "       [-0.15610772, -0.37292087, -1.97053035,  2.        ],\n",
       "       [-0.17764348,  2.        , -0.6544629 , -1.07475568]])"
      ]
     },
     "execution_count": 119,
     "metadata": {},
     "output_type": "execute_result"
    }
   ],
   "execution_count": 119
  },
  {
   "metadata": {
    "ExecuteTime": {
     "end_time": "2025-07-01T03:28:43.383858Z",
     "start_time": "2025-07-01T03:28:43.369871Z"
    }
   },
   "cell_type": "code",
   "source": [
    "gender=np.array([\"Male\",\"Male\",\"Female\",\"Male\",\"Female\",\"Female\"])\n",
    "np.where(gender==\"Male\",1,-1)"
   ],
   "id": "6de8655f976bfbfc",
   "outputs": [
    {
     "data": {
      "text/plain": [
       "array([ 1,  1, -1,  1, -1, -1])"
      ]
     },
     "execution_count": 120,
     "metadata": {},
     "output_type": "execute_result"
    }
   ],
   "execution_count": 120
  },
  {
   "metadata": {},
   "cell_type": "markdown",
   "source": "### Mathematical and Statistical Methods",
   "id": "6de0ee094c2e7523"
  },
  {
   "metadata": {
    "ExecuteTime": {
     "end_time": "2025-07-01T03:28:43.808150Z",
     "start_time": "2025-07-01T03:28:43.799034Z"
    }
   },
   "cell_type": "code",
   "source": [
    "arr=np.random.standard_normal((5,4))\n",
    "arr"
   ],
   "id": "7b0c4e96acf524c3",
   "outputs": [
    {
     "data": {
      "text/plain": [
       "array([[ 0.56809304,  0.12915582,  0.31488016, -0.01668517],\n",
       "       [-0.09774001,  0.22251908, -0.32922227, -0.60934641],\n",
       "       [ 1.04707819,  1.07045157, -0.26781825,  0.9536788 ],\n",
       "       [-0.01284374,  1.86600214, -0.42865277,  1.29987082],\n",
       "       [-1.2891092 , -0.80167953,  0.77551225,  1.02562045]])"
      ]
     },
     "execution_count": 121,
     "metadata": {},
     "output_type": "execute_result"
    }
   ],
   "execution_count": 121
  },
  {
   "metadata": {
    "ExecuteTime": {
     "end_time": "2025-07-01T03:28:44.117129Z",
     "start_time": "2025-07-01T03:28:44.087356Z"
    }
   },
   "cell_type": "code",
   "source": "arr.mean(),np.mean(arr)",
   "id": "2630f7b36423709d",
   "outputs": [
    {
     "data": {
      "text/plain": [
       "(np.float64(0.27098824842587), np.float64(0.27098824842587))"
      ]
     },
     "execution_count": 122,
     "metadata": {},
     "output_type": "execute_result"
    }
   ],
   "execution_count": 122
  },
  {
   "metadata": {
    "ExecuteTime": {
     "end_time": "2025-07-01T03:28:44.666340Z",
     "start_time": "2025-07-01T03:28:44.652705Z"
    }
   },
   "cell_type": "code",
   "source": "np.sum(arr),arr.sum()",
   "id": "ffaaf7bf4e90b30e",
   "outputs": [
    {
     "data": {
      "text/plain": [
       "(np.float64(5.419764968517399), np.float64(5.419764968517399))"
      ]
     },
     "execution_count": 123,
     "metadata": {},
     "output_type": "execute_result"
    }
   ],
   "execution_count": 123
  },
  {
   "metadata": {},
   "cell_type": "markdown",
   "source": [
    "axis=0 → Down the rows → Column-wise operation\n",
    "axis=1 → Across the columns → Row-wise operation"
   ],
   "id": "534d22641a02433b"
  },
  {
   "metadata": {
    "ExecuteTime": {
     "end_time": "2025-07-01T03:28:44.931531Z",
     "start_time": "2025-07-01T03:28:44.919420Z"
    }
   },
   "cell_type": "code",
   "source": "arr.sum(axis=0) #, it calculates the sum column-wise (down each column)",
   "id": "9f755c36c094e091",
   "outputs": [
    {
     "data": {
      "text/plain": [
       "array([0.21547828, 2.48644908, 0.06469912, 2.65313849])"
      ]
     },
     "execution_count": 124,
     "metadata": {},
     "output_type": "execute_result"
    }
   ],
   "execution_count": 124
  },
  {
   "metadata": {
    "ExecuteTime": {
     "end_time": "2025-07-01T03:28:45.164976Z",
     "start_time": "2025-07-01T03:28:45.150238Z"
    }
   },
   "cell_type": "code",
   "source": "arr.mean(axis=1) #it calculates the mean row-wise (across each row)",
   "id": "3a7c3180ef023bdb",
   "outputs": [
    {
     "data": {
      "text/plain": [
       "array([ 0.24886096, -0.2034474 ,  0.70084758,  0.68109411, -0.07241401])"
      ]
     },
     "execution_count": 125,
     "metadata": {},
     "output_type": "execute_result"
    }
   ],
   "execution_count": 125
  },
  {
   "metadata": {
    "ExecuteTime": {
     "end_time": "2025-07-01T03:28:45.381970Z",
     "start_time": "2025-07-01T03:28:45.368661Z"
    }
   },
   "cell_type": "code",
   "source": [
    "arr=np.array([0,1,2,3,4,5,6,7])\n",
    "arr.cumsum() # Cumulative sum means adding each element to the sum of all the previous elements."
   ],
   "id": "4737a2f74d318bfc",
   "outputs": [
    {
     "data": {
      "text/plain": [
       "array([ 0,  1,  3,  6, 10, 15, 21, 28])"
      ]
     },
     "execution_count": 126,
     "metadata": {},
     "output_type": "execute_result"
    }
   ],
   "execution_count": 126
  },
  {
   "metadata": {
    "ExecuteTime": {
     "end_time": "2025-07-01T03:28:45.579094Z",
     "start_time": "2025-07-01T03:28:45.566012Z"
    }
   },
   "cell_type": "code",
   "source": [
    "arr=np.array([[0,1,2],[3,4,5],[6,7,8]])\n",
    "arr"
   ],
   "id": "6361febad3aaf4c2",
   "outputs": [
    {
     "data": {
      "text/plain": [
       "array([[0, 1, 2],\n",
       "       [3, 4, 5],\n",
       "       [6, 7, 8]])"
      ]
     },
     "execution_count": 127,
     "metadata": {},
     "output_type": "execute_result"
    }
   ],
   "execution_count": 127
  },
  {
   "metadata": {
    "ExecuteTime": {
     "end_time": "2025-07-01T03:28:45.852971Z",
     "start_time": "2025-07-01T03:28:45.836405Z"
    }
   },
   "cell_type": "code",
   "source": "arr.cumsum(axis=0) # Sum down columns",
   "id": "fb9ce61bad0c57a",
   "outputs": [
    {
     "data": {
      "text/plain": [
       "array([[ 0,  1,  2],\n",
       "       [ 3,  5,  7],\n",
       "       [ 9, 12, 15]])"
      ]
     },
     "execution_count": 128,
     "metadata": {},
     "output_type": "execute_result"
    }
   ],
   "execution_count": 128
  },
  {
   "metadata": {
    "ExecuteTime": {
     "end_time": "2025-07-01T03:28:46.248533Z",
     "start_time": "2025-07-01T03:28:46.241144Z"
    }
   },
   "cell_type": "code",
   "source": "arr.cumsum(axis=1) # Sum across rows",
   "id": "2275f33702e6ed5d",
   "outputs": [
    {
     "data": {
      "text/plain": [
       "array([[ 0,  1,  3],\n",
       "       [ 3,  7, 12],\n",
       "       [ 6, 13, 21]])"
      ]
     },
     "execution_count": 129,
     "metadata": {},
     "output_type": "execute_result"
    }
   ],
   "execution_count": 129
  },
  {
   "metadata": {
    "ExecuteTime": {
     "end_time": "2025-07-01T03:28:46.558428Z",
     "start_time": "2025-07-01T03:28:46.549056Z"
    }
   },
   "cell_type": "code",
   "source": "arr.std(),arr.var() # Standard deviation and variance, respectively",
   "id": "39efad2707fdad7",
   "outputs": [
    {
     "data": {
      "text/plain": [
       "(np.float64(2.581988897471611), np.float64(6.666666666666667))"
      ]
     },
     "execution_count": 130,
     "metadata": {},
     "output_type": "execute_result"
    }
   ],
   "execution_count": 130
  },
  {
   "metadata": {
    "ExecuteTime": {
     "end_time": "2025-07-01T03:28:46.952538Z",
     "start_time": "2025-07-01T03:28:46.945049Z"
    }
   },
   "cell_type": "code",
   "source": "arr,arr.max(axis=0),arr.min(axis=1) # Minimum and maximum",
   "id": "776418b3cc5aafae",
   "outputs": [
    {
     "data": {
      "text/plain": [
       "(array([[0, 1, 2],\n",
       "        [3, 4, 5],\n",
       "        [6, 7, 8]]),\n",
       " array([6, 7, 8]),\n",
       " array([0, 3, 6]))"
      ]
     },
     "execution_count": 131,
     "metadata": {},
     "output_type": "execute_result"
    }
   ],
   "execution_count": 131
  },
  {
   "metadata": {
    "ExecuteTime": {
     "end_time": "2025-07-01T03:28:47.095849Z",
     "start_time": "2025-07-01T03:28:47.084342Z"
    }
   },
   "cell_type": "code",
   "source": "arr.argmin(axis=1),arr.argmax(axis=0)",
   "id": "d9a81562e56d0675",
   "outputs": [
    {
     "data": {
      "text/plain": [
       "(array([0, 0, 0]), array([2, 2, 2]))"
      ]
     },
     "execution_count": 132,
     "metadata": {},
     "output_type": "execute_result"
    }
   ],
   "execution_count": 132
  },
  {
   "metadata": {
    "ExecuteTime": {
     "end_time": "2025-07-01T03:28:47.236523Z",
     "start_time": "2025-07-01T03:28:47.229019Z"
    }
   },
   "cell_type": "code",
   "source": "arr,arr.cumprod(axis=0) # Cumulative product of elements starting from 1",
   "id": "1a4675a11276e8f6",
   "outputs": [
    {
     "data": {
      "text/plain": [
       "(array([[0, 1, 2],\n",
       "        [3, 4, 5],\n",
       "        [6, 7, 8]]),\n",
       " array([[ 0,  1,  2],\n",
       "        [ 0,  4, 10],\n",
       "        [ 0, 28, 80]]))"
      ]
     },
     "execution_count": 133,
     "metadata": {},
     "output_type": "execute_result"
    }
   ],
   "execution_count": 133
  },
  {
   "metadata": {},
   "cell_type": "markdown",
   "source": "### Methods for Boolean Arrays",
   "id": "18735238b75afe27"
  },
  {
   "metadata": {},
   "cell_type": "markdown",
   "source": "Boolean values are coerced to 1 (True) and 0 (False) in the preceding methods.",
   "id": "d9a878169c478a56"
  },
  {
   "metadata": {
    "ExecuteTime": {
     "end_time": "2025-07-01T03:28:47.433194Z",
     "start_time": "2025-07-01T03:28:47.417306Z"
    }
   },
   "cell_type": "code",
   "source": "arr=np.random.standard_normal(100)",
   "id": "422888860e84cc76",
   "outputs": [],
   "execution_count": 134
  },
  {
   "metadata": {
    "ExecuteTime": {
     "end_time": "2025-07-01T03:28:47.591549Z",
     "start_time": "2025-07-01T03:28:47.581239Z"
    }
   },
   "cell_type": "code",
   "source": "(arr>0).sum() # Number of positive values",
   "id": "f0e6d5cc1361137",
   "outputs": [
    {
     "data": {
      "text/plain": [
       "np.int64(54)"
      ]
     },
     "execution_count": 135,
     "metadata": {},
     "output_type": "execute_result"
    }
   ],
   "execution_count": 135
  },
  {
   "metadata": {
    "ExecuteTime": {
     "end_time": "2025-07-01T03:28:47.821871Z",
     "start_time": "2025-07-01T03:28:47.809618Z"
    }
   },
   "cell_type": "code",
   "source": "(arr<=0).sum() # number of non-positive values",
   "id": "2c2cccffd5184543",
   "outputs": [
    {
     "data": {
      "text/plain": [
       "np.int64(46)"
      ]
     },
     "execution_count": 136,
     "metadata": {},
     "output_type": "execute_result"
    }
   ],
   "execution_count": 136
  },
  {
   "metadata": {
    "ExecuteTime": {
     "end_time": "2025-07-01T03:28:48.050668Z",
     "start_time": "2025-07-01T03:28:48.042201Z"
    }
   },
   "cell_type": "code",
   "source": [
    "bools=np.array([True,False,True,False,False])\n",
    "bools.any(),bools.all() # any tests whether one or more values in an array is True, while all checks if every value is True"
   ],
   "id": "732a3fee526710d2",
   "outputs": [
    {
     "data": {
      "text/plain": [
       "(np.True_, np.False_)"
      ]
     },
     "execution_count": 137,
     "metadata": {},
     "output_type": "execute_result"
    }
   ],
   "execution_count": 137
  },
  {
   "metadata": {},
   "cell_type": "markdown",
   "source": "### Sorting",
   "id": "da496a5174d269a"
  },
  {
   "metadata": {
    "ExecuteTime": {
     "end_time": "2025-07-01T03:28:48.262226Z",
     "start_time": "2025-07-01T03:28:48.249847Z"
    }
   },
   "cell_type": "code",
   "source": [
    "arr=np.random.standard_normal((5,3))\n",
    "arr"
   ],
   "id": "6df622f55bcaefcf",
   "outputs": [
    {
     "data": {
      "text/plain": [
       "array([[ 1.71099401,  0.04454429,  0.26815626],\n",
       "       [ 0.21181334, -0.82408334,  0.06982126],\n",
       "       [-0.29125512,  0.04949456, -0.30611491],\n",
       "       [-2.11516171, -0.87011146, -0.90082943],\n",
       "       [-0.33759381, -0.24704297,  1.23538298]])"
      ]
     },
     "execution_count": 138,
     "metadata": {},
     "output_type": "execute_result"
    }
   ],
   "execution_count": 138
  },
  {
   "metadata": {
    "ExecuteTime": {
     "end_time": "2025-07-01T03:28:48.447848Z",
     "start_time": "2025-07-01T03:28:48.430114Z"
    }
   },
   "cell_type": "code",
   "source": [
    "arr.sort(axis=0)\n",
    "arr"
   ],
   "id": "6fe06f638b45383a",
   "outputs": [
    {
     "data": {
      "text/plain": [
       "array([[-2.11516171, -0.87011146, -0.90082943],\n",
       "       [-0.33759381, -0.82408334, -0.30611491],\n",
       "       [-0.29125512, -0.24704297,  0.06982126],\n",
       "       [ 0.21181334,  0.04454429,  0.26815626],\n",
       "       [ 1.71099401,  0.04949456,  1.23538298]])"
      ]
     },
     "execution_count": 139,
     "metadata": {},
     "output_type": "execute_result"
    }
   ],
   "execution_count": 139
  },
  {
   "metadata": {
    "ExecuteTime": {
     "end_time": "2025-07-01T03:28:48.819112Z",
     "start_time": "2025-07-01T03:28:48.807136Z"
    }
   },
   "cell_type": "code",
   "source": [
    "arr.sort(axis=1)\n",
    "arr"
   ],
   "id": "a7f77876d764788",
   "outputs": [
    {
     "data": {
      "text/plain": [
       "array([[-2.11516171, -0.90082943, -0.87011146],\n",
       "       [-0.82408334, -0.33759381, -0.30611491],\n",
       "       [-0.29125512, -0.24704297,  0.06982126],\n",
       "       [ 0.04454429,  0.21181334,  0.26815626],\n",
       "       [ 0.04949456,  1.23538298,  1.71099401]])"
      ]
     },
     "execution_count": 140,
     "metadata": {},
     "output_type": "execute_result"
    }
   ],
   "execution_count": 140
  },
  {
   "metadata": {
    "ExecuteTime": {
     "end_time": "2025-07-01T03:28:49.167831Z",
     "start_time": "2025-07-01T03:28:49.156644Z"
    }
   },
   "cell_type": "code",
   "source": [
    "#The top-level method numpy.sort returns a sorted copy of an array (like the Python built-in function sorted) instead of modifying the array in place.\n",
    "arr2=np.array([5,-10,7,1,0,-3])\n",
    "sorted_arr2=np.sort(arr2)\n",
    "sorted_arr2"
   ],
   "id": "3b7421b672493f52",
   "outputs": [
    {
     "data": {
      "text/plain": [
       "array([-10,  -3,   0,   1,   5,   7])"
      ]
     },
     "execution_count": 141,
     "metadata": {},
     "output_type": "execute_result"
    }
   ],
   "execution_count": 141
  },
  {
   "metadata": {},
   "cell_type": "markdown",
   "source": "### Unique and Other Set Logic",
   "id": "c11c4f454432b4e7"
  },
  {
   "metadata": {},
   "cell_type": "markdown",
   "source": "NumPy has some basic set operations for one-dimensional ndarrays. A commonly used one is numpy.unique, which returns the sorted unique values in an array",
   "id": "bc370fcfc16be487"
  },
  {
   "metadata": {
    "ExecuteTime": {
     "end_time": "2025-07-01T03:28:49.410752Z",
     "start_time": "2025-07-01T03:28:49.397584Z"
    }
   },
   "cell_type": "code",
   "source": [
    "names=np.array([\"Bob\", \"Will\", \"Joe\", \"Bob\", \"Will\", \"Joe\", \"Joe\"])\n",
    "np.unique(names)"
   ],
   "id": "44f364574c930244",
   "outputs": [
    {
     "data": {
      "text/plain": [
       "array(['Bob', 'Joe', 'Will'], dtype='<U4')"
      ]
     },
     "execution_count": 142,
     "metadata": {},
     "output_type": "execute_result"
    }
   ],
   "execution_count": 142
  },
  {
   "metadata": {
    "ExecuteTime": {
     "end_time": "2025-07-01T03:28:49.573234Z",
     "start_time": "2025-07-01T03:28:49.555295Z"
    }
   },
   "cell_type": "code",
   "source": [
    "ints=np.array([3, 3, 3, 2, 2, 1, 1, 4, 4])\n",
    "np.unique((ints))"
   ],
   "id": "ce5aebc4bc35c8be",
   "outputs": [
    {
     "data": {
      "text/plain": [
       "array([1, 2, 3, 4])"
      ]
     },
     "execution_count": 143,
     "metadata": {},
     "output_type": "execute_result"
    }
   ],
   "execution_count": 143
  },
  {
   "metadata": {
    "ExecuteTime": {
     "end_time": "2025-07-01T03:28:49.760042Z",
     "start_time": "2025-07-01T03:28:49.747723Z"
    }
   },
   "cell_type": "code",
   "source": "sorted(set(names))",
   "id": "78fbbc01fe3b69e0",
   "outputs": [
    {
     "data": {
      "text/plain": [
       "[np.str_('Bob'), np.str_('Joe'), np.str_('Will')]"
      ]
     },
     "execution_count": 144,
     "metadata": {},
     "output_type": "execute_result"
    }
   ],
   "execution_count": 144
  },
  {
   "metadata": {
    "ExecuteTime": {
     "end_time": "2025-07-01T03:28:49.890030Z",
     "start_time": "2025-07-01T03:28:49.881505Z"
    }
   },
   "cell_type": "code",
   "source": [
    "values=np.array([6, 0, 0, 3, 2, 5, 6])\n",
    "np.isin(values,[2,3,6])"
   ],
   "id": "7af61a49c5798553",
   "outputs": [
    {
     "data": {
      "text/plain": [
       "array([ True, False, False,  True,  True, False,  True])"
      ]
     },
     "execution_count": 145,
     "metadata": {},
     "output_type": "execute_result"
    }
   ],
   "execution_count": 145
  },
  {
   "metadata": {},
   "cell_type": "markdown",
   "source": "## File Input and Output with Arrays",
   "id": "b832afb8249c8c06"
  },
  {
   "metadata": {
    "ExecuteTime": {
     "end_time": "2025-07-01T03:28:50.042779Z",
     "start_time": "2025-07-01T03:28:50.037323Z"
    }
   },
   "cell_type": "code",
   "source": [
    "arr=np.arange(10)\n",
    "np.save(\"some_array\",arr)"
   ],
   "id": "23698b44961dc990",
   "outputs": [],
   "execution_count": 146
  },
  {
   "metadata": {
    "ExecuteTime": {
     "end_time": "2025-07-01T03:28:50.104716Z",
     "start_time": "2025-07-01T03:28:50.089437Z"
    }
   },
   "cell_type": "code",
   "source": "np.load(\"some_array.npy\")",
   "id": "bb94ada7130f3c69",
   "outputs": [
    {
     "data": {
      "text/plain": [
       "array([0, 1, 2, 3, 4, 5, 6, 7, 8, 9])"
      ]
     },
     "execution_count": 147,
     "metadata": {},
     "output_type": "execute_result"
    }
   ],
   "execution_count": 147
  },
  {
   "metadata": {
    "ExecuteTime": {
     "end_time": "2025-07-01T03:28:50.231774Z",
     "start_time": "2025-07-01T03:28:50.222565Z"
    }
   },
   "cell_type": "code",
   "source": "np.savez(\"array_archive.npz\",a=arr,b=arr) #can save multiple arrays in an uncompressed archive using numpy.savez and passing the arrays as keyword arguments:",
   "id": "de5f551eff89fb56",
   "outputs": [],
   "execution_count": 148
  },
  {
   "metadata": {
    "ExecuteTime": {
     "end_time": "2025-07-01T03:28:50.327270Z",
     "start_time": "2025-07-01T03:28:50.290749Z"
    }
   },
   "cell_type": "code",
   "source": [
    "arch=np.load(\"array_archive.npz\") # When loading an .npz file, you get back a dictionary-like object that loads the individual arrays\n",
    "arch[\"b\"]"
   ],
   "id": "cf424b2ee0e5424b",
   "outputs": [
    {
     "data": {
      "text/plain": [
       "array([0, 1, 2, 3, 4, 5, 6, 7, 8, 9])"
      ]
     },
     "execution_count": 149,
     "metadata": {},
     "output_type": "execute_result"
    }
   ],
   "execution_count": 149
  },
  {
   "metadata": {},
   "cell_type": "markdown",
   "source": "## Linear Algebra",
   "id": "5b5565adffa38099"
  },
  {
   "metadata": {
    "ExecuteTime": {
     "end_time": "2025-07-01T03:28:50.439203Z",
     "start_time": "2025-07-01T03:28:50.431922Z"
    }
   },
   "cell_type": "code",
   "source": [
    "x = np.array([[1., 2., 3.], [4., 5., 6.]])\n",
    "y = np.array([[6., 23.], [-1, 7], [8, 9]])\n",
    "x,y"
   ],
   "id": "d2d5019ccf015b0f",
   "outputs": [
    {
     "data": {
      "text/plain": [
       "(array([[1., 2., 3.],\n",
       "        [4., 5., 6.]]),\n",
       " array([[ 6., 23.],\n",
       "        [-1.,  7.],\n",
       "        [ 8.,  9.]]))"
      ]
     },
     "execution_count": 150,
     "metadata": {},
     "output_type": "execute_result"
    }
   ],
   "execution_count": 150
  },
  {
   "metadata": {
    "ExecuteTime": {
     "end_time": "2025-07-01T03:28:50.546017Z",
     "start_time": "2025-07-01T03:28:50.535040Z"
    }
   },
   "cell_type": "code",
   "source": "x.dot(y),np.dot(x,y)",
   "id": "d628396291420dd",
   "outputs": [
    {
     "data": {
      "text/plain": [
       "(array([[ 28.,  64.],\n",
       "        [ 67., 181.]]),\n",
       " array([[ 28.,  64.],\n",
       "        [ 67., 181.]]))"
      ]
     },
     "execution_count": 151,
     "metadata": {},
     "output_type": "execute_result"
    }
   ],
   "execution_count": 151
  },
  {
   "metadata": {
    "ExecuteTime": {
     "end_time": "2025-07-01T03:28:50.697887Z",
     "start_time": "2025-07-01T03:28:50.692175Z"
    }
   },
   "cell_type": "code",
   "source": "from numpy.linalg import inv,qr",
   "id": "2b1586459063f6e6",
   "outputs": [],
   "execution_count": 152
  },
  {
   "metadata": {
    "ExecuteTime": {
     "end_time": "2025-07-01T03:28:50.798677Z",
     "start_time": "2025-07-01T03:28:50.786983Z"
    }
   },
   "cell_type": "code",
   "source": "x=np.random.standard_normal((5,5))",
   "id": "1477826278c1454a",
   "outputs": [],
   "execution_count": 153
  },
  {
   "metadata": {
    "ExecuteTime": {
     "end_time": "2025-07-01T03:28:50.891236Z",
     "start_time": "2025-07-01T03:28:50.855567Z"
    }
   },
   "cell_type": "code",
   "source": "mat=x.T@x",
   "id": "5c28c3b9c9a10512",
   "outputs": [],
   "execution_count": 154
  },
  {
   "metadata": {
    "ExecuteTime": {
     "end_time": "2025-07-01T03:28:50.991054Z",
     "start_time": "2025-07-01T03:28:50.963066Z"
    }
   },
   "cell_type": "code",
   "source": "inv(mat)",
   "id": "cf24582691068b12",
   "outputs": [
    {
     "data": {
      "text/plain": [
       "array([[13.34338759,  0.66156629,  3.03003649, -1.16300295,  3.93901204],\n",
       "       [ 0.66156629,  0.46074024,  0.22065377,  0.06677863,  0.12824223],\n",
       "       [ 3.03003649,  0.22065377,  0.82806554, -0.16411002,  0.89362173],\n",
       "       [-1.16300295,  0.06677863, -0.16411002,  0.46504391, -0.49656901],\n",
       "       [ 3.93901204,  0.12824223,  0.89362173, -0.49656901,  1.37289488]])"
      ]
     },
     "execution_count": 155,
     "metadata": {},
     "output_type": "execute_result"
    }
   ],
   "execution_count": 155
  },
  {
   "metadata": {
    "ExecuteTime": {
     "end_time": "2025-07-01T03:28:51.143035Z",
     "start_time": "2025-07-01T03:28:51.125788Z"
    }
   },
   "cell_type": "code",
   "source": "mat@inv(mat)",
   "id": "6f146b88f3f425a8",
   "outputs": [
    {
     "data": {
      "text/plain": [
       "array([[ 1.00000000e+00,  1.39575580e-16,  3.30472309e-17,\n",
       "        -9.38695152e-17,  6.08162170e-16],\n",
       "       [-4.99129426e-16,  1.00000000e+00,  1.26003845e-17,\n",
       "        -5.37201615e-17, -3.95321861e-17],\n",
       "       [-4.18518871e-15, -2.54595562e-17,  1.00000000e+00,\n",
       "         3.20433723e-16,  1.92922054e-16],\n",
       "       [-2.50950489e-15,  4.88146718e-17, -8.29002966e-17,\n",
       "         1.00000000e+00, -6.43409261e-16],\n",
       "       [-1.43931508e-14, -2.51463194e-16, -1.43291500e-15,\n",
       "         1.32779212e-15,  1.00000000e+00]])"
      ]
     },
     "execution_count": 156,
     "metadata": {},
     "output_type": "execute_result"
    }
   ],
   "execution_count": 156
  },
  {
   "metadata": {
    "ExecuteTime": {
     "end_time": "2025-07-01T03:28:51.492621Z",
     "start_time": "2025-07-01T03:28:51.477510Z"
    }
   },
   "cell_type": "code",
   "source": [
    "A=np.array([[1,2],[3,4]])\n",
    "x=np.array([[\"x\"],[\"y\"]])\n",
    "b=np.array([[4],[5]])\n",
    "\n",
    "from numpy.linalg import solve"
   ],
   "id": "2db2690840bcf6fb",
   "outputs": [],
   "execution_count": 157
  },
  {
   "metadata": {
    "ExecuteTime": {
     "end_time": "2025-07-01T03:28:51.753842Z",
     "start_time": "2025-07-01T03:28:51.741307Z"
    }
   },
   "cell_type": "code",
   "source": "solve(A,b)",
   "id": "88d45cfeffa9ddf",
   "outputs": [
    {
     "data": {
      "text/plain": [
       "array([[-3. ],\n",
       "       [ 3.5]])"
      ]
     },
     "execution_count": 158,
     "metadata": {},
     "output_type": "execute_result"
    }
   ],
   "execution_count": 158
  },
  {
   "metadata": {
    "ExecuteTime": {
     "end_time": "2025-07-01T03:28:52.103565Z",
     "start_time": "2025-07-01T03:28:52.083874Z"
    }
   },
   "cell_type": "code",
   "source": [
    "import random\n",
    "position=0\n",
    "walk=[position]\n",
    "nsteps=1000\n",
    "for _ in range(nsteps):\n",
    "    step=1 if random.randint(0,1) else -1\n",
    "    position+=step\n",
    "    walk.append(position)"
   ],
   "id": "997db4f399d8ad18",
   "outputs": [],
   "execution_count": 159
  },
  {
   "metadata": {
    "ExecuteTime": {
     "end_time": "2025-07-01T03:28:52.956347Z",
     "start_time": "2025-07-01T03:28:52.476743Z"
    }
   },
   "cell_type": "code",
   "source": "plt.plot(walk[:100])",
   "id": "5a89f74f7a67d80f",
   "outputs": [
    {
     "data": {
      "text/plain": [
       "[<matplotlib.lines.Line2D at 0x201253e5090>]"
      ]
     },
     "execution_count": 160,
     "metadata": {},
     "output_type": "execute_result"
    },
    {
     "data": {
      "text/plain": [
       "<Figure size 640x480 with 1 Axes>"
      ],
      "image/png": "[encoded data removed]"
     },
     "metadata": {},
     "output_type": "display_data"
    }
   ],
   "execution_count": 160
  },
  {
   "metadata": {
    "ExecuteTime": {
     "end_time": "2025-07-01T03:28:53.145546Z",
     "start_time": "2025-07-01T03:28:53.139709Z"
    }
   },
   "cell_type": "code",
   "source": "",
   "id": "4f974757a5aa5480",
   "outputs": [],
   "execution_count": null
  }
 ],
 "metadata": {
  "kernelspec": {
   "display_name": "Python 3",
   "language": "python",
   "name": "python3"
  },
  "language_info": {
   "codemirror_mode": {
    "name": "ipython",
    "version": 2
   },
   "file_extension": ".py",
   "mimetype": "text/x-python",
   "name": "python",
   "nbconvert_exporter": "python",
   "pygments_lexer": "ipython2",
   "version": "2.7.6"
  }
 },
 "nbformat": 4,
 "nbformat_minor": 5
}
