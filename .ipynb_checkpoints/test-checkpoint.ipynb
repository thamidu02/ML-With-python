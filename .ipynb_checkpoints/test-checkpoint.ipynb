{
 "cells": [
  {
   "cell_type": "code",
   "id": "initial_id",
   "metadata": {
    "collapsed": true,
    "ExecuteTime": {
     "end_time": "2025-06-27T02:44:09.665720Z",
     "start_time": "2025-06-27T02:44:09.659198Z"
    }
   },
   "source": "from datetime import datetime",
   "outputs": [],
   "execution_count": 1
  },
  {
   "metadata": {
    "ExecuteTime": {
     "end_time": "2025-06-27T02:44:09.713694Z",
     "start_time": "2025-06-27T02:44:09.708042Z"
    }
   },
   "cell_type": "code",
   "source": [
    "new_year=datetime(year=2023,month=4,day=14)\n",
    "b_day=datetime(year=2024,month=7,day=2)\n",
    "\n",
    "dates=b_day-new_year\n",
    "\n",
    "print(f\"There are {dates.days}\")"
   ],
   "id": "42e6948597567dad",
   "outputs": [
    {
     "name": "stdout",
     "output_type": "stream",
     "text": [
      "There are 445\n"
     ]
    }
   ],
   "execution_count": 2
  },
  {
   "metadata": {
    "ExecuteTime": {
     "end_time": "2025-06-27T02:44:10.562280Z",
     "start_time": "2025-06-27T02:44:10.558727Z"
    }
   },
   "cell_type": "code",
   "source": "print(\"hello world\")",
   "id": "2c53097ed70ad633",
   "outputs": [
    {
     "name": "stdout",
     "output_type": "stream",
     "text": [
      "hello world\n"
     ]
    }
   ],
   "execution_count": 3
  },
  {
   "metadata": {
    "ExecuteTime": {
     "end_time": "2025-06-27T02:44:10.593976Z",
     "start_time": "2025-06-27T02:44:10.582316Z"
    }
   },
   "cell_type": "code",
   "source": [
    "tup=tuple('string')\n",
    "tup"
   ],
   "id": "9fe0ffbce6b4fe65",
   "outputs": [
    {
     "data": {
      "text/plain": [
       "('s', 't', 'r', 'i', 'n', 'g')"
      ]
     },
     "execution_count": 4,
     "metadata": {},
     "output_type": "execute_result"
    }
   ],
   "execution_count": 4
  },
  {
   "metadata": {
    "ExecuteTime": {
     "end_time": "2025-06-27T02:44:10.826508Z",
     "start_time": "2025-06-27T02:44:10.820883Z"
    }
   },
   "cell_type": "code",
   "source": "tup[0]",
   "id": "e1065665f7a7f377",
   "outputs": [
    {
     "data": {
      "text/plain": [
       "'s'"
      ]
     },
     "execution_count": 5,
     "metadata": {},
     "output_type": "execute_result"
    }
   ],
   "execution_count": 5
  },
  {
   "metadata": {
    "ExecuteTime": {
     "end_time": "2025-06-27T02:44:10.971043Z",
     "start_time": "2025-06-27T02:44:10.965466Z"
    }
   },
   "cell_type": "code",
   "source": [
    "nested_tup=(4,5,6),(7,8)\n",
    "nested_tup"
   ],
   "id": "6063cec14473a954",
   "outputs": [
    {
     "data": {
      "text/plain": [
       "((4, 5, 6), (7, 8))"
      ]
     },
     "execution_count": 6,
     "metadata": {},
     "output_type": "execute_result"
    }
   ],
   "execution_count": 6
  },
  {
   "metadata": {
    "ExecuteTime": {
     "end_time": "2025-06-27T02:44:11.120750Z",
     "start_time": "2025-06-27T02:44:11.114980Z"
    }
   },
   "cell_type": "code",
   "source": "nested_tup[0]",
   "id": "bb56e419a0dd053",
   "outputs": [
    {
     "data": {
      "text/plain": [
       "(4, 5, 6)"
      ]
     },
     "execution_count": 7,
     "metadata": {},
     "output_type": "execute_result"
    }
   ],
   "execution_count": 7
  },
  {
   "metadata": {
    "ExecuteTime": {
     "end_time": "2025-06-27T02:44:11.212798Z",
     "start_time": "2025-06-27T02:44:11.207250Z"
    }
   },
   "cell_type": "code",
   "source": "nested_tup[0][:2]",
   "id": "1e856e35c772a2f9",
   "outputs": [
    {
     "data": {
      "text/plain": [
       "(4, 5)"
      ]
     },
     "execution_count": 8,
     "metadata": {},
     "output_type": "execute_result"
    }
   ],
   "execution_count": 8
  },
  {
   "metadata": {
    "ExecuteTime": {
     "end_time": "2025-06-27T02:44:11.325346Z",
     "start_time": "2025-06-27T02:44:11.317381Z"
    }
   },
   "cell_type": "code",
   "source": [
    "a_list=[2,3,7,True,\"Hello\"]\n",
    "a_list"
   ],
   "id": "aa951357ee358a99",
   "outputs": [
    {
     "data": {
      "text/plain": [
       "[2, 3, 7, True, 'Hello']"
      ]
     },
     "execution_count": 9,
     "metadata": {},
     "output_type": "execute_result"
    }
   ],
   "execution_count": 9
  },
  {
   "metadata": {
    "ExecuteTime": {
     "end_time": "2025-06-27T02:44:11.443144Z",
     "start_time": "2025-06-27T02:44:11.437520Z"
    }
   },
   "cell_type": "code",
   "source": [
    "tup=(\"foo\",\"bar\",\"baz\")\n",
    "b_list=list(tup)\n",
    "b_list[1]=\"hello\"\n",
    "b_list"
   ],
   "id": "61b89c753fc47200",
   "outputs": [
    {
     "data": {
      "text/plain": [
       "['foo', 'hello', 'baz']"
      ]
     },
     "execution_count": 10,
     "metadata": {},
     "output_type": "execute_result"
    }
   ],
   "execution_count": 10
  },
  {
   "metadata": {
    "ExecuteTime": {
     "end_time": "2025-06-27T02:44:11.566481Z",
     "start_time": "2025-06-27T02:44:11.560962Z"
    }
   },
   "cell_type": "code",
   "source": [
    "b_list.append(\"thamidu\")\n",
    "b_list"
   ],
   "id": "ce05795559cfe4a",
   "outputs": [
    {
     "data": {
      "text/plain": [
       "['foo', 'hello', 'baz', 'thamidu']"
      ]
     },
     "execution_count": 11,
     "metadata": {},
     "output_type": "execute_result"
    }
   ],
   "execution_count": 11
  },
  {
   "metadata": {
    "ExecuteTime": {
     "end_time": "2025-06-27T02:44:11.730263Z",
     "start_time": "2025-06-27T02:44:11.723721Z"
    }
   },
   "cell_type": "code",
   "source": [
    "gen=range(10)\n",
    "gen"
   ],
   "id": "43b2f4bcbac624e2",
   "outputs": [
    {
     "data": {
      "text/plain": [
       "range(0, 10)"
      ]
     },
     "execution_count": 12,
     "metadata": {},
     "output_type": "execute_result"
    }
   ],
   "execution_count": 12
  },
  {
   "metadata": {
    "ExecuteTime": {
     "end_time": "2025-06-27T02:44:11.833820Z",
     "start_time": "2025-06-27T02:44:11.827039Z"
    }
   },
   "cell_type": "code",
   "source": "list(gen)",
   "id": "3d2645a5145cd4c4",
   "outputs": [
    {
     "data": {
      "text/plain": [
       "[0, 1, 2, 3, 4, 5, 6, 7, 8, 9]"
      ]
     },
     "execution_count": 13,
     "metadata": {},
     "output_type": "execute_result"
    }
   ],
   "execution_count": 13
  },
  {
   "metadata": {
    "ExecuteTime": {
     "end_time": "2025-06-27T02:44:12.038438Z",
     "start_time": "2025-06-27T02:44:12.030020Z"
    }
   },
   "cell_type": "code",
   "source": [
    "c=[\"thamidu\",\"amri\",\"nuwan\",\"harsha\",\"shanaka\",\"bimsara\"]\n",
    "c.insert(1,\"rajika\")\n",
    "c"
   ],
   "id": "5e959c91372942ac",
   "outputs": [
    {
     "data": {
      "text/plain": [
       "['thamidu', 'rajika', 'amri', 'nuwan', 'harsha', 'shanaka', 'bimsara']"
      ]
     },
     "execution_count": 14,
     "metadata": {},
     "output_type": "execute_result"
    }
   ],
   "execution_count": 14
  },
  {
   "metadata": {
    "ExecuteTime": {
     "end_time": "2025-06-27T02:44:12.183584Z",
     "start_time": "2025-06-27T02:44:12.175098Z"
    }
   },
   "cell_type": "code",
   "source": [
    "b=[4,3,8,7,9]\n",
    "b.sort()\n",
    "b"
   ],
   "id": "45e0fcaa2f2d910f",
   "outputs": [
    {
     "data": {
      "text/plain": [
       "[3, 4, 7, 8, 9]"
      ]
     },
     "execution_count": 15,
     "metadata": {},
     "output_type": "execute_result"
    }
   ],
   "execution_count": 15
  },
  {
   "metadata": {
    "ExecuteTime": {
     "end_time": "2025-06-27T02:44:12.380655Z",
     "start_time": "2025-06-27T02:44:12.371816Z"
    }
   },
   "cell_type": "code",
   "source": [
    "d=[\"saw\",\"small\",\"he\",\"foxes\"]\n",
    "d.sort(key=len)\n",
    "d"
   ],
   "id": "7282a49cccb4ffb5",
   "outputs": [
    {
     "data": {
      "text/plain": [
       "['he', 'saw', 'small', 'foxes']"
      ]
     },
     "execution_count": 16,
     "metadata": {},
     "output_type": "execute_result"
    }
   ],
   "execution_count": 16
  },
  {
   "metadata": {
    "ExecuteTime": {
     "end_time": "2025-06-27T02:44:12.539589Z",
     "start_time": "2025-06-27T02:44:12.529474Z"
    }
   },
   "cell_type": "code",
   "source": [
    "seq=[7,2,3,7,5,6,0,1]\n",
    "seq[1:5]"
   ],
   "id": "d123e2e5891d91a6",
   "outputs": [
    {
     "data": {
      "text/plain": [
       "[2, 3, 7, 5]"
      ]
     },
     "execution_count": 17,
     "metadata": {},
     "output_type": "execute_result"
    }
   ],
   "execution_count": 17
  },
  {
   "metadata": {
    "ExecuteTime": {
     "end_time": "2025-06-27T02:44:12.669701Z",
     "start_time": "2025-06-27T02:44:12.664356Z"
    }
   },
   "cell_type": "code",
   "source": "seq[3:5]=[6,3]",
   "id": "21c391b4e99f8c16",
   "outputs": [],
   "execution_count": 18
  },
  {
   "metadata": {
    "ExecuteTime": {
     "end_time": "2025-06-27T02:44:12.723584Z",
     "start_time": "2025-06-27T02:44:12.714888Z"
    }
   },
   "cell_type": "code",
   "source": [
    "strings=[\"a\",\"as\",\"bat\",\"car\",\"dove\",\"python\"]\n",
    "[x.upper() for x in strings if len(x)>2]"
   ],
   "id": "277698f8a8802b77",
   "outputs": [
    {
     "data": {
      "text/plain": [
       "['BAT', 'CAR', 'DOVE', 'PYTHON']"
      ]
     },
     "execution_count": 19,
     "metadata": {},
     "output_type": "execute_result"
    }
   ],
   "execution_count": 19
  },
  {
   "metadata": {
    "ExecuteTime": {
     "end_time": "2025-06-27T02:44:12.859773Z",
     "start_time": "2025-06-27T02:44:12.850372Z"
    }
   },
   "cell_type": "code",
   "source": [
    "unique_lengths={len(x) for x in strings}\n",
    "unique_lengths"
   ],
   "id": "6e7b67937c29a422",
   "outputs": [
    {
     "data": {
      "text/plain": [
       "{1, 2, 3, 4, 6}"
      ]
     },
     "execution_count": 20,
     "metadata": {},
     "output_type": "execute_result"
    }
   ],
   "execution_count": 20
  },
  {
   "metadata": {
    "ExecuteTime": {
     "end_time": "2025-06-27T02:44:13.028896Z",
     "start_time": "2025-06-27T02:44:13.015265Z"
    }
   },
   "cell_type": "code",
   "source": [
    "loc_mapping={value: index for index,value in enumerate(strings)}\n",
    "loc_mapping"
   ],
   "id": "f17615cc4b7ce6da",
   "outputs": [
    {
     "data": {
      "text/plain": [
       "{'a': 0, 'as': 1, 'bat': 2, 'car': 3, 'dove': 4, 'python': 5}"
      ]
     },
     "execution_count": 21,
     "metadata": {},
     "output_type": "execute_result"
    }
   ],
   "execution_count": 21
  },
  {
   "metadata": {
    "ExecuteTime": {
     "end_time": "2025-06-27T02:44:13.157832Z",
     "start_time": "2025-06-27T02:44:13.147503Z"
    }
   },
   "cell_type": "code",
   "source": [
    "def f():\n",
    "    a=5\n",
    "    b=6\n",
    "    c=7\n",
    "    return a,b,c\n",
    "\n",
    "a,b,c=f()\n",
    "\n",
    "return_values=f()\n",
    "return_values"
   ],
   "id": "5b55d663f005ada2",
   "outputs": [
    {
     "data": {
      "text/plain": [
       "(5, 6, 7)"
      ]
     },
     "execution_count": 22,
     "metadata": {},
     "output_type": "execute_result"
    }
   ],
   "execution_count": 22
  },
  {
   "metadata": {
    "ExecuteTime": {
     "end_time": "2025-06-27T02:44:13.324609Z",
     "start_time": "2025-06-27T02:44:13.313807Z"
    }
   },
   "cell_type": "code",
   "source": [
    "def func(y,x):\n",
    "    return y(x)\n",
    "\n",
    "y=lambda x:x**2\n",
    "\n",
    "x_values=list(range(-10,11))\n",
    "y_values=[]\n",
    "[y_values.append(func(y,i)) for i in x_values ]\n",
    "y_values\n"
   ],
   "id": "98a47eb42c72a4c8",
   "outputs": [
    {
     "data": {
      "text/plain": [
       "[100, 81, 64, 49, 36, 25, 16, 9, 4, 1, 0, 1, 4, 9, 16, 25, 36, 49, 64, 81, 100]"
      ]
     },
     "execution_count": 23,
     "metadata": {},
     "output_type": "execute_result"
    }
   ],
   "execution_count": 23
  },
  {
   "metadata": {
    "ExecuteTime": {
     "end_time": "2025-06-27T02:44:14.600841Z",
     "start_time": "2025-06-27T02:44:13.441505Z"
    }
   },
   "cell_type": "code",
   "source": [
    "import matplotlib.pyplot as plt\n",
    "\n",
    "plt.plot(x_values,y_values,marker='x')"
   ],
   "id": "cc92b983b638ec16",
   "outputs": [
    {
     "data": {
      "text/plain": [
       "[<matplotlib.lines.Line2D at 0x1dc095b1bd0>]"
      ]
     },
     "execution_count": 24,
     "metadata": {},
     "output_type": "execute_result"
    },
    {
     "data": {
      "text/plain": [
       "<Figure size 640x480 with 1 Axes>"
      ],
      "image/png": "[encoded data removed]"
     },
     "metadata": {},
     "output_type": "display_data"
    }
   ],
   "execution_count": 24
  },
  {
   "metadata": {
    "ExecuteTime": {
     "end_time": "2025-06-27T02:44:14.646298Z",
     "start_time": "2025-06-27T02:44:14.640135Z"
    }
   },
   "cell_type": "code",
   "source": "import numpy as np\n",
   "id": "a43f1b438da317a1",
   "outputs": [],
   "execution_count": 25
  },
  {
   "metadata": {
    "ExecuteTime": {
     "end_time": "2025-06-27T02:44:14.721651Z",
     "start_time": "2025-06-27T02:44:14.714060Z"
    }
   },
   "cell_type": "code",
   "source": [
    "data=np.array([[1,2,3],[4,5,6]])\n",
    "data"
   ],
   "id": "f126976d6b23d0b0",
   "outputs": [
    {
     "data": {
      "text/plain": [
       "array([[1, 2, 3],\n",
       "       [4, 5, 6]])"
      ]
     },
     "execution_count": 26,
     "metadata": {},
     "output_type": "execute_result"
    }
   ],
   "execution_count": 26
  },
  {
   "metadata": {
    "ExecuteTime": {
     "end_time": "2025-06-27T02:44:14.921350Z",
     "start_time": "2025-06-27T02:44:14.914103Z"
    }
   },
   "cell_type": "code",
   "source": "data*10",
   "id": "5e4488218cd8abba",
   "outputs": [
    {
     "data": {
      "text/plain": [
       "array([[10, 20, 30],\n",
       "       [40, 50, 60]])"
      ]
     },
     "execution_count": 27,
     "metadata": {},
     "output_type": "execute_result"
    }
   ],
   "execution_count": 27
  },
  {
   "metadata": {
    "ExecuteTime": {
     "end_time": "2025-06-27T02:44:15.757874Z",
     "start_time": "2025-06-27T02:44:15.749873Z"
    }
   },
   "cell_type": "code",
   "source": "data+data",
   "id": "585263c0651a950f",
   "outputs": [
    {
     "data": {
      "text/plain": [
       "array([[ 2,  4,  6],\n",
       "       [ 8, 10, 12]])"
      ]
     },
     "execution_count": 28,
     "metadata": {},
     "output_type": "execute_result"
    }
   ],
   "execution_count": 28
  },
  {
   "metadata": {
    "ExecuteTime": {
     "end_time": "2025-06-27T02:44:17.032503Z",
     "start_time": "2025-06-27T02:44:17.025535Z"
    }
   },
   "cell_type": "code",
   "source": "data.shape",
   "id": "b7ca29479205ab02",
   "outputs": [
    {
     "data": {
      "text/plain": [
       "(2, 3)"
      ]
     },
     "execution_count": 29,
     "metadata": {},
     "output_type": "execute_result"
    }
   ],
   "execution_count": 29
  },
  {
   "metadata": {
    "ExecuteTime": {
     "end_time": "2025-06-27T02:44:17.369551Z",
     "start_time": "2025-06-27T02:44:17.363047Z"
    }
   },
   "cell_type": "code",
   "source": "data.dtype",
   "id": "2d61012be559cfb0",
   "outputs": [
    {
     "data": {
      "text/plain": [
       "dtype('int64')"
      ]
     },
     "execution_count": 30,
     "metadata": {},
     "output_type": "execute_result"
    }
   ],
   "execution_count": 30
  },
  {
   "metadata": {
    "ExecuteTime": {
     "end_time": "2025-06-27T02:44:17.508570Z",
     "start_time": "2025-06-27T02:44:17.499723Z"
    }
   },
   "cell_type": "code",
   "source": [
    "data1=[6,7.5,8,0,1]\n",
    "arr1=np.array(data1)\n",
    "arr1"
   ],
   "id": "57681d4d94ff62d7",
   "outputs": [
    {
     "data": {
      "text/plain": [
       "array([6. , 7.5, 8. , 0. , 1. ])"
      ]
     },
     "execution_count": 31,
     "metadata": {},
     "output_type": "execute_result"
    }
   ],
   "execution_count": 31
  },
  {
   "metadata": {
    "ExecuteTime": {
     "end_time": "2025-06-27T02:44:17.653934Z",
     "start_time": "2025-06-27T02:44:17.648372Z"
    }
   },
   "cell_type": "code",
   "source": [
    "data2=[[1,2,3,4],[6,7,8,9]]\n",
    "arr2=np.array(data2)\n",
    "arr2"
   ],
   "id": "2004461b9bde0b4f",
   "outputs": [
    {
     "data": {
      "text/plain": [
       "array([[1, 2, 3, 4],\n",
       "       [6, 7, 8, 9]])"
      ]
     },
     "execution_count": 32,
     "metadata": {},
     "output_type": "execute_result"
    }
   ],
   "execution_count": 32
  },
  {
   "metadata": {
    "ExecuteTime": {
     "end_time": "2025-06-27T02:44:17.793622Z",
     "start_time": "2025-06-27T02:44:17.788086Z"
    }
   },
   "cell_type": "code",
   "source": "arr2.ndim",
   "id": "b6efc65be4cf3986",
   "outputs": [
    {
     "data": {
      "text/plain": [
       "2"
      ]
     },
     "execution_count": 33,
     "metadata": {},
     "output_type": "execute_result"
    }
   ],
   "execution_count": 33
  },
  {
   "metadata": {
    "ExecuteTime": {
     "end_time": "2025-06-27T02:44:18.069780Z",
     "start_time": "2025-06-27T02:44:18.064615Z"
    }
   },
   "cell_type": "code",
   "source": "arr2.shape",
   "id": "cd1b481bcc4802c9",
   "outputs": [
    {
     "data": {
      "text/plain": [
       "(2, 4)"
      ]
     },
     "execution_count": 34,
     "metadata": {},
     "output_type": "execute_result"
    }
   ],
   "execution_count": 34
  },
  {
   "metadata": {
    "ExecuteTime": {
     "end_time": "2025-06-27T02:44:18.258940Z",
     "start_time": "2025-06-27T02:44:18.253192Z"
    }
   },
   "cell_type": "code",
   "source": "arr1.dtype",
   "id": "ab37f8628499679d",
   "outputs": [
    {
     "data": {
      "text/plain": [
       "dtype('float64')"
      ]
     },
     "execution_count": 35,
     "metadata": {},
     "output_type": "execute_result"
    }
   ],
   "execution_count": 35
  },
  {
   "metadata": {
    "ExecuteTime": {
     "end_time": "2025-06-27T02:44:18.386069Z",
     "start_time": "2025-06-27T02:44:18.380240Z"
    }
   },
   "cell_type": "code",
   "source": "arr2.dtype",
   "id": "c43c3d310dec25ff",
   "outputs": [
    {
     "data": {
      "text/plain": [
       "dtype('int64')"
      ]
     },
     "execution_count": 36,
     "metadata": {},
     "output_type": "execute_result"
    }
   ],
   "execution_count": 36
  },
  {
   "metadata": {
    "ExecuteTime": {
     "end_time": "2025-06-27T02:44:18.511103Z",
     "start_time": "2025-06-27T02:44:18.506055Z"
    }
   },
   "cell_type": "code",
   "source": "np.zeros((2,3),dtype='int64')",
   "id": "881c81769058c5ba",
   "outputs": [
    {
     "data": {
      "text/plain": [
       "array([[0, 0, 0],\n",
       "       [0, 0, 0]])"
      ]
     },
     "execution_count": 37,
     "metadata": {},
     "output_type": "execute_result"
    }
   ],
   "execution_count": 37
  },
  {
   "metadata": {
    "ExecuteTime": {
     "end_time": "2025-06-27T02:44:18.639330Z",
     "start_time": "2025-06-27T02:44:18.633945Z"
    }
   },
   "cell_type": "code",
   "source": "np.ones((3,3),dtype='int64')",
   "id": "2f6e8cf536ddfc3c",
   "outputs": [
    {
     "data": {
      "text/plain": [
       "array([[1, 1, 1],\n",
       "       [1, 1, 1],\n",
       "       [1, 1, 1]])"
      ]
     },
     "execution_count": 38,
     "metadata": {},
     "output_type": "execute_result"
    }
   ],
   "execution_count": 38
  },
  {
   "metadata": {
    "ExecuteTime": {
     "end_time": "2025-06-27T02:44:18.927858Z",
     "start_time": "2025-06-27T02:44:18.921446Z"
    }
   },
   "cell_type": "code",
   "source": "np.eye(3,3)",
   "id": "91554a06670cc749",
   "outputs": [
    {
     "data": {
      "text/plain": [
       "array([[1., 0., 0.],\n",
       "       [0., 1., 0.],\n",
       "       [0., 0., 1.]])"
      ]
     },
     "execution_count": 39,
     "metadata": {},
     "output_type": "execute_result"
    }
   ],
   "execution_count": 39
  },
  {
   "metadata": {
    "ExecuteTime": {
     "end_time": "2025-06-27T02:44:19.257038Z",
     "start_time": "2025-06-27T02:44:19.251822Z"
    }
   },
   "cell_type": "code",
   "source": [
    "arr3=np.array([2.3,-4.5,6,2,7.8])\n",
    "arr3.dtype"
   ],
   "id": "e37b0d84b76d1da6",
   "outputs": [
    {
     "data": {
      "text/plain": [
       "dtype('float64')"
      ]
     },
     "execution_count": 40,
     "metadata": {},
     "output_type": "execute_result"
    }
   ],
   "execution_count": 40
  },
  {
   "metadata": {
    "ExecuteTime": {
     "end_time": "2025-06-27T02:44:19.591941Z",
     "start_time": "2025-06-27T02:44:19.586977Z"
    }
   },
   "cell_type": "code",
   "source": "int_arr3=arr3.astype(int)",
   "id": "6e04146902de48c3",
   "outputs": [],
   "execution_count": 41
  },
  {
   "metadata": {
    "ExecuteTime": {
     "end_time": "2025-06-27T02:44:19.794774Z",
     "start_time": "2025-06-27T02:44:19.789577Z"
    }
   },
   "cell_type": "code",
   "source": "int_arr3",
   "id": "617a1bdafe740b2b",
   "outputs": [
    {
     "data": {
      "text/plain": [
       "array([ 2, -4,  6,  2,  7])"
      ]
     },
     "execution_count": 42,
     "metadata": {},
     "output_type": "execute_result"
    }
   ],
   "execution_count": 42
  },
  {
   "metadata": {
    "ExecuteTime": {
     "end_time": "2025-06-27T02:44:19.899575Z",
     "start_time": "2025-06-27T02:44:19.894056Z"
    }
   },
   "cell_type": "code",
   "source": [
    "int_array=np.arange(10)\n",
    "int_array"
   ],
   "id": "24689560c8d56502",
   "outputs": [
    {
     "data": {
      "text/plain": [
       "array([0, 1, 2, 3, 4, 5, 6, 7, 8, 9])"
      ]
     },
     "execution_count": 43,
     "metadata": {},
     "output_type": "execute_result"
    }
   ],
   "execution_count": 43
  },
  {
   "metadata": {
    "ExecuteTime": {
     "end_time": "2025-06-27T02:44:20.125818Z",
     "start_time": "2025-06-27T02:44:20.118048Z"
    }
   },
   "cell_type": "code",
   "source": [
    "arr=np.array([[1,2,3],[4,5,6]])\n",
    "arr*arr"
   ],
   "id": "8c249836eaef837b",
   "outputs": [
    {
     "data": {
      "text/plain": [
       "array([[ 1,  4,  9],\n",
       "       [16, 25, 36]])"
      ]
     },
     "execution_count": 44,
     "metadata": {},
     "output_type": "execute_result"
    }
   ],
   "execution_count": 44
  },
  {
   "metadata": {
    "ExecuteTime": {
     "end_time": "2025-06-27T02:44:20.348148Z",
     "start_time": "2025-06-27T02:44:20.340106Z"
    }
   },
   "cell_type": "code",
   "source": "arr-arr",
   "id": "d4966c37f27f42db",
   "outputs": [
    {
     "data": {
      "text/plain": [
       "array([[0, 0, 0],\n",
       "       [0, 0, 0]])"
      ]
     },
     "execution_count": 45,
     "metadata": {},
     "output_type": "execute_result"
    }
   ],
   "execution_count": 45
  },
  {
   "metadata": {
    "ExecuteTime": {
     "end_time": "2025-06-27T02:44:20.650057Z",
     "start_time": "2025-06-27T02:44:20.641039Z"
    }
   },
   "cell_type": "code",
   "source": "1/arr",
   "id": "63e8411911ec76e6",
   "outputs": [
    {
     "data": {
      "text/plain": [
       "array([[1.        , 0.5       , 0.33333333],\n",
       "       [0.25      , 0.2       , 0.16666667]])"
      ]
     },
     "execution_count": 46,
     "metadata": {},
     "output_type": "execute_result"
    }
   ],
   "execution_count": 46
  },
  {
   "metadata": {
    "ExecuteTime": {
     "end_time": "2025-06-27T02:44:20.952202Z",
     "start_time": "2025-06-27T02:44:20.944596Z"
    }
   },
   "cell_type": "code",
   "source": "arr**2",
   "id": "707fbddd0adddaab",
   "outputs": [
    {
     "data": {
      "text/plain": [
       "array([[ 1,  4,  9],\n",
       "       [16, 25, 36]])"
      ]
     },
     "execution_count": 47,
     "metadata": {},
     "output_type": "execute_result"
    }
   ],
   "execution_count": 47
  },
  {
   "metadata": {},
   "cell_type": "markdown",
   "source": "## Basic Indexing and Slicing",
   "id": "93b9ce5fdd5f6ccd"
  },
  {
   "metadata": {
    "ExecuteTime": {
     "end_time": "2025-06-27T02:44:21.222494Z",
     "start_time": "2025-06-27T02:44:21.217181Z"
    }
   },
   "cell_type": "code",
   "source": [
    "arr5=np.arange(10)\n",
    "arr5"
   ],
   "id": "816b7b11464b3863",
   "outputs": [
    {
     "data": {
      "text/plain": [
       "array([0, 1, 2, 3, 4, 5, 6, 7, 8, 9])"
      ]
     },
     "execution_count": 48,
     "metadata": {},
     "output_type": "execute_result"
    }
   ],
   "execution_count": 48
  },
  {
   "metadata": {
    "ExecuteTime": {
     "end_time": "2025-06-27T02:44:21.521112Z",
     "start_time": "2025-06-27T02:44:21.514418Z"
    }
   },
   "cell_type": "code",
   "source": "arr5[5]",
   "id": "f9efe9a0ddad4958",
   "outputs": [
    {
     "data": {
      "text/plain": [
       "np.int64(5)"
      ]
     },
     "execution_count": 49,
     "metadata": {},
     "output_type": "execute_result"
    }
   ],
   "execution_count": 49
  },
  {
   "metadata": {
    "ExecuteTime": {
     "end_time": "2025-06-27T02:44:21.715966Z",
     "start_time": "2025-06-27T02:44:21.710734Z"
    }
   },
   "cell_type": "code",
   "source": "arr5[5:8]",
   "id": "cb6dcff2a99bf06b",
   "outputs": [
    {
     "data": {
      "text/plain": [
       "array([5, 6, 7])"
      ]
     },
     "execution_count": 50,
     "metadata": {},
     "output_type": "execute_result"
    }
   ],
   "execution_count": 50
  },
  {
   "metadata": {
    "ExecuteTime": {
     "end_time": "2025-06-27T02:44:21.804270Z",
     "start_time": "2025-06-27T02:44:21.798576Z"
    }
   },
   "cell_type": "code",
   "source": [
    "arr5[5:8]=12\n",
    "arr5"
   ],
   "id": "446126f0a880c158",
   "outputs": [
    {
     "data": {
      "text/plain": [
       "array([ 0,  1,  2,  3,  4, 12, 12, 12,  8,  9])"
      ]
     },
     "execution_count": 51,
     "metadata": {},
     "output_type": "execute_result"
    }
   ],
   "execution_count": 51
  },
  {
   "metadata": {
    "ExecuteTime": {
     "end_time": "2025-06-27T02:44:21.889283Z",
     "start_time": "2025-06-27T02:44:21.882964Z"
    }
   },
   "cell_type": "code",
   "source": [
    "arr_slice=arr5[5:8]\n",
    "arr_slice"
   ],
   "id": "c3cb4e3dc3ba55fd",
   "outputs": [
    {
     "data": {
      "text/plain": [
       "array([12, 12, 12])"
      ]
     },
     "execution_count": 52,
     "metadata": {},
     "output_type": "execute_result"
    }
   ],
   "execution_count": 52
  },
  {
   "metadata": {
    "ExecuteTime": {
     "end_time": "2025-06-27T02:44:21.971673Z",
     "start_time": "2025-06-27T02:44:21.966952Z"
    }
   },
   "cell_type": "code",
   "source": "new_arr=arr5[5:].copy()",
   "id": "42ae9d7d0756e685",
   "outputs": [],
   "execution_count": 53
  },
  {
   "metadata": {
    "ExecuteTime": {
     "end_time": "2025-06-27T02:44:22.015684Z",
     "start_time": "2025-06-27T02:44:22.010477Z"
    }
   },
   "cell_type": "code",
   "source": "new_arr",
   "id": "e31cae1f62e5b20c",
   "outputs": [
    {
     "data": {
      "text/plain": [
       "array([12, 12, 12,  8,  9])"
      ]
     },
     "execution_count": 54,
     "metadata": {},
     "output_type": "execute_result"
    }
   ],
   "execution_count": 54
  },
  {
   "metadata": {
    "ExecuteTime": {
     "end_time": "2025-06-27T02:44:22.107272Z",
     "start_time": "2025-06-27T02:44:22.102446Z"
    }
   },
   "cell_type": "code",
   "source": [
    "new_arr[:3]=1\n",
    "new_arr"
   ],
   "id": "b7915bf3aa6f87b4",
   "outputs": [
    {
     "data": {
      "text/plain": [
       "array([1, 1, 1, 8, 9])"
      ]
     },
     "execution_count": 55,
     "metadata": {},
     "output_type": "execute_result"
    }
   ],
   "execution_count": 55
  },
  {
   "metadata": {
    "ExecuteTime": {
     "end_time": "2025-06-27T02:44:22.172661Z",
     "start_time": "2025-06-27T02:44:22.166577Z"
    }
   },
   "cell_type": "code",
   "source": "arr5",
   "id": "e3a2f93d927c035a",
   "outputs": [
    {
     "data": {
      "text/plain": [
       "array([ 0,  1,  2,  3,  4, 12, 12, 12,  8,  9])"
      ]
     },
     "execution_count": 56,
     "metadata": {},
     "output_type": "execute_result"
    }
   ],
   "execution_count": 56
  },
  {
   "metadata": {
    "ExecuteTime": {
     "end_time": "2025-06-27T02:44:22.255080Z",
     "start_time": "2025-06-27T02:44:22.249883Z"
    }
   },
   "cell_type": "code",
   "source": [
    "arr2d=[[1,2,3],\n",
    "       [4,5,6],\n",
    "       [7,7,9]]\n",
    "\n",
    "arr2d=np.array(arr2d)"
   ],
   "id": "ab817d059df235f6",
   "outputs": [],
   "execution_count": 57
  },
  {
   "metadata": {
    "ExecuteTime": {
     "end_time": "2025-06-27T02:44:22.320365Z",
     "start_time": "2025-06-27T02:44:22.314313Z"
    }
   },
   "cell_type": "code",
   "source": "arr2d",
   "id": "f02afc8252b3d42a",
   "outputs": [
    {
     "data": {
      "text/plain": [
       "array([[1, 2, 3],\n",
       "       [4, 5, 6],\n",
       "       [7, 7, 9]])"
      ]
     },
     "execution_count": 58,
     "metadata": {},
     "output_type": "execute_result"
    }
   ],
   "execution_count": 58
  },
  {
   "metadata": {
    "ExecuteTime": {
     "end_time": "2025-06-27T02:44:22.470528Z",
     "start_time": "2025-06-27T02:44:22.464724Z"
    }
   },
   "cell_type": "code",
   "source": "arr2d[:2]",
   "id": "dc798d17e3a42893",
   "outputs": [
    {
     "data": {
      "text/plain": [
       "array([[1, 2, 3],\n",
       "       [4, 5, 6]])"
      ]
     },
     "execution_count": 59,
     "metadata": {},
     "output_type": "execute_result"
    }
   ],
   "execution_count": 59
  },
  {
   "metadata": {
    "ExecuteTime": {
     "end_time": "2025-06-27T02:44:22.659032Z",
     "start_time": "2025-06-27T02:44:22.653988Z"
    }
   },
   "cell_type": "code",
   "source": "arr2d[:2,1:]",
   "id": "1591b8c8ea308bb8",
   "outputs": [
    {
     "data": {
      "text/plain": [
       "array([[2, 3],\n",
       "       [5, 6]])"
      ]
     },
     "execution_count": 60,
     "metadata": {},
     "output_type": "execute_result"
    }
   ],
   "execution_count": 60
  },
  {
   "metadata": {
    "ExecuteTime": {
     "end_time": "2025-06-27T02:44:22.934663Z",
     "start_time": "2025-06-27T02:44:22.930967Z"
    }
   },
   "cell_type": "code",
   "source": [
    "names=np.array([\"Bob\",\"Joe\",\"Will\",\"Bob\",\"Will\",\"Joe\",\"Joe\"])\n",
    "data=np.array([[4,7],[0,2],[-5,6],[0,0],[1,2],[-12,-4],[3,4]])"
   ],
   "id": "b910f1ecd9b56488",
   "outputs": [],
   "execution_count": 61
  },
  {
   "metadata": {
    "ExecuteTime": {
     "end_time": "2025-06-27T02:44:23.198734Z",
     "start_time": "2025-06-27T02:44:23.193013Z"
    }
   },
   "cell_type": "code",
   "source": "names",
   "id": "ac142136707fab63",
   "outputs": [
    {
     "data": {
      "text/plain": [
       "array(['Bob', 'Joe', 'Will', 'Bob', 'Will', 'Joe', 'Joe'], dtype='<U4')"
      ]
     },
     "execution_count": 62,
     "metadata": {},
     "output_type": "execute_result"
    }
   ],
   "execution_count": 62
  },
  {
   "metadata": {
    "ExecuteTime": {
     "end_time": "2025-06-27T02:44:23.348608Z",
     "start_time": "2025-06-27T02:44:23.342943Z"
    }
   },
   "cell_type": "code",
   "source": "data",
   "id": "8b1509c6dcefb9cc",
   "outputs": [
    {
     "data": {
      "text/plain": [
       "array([[  4,   7],\n",
       "       [  0,   2],\n",
       "       [ -5,   6],\n",
       "       [  0,   0],\n",
       "       [  1,   2],\n",
       "       [-12,  -4],\n",
       "       [  3,   4]])"
      ]
     },
     "execution_count": 63,
     "metadata": {},
     "output_type": "execute_result"
    }
   ],
   "execution_count": 63
  },
  {
   "metadata": {
    "ExecuteTime": {
     "end_time": "2025-06-27T02:44:23.462147Z",
     "start_time": "2025-06-27T02:44:23.454930Z"
    }
   },
   "cell_type": "code",
   "source": "names==\"Bob\"",
   "id": "e56e1e4f49c5af72",
   "outputs": [
    {
     "data": {
      "text/plain": [
       "array([ True, False, False,  True, False, False, False])"
      ]
     },
     "execution_count": 64,
     "metadata": {},
     "output_type": "execute_result"
    }
   ],
   "execution_count": 64
  },
  {
   "metadata": {
    "ExecuteTime": {
     "end_time": "2025-06-27T02:44:23.655418Z",
     "start_time": "2025-06-27T02:44:23.650451Z"
    }
   },
   "cell_type": "code",
   "source": "data[names==\"Bob\"]",
   "id": "1c321dd50b0a3182",
   "outputs": [
    {
     "data": {
      "text/plain": [
       "array([[4, 7],\n",
       "       [0, 0]])"
      ]
     },
     "execution_count": 65,
     "metadata": {},
     "output_type": "execute_result"
    }
   ],
   "execution_count": 65
  },
  {
   "metadata": {
    "ExecuteTime": {
     "end_time": "2025-06-27T02:44:23.786761Z",
     "start_time": "2025-06-27T02:44:23.781197Z"
    }
   },
   "cell_type": "code",
   "source": [
    "arr=np.zeros((8,4),dtype='int64')\n",
    "for i in range(8):\n",
    "    arr[i]=i\n",
    "\n",
    "arr"
   ],
   "id": "4f4b5e90a96e5945",
   "outputs": [
    {
     "data": {
      "text/plain": [
       "array([[0, 0, 0, 0],\n",
       "       [1, 1, 1, 1],\n",
       "       [2, 2, 2, 2],\n",
       "       [3, 3, 3, 3],\n",
       "       [4, 4, 4, 4],\n",
       "       [5, 5, 5, 5],\n",
       "       [6, 6, 6, 6],\n",
       "       [7, 7, 7, 7]])"
      ]
     },
     "execution_count": 66,
     "metadata": {},
     "output_type": "execute_result"
    }
   ],
   "execution_count": 66
  },
  {
   "metadata": {
    "ExecuteTime": {
     "end_time": "2025-06-27T02:44:23.979311Z",
     "start_time": "2025-06-27T02:44:23.972174Z"
    }
   },
   "cell_type": "code",
   "source": "arr[[4,3,0,6]] # displaying 4th row,3rd row and 0,6",
   "id": "6af480ec3b031410",
   "outputs": [
    {
     "data": {
      "text/plain": [
       "array([[4, 4, 4, 4],\n",
       "       [3, 3, 3, 3],\n",
       "       [0, 0, 0, 0],\n",
       "       [6, 6, 6, 6]])"
      ]
     },
     "execution_count": 67,
     "metadata": {},
     "output_type": "execute_result"
    }
   ],
   "execution_count": 67
  },
  {
   "metadata": {
    "ExecuteTime": {
     "end_time": "2025-06-27T02:44:24.226795Z",
     "start_time": "2025-06-27T02:44:24.220926Z"
    }
   },
   "cell_type": "code",
   "source": [
    "arr=np.arange(32).reshape((8,4))\n",
    "arr"
   ],
   "id": "bc4d1d5a12aa39b9",
   "outputs": [
    {
     "data": {
      "text/plain": [
       "array([[ 0,  1,  2,  3],\n",
       "       [ 4,  5,  6,  7],\n",
       "       [ 8,  9, 10, 11],\n",
       "       [12, 13, 14, 15],\n",
       "       [16, 17, 18, 19],\n",
       "       [20, 21, 22, 23],\n",
       "       [24, 25, 26, 27],\n",
       "       [28, 29, 30, 31]])"
      ]
     },
     "execution_count": 68,
     "metadata": {},
     "output_type": "execute_result"
    }
   ],
   "execution_count": 68
  },
  {
   "metadata": {
    "ExecuteTime": {
     "end_time": "2025-06-27T02:44:24.486327Z",
     "start_time": "2025-06-27T02:44:24.480758Z"
    }
   },
   "cell_type": "code",
   "source": "arr[[1,5,7,2],[0,3,1,2]]",
   "id": "ec7c0bc3971477f5",
   "outputs": [
    {
     "data": {
      "text/plain": [
       "array([ 4, 23, 29, 10])"
      ]
     },
     "execution_count": 69,
     "metadata": {},
     "output_type": "execute_result"
    }
   ],
   "execution_count": 69
  },
  {
   "metadata": {
    "ExecuteTime": {
     "end_time": "2025-06-27T02:44:24.738641Z",
     "start_time": "2025-06-27T02:44:24.733858Z"
    }
   },
   "cell_type": "code",
   "source": "arr[[1, 5, 7, 2]][:, [0, 3, 1, 2]]",
   "id": "99f0263a76ed30d4",
   "outputs": [
    {
     "data": {
      "text/plain": [
       "array([[ 4,  7,  5,  6],\n",
       "       [20, 23, 21, 22],\n",
       "       [28, 31, 29, 30],\n",
       "       [ 8, 11,  9, 10]])"
      ]
     },
     "execution_count": 70,
     "metadata": {},
     "output_type": "execute_result"
    }
   ],
   "execution_count": 70
  },
  {
   "metadata": {},
   "cell_type": "markdown",
   "source": "## Transposing Arrays and Swapping Axes",
   "id": "c5cbaad875a06b59"
  },
  {
   "metadata": {
    "ExecuteTime": {
     "end_time": "2025-06-27T02:44:24.886613Z",
     "start_time": "2025-06-27T02:44:24.880320Z"
    }
   },
   "cell_type": "code",
   "source": [
    "arr=np.arange(15).reshape((3,5))\n",
    "arr"
   ],
   "id": "44243de10927e7ac",
   "outputs": [
    {
     "data": {
      "text/plain": [
       "array([[ 0,  1,  2,  3,  4],\n",
       "       [ 5,  6,  7,  8,  9],\n",
       "       [10, 11, 12, 13, 14]])"
      ]
     },
     "execution_count": 71,
     "metadata": {},
     "output_type": "execute_result"
    }
   ],
   "execution_count": 71
  },
  {
   "metadata": {
    "ExecuteTime": {
     "end_time": "2025-06-27T02:44:25.056063Z",
     "start_time": "2025-06-27T02:44:25.051556Z"
    }
   },
   "cell_type": "code",
   "source": "arr.T",
   "id": "1d25c4ebcffb4230",
   "outputs": [
    {
     "data": {
      "text/plain": [
       "array([[ 0,  5, 10],\n",
       "       [ 1,  6, 11],\n",
       "       [ 2,  7, 12],\n",
       "       [ 3,  8, 13],\n",
       "       [ 4,  9, 14]])"
      ]
     },
     "execution_count": 72,
     "metadata": {},
     "output_type": "execute_result"
    }
   ],
   "execution_count": 72
  },
  {
   "metadata": {
    "ExecuteTime": {
     "end_time": "2025-06-27T02:44:25.305305Z",
     "start_time": "2025-06-27T02:44:25.299398Z"
    }
   },
   "cell_type": "code",
   "source": [
    "arr = np.array([[0, 1, 0], [1, 2, -2], [6, 3, 2], [-1, 0, -1], [1, 0, 1\n",
    "]])\n",
    "arr"
   ],
   "id": "9c04b1bb50e8741f",
   "outputs": [
    {
     "data": {
      "text/plain": [
       "array([[ 0,  1,  0],\n",
       "       [ 1,  2, -2],\n",
       "       [ 6,  3,  2],\n",
       "       [-1,  0, -1],\n",
       "       [ 1,  0,  1]])"
      ]
     },
     "execution_count": 73,
     "metadata": {},
     "output_type": "execute_result"
    }
   ],
   "execution_count": 73
  },
  {
   "metadata": {
    "ExecuteTime": {
     "end_time": "2025-06-27T02:44:25.523899Z",
     "start_time": "2025-06-27T02:44:25.518724Z"
    }
   },
   "cell_type": "code",
   "source": "arr.T.dot(arr)",
   "id": "aecab5adc1ab1544",
   "outputs": [
    {
     "data": {
      "text/plain": [
       "array([[39, 20, 12],\n",
       "       [20, 14,  2],\n",
       "       [12,  2, 10]])"
      ]
     },
     "execution_count": 74,
     "metadata": {},
     "output_type": "execute_result"
    }
   ],
   "execution_count": 74
  },
  {
   "metadata": {
    "ExecuteTime": {
     "end_time": "2025-06-27T02:44:25.889113Z",
     "start_time": "2025-06-27T02:44:25.885017Z"
    }
   },
   "cell_type": "code",
   "source": "import math\n",
   "id": "6dfee467ec1ce4d5",
   "outputs": [],
   "execution_count": 75
  },
  {
   "metadata": {
    "ExecuteTime": {
     "end_time": "2025-06-27T02:44:26.186231Z",
     "start_time": "2025-06-27T02:44:26.181545Z"
    }
   },
   "cell_type": "code",
   "source": [
    "a=np.array([1,2,3])\n",
    "length_a=math.sqrt(a.dot(a))\n",
    "length_a"
   ],
   "id": "3738f575c15c787c",
   "outputs": [
    {
     "data": {
      "text/plain": [
       "3.7416573867739413"
      ]
     },
     "execution_count": 76,
     "metadata": {},
     "output_type": "execute_result"
    }
   ],
   "execution_count": 76
  },
  {
   "metadata": {
    "ExecuteTime": {
     "end_time": "2025-06-27T02:47:20.006620Z",
     "start_time": "2025-06-27T02:47:19.884002Z"
    }
   },
   "cell_type": "code",
   "source": [
    "a=np.array([[1,2,3],[4,5,6]])\n",
    "b=np.array([[1,2],[3,4],[5,6]])\n",
    "a@b"
   ],
   "id": "9c29c4c126856db2",
   "outputs": [
    {
     "data": {
      "text/plain": [
       "array([[22, 28],\n",
       "       [49, 64]])"
      ]
     },
     "execution_count": 77,
     "metadata": {},
     "output_type": "execute_result"
    }
   ],
   "execution_count": 77
  },
  {
   "metadata": {
    "ExecuteTime": {
     "end_time": "2025-06-27T02:48:13.337222Z",
     "start_time": "2025-06-27T02:48:13.312259Z"
    }
   },
   "cell_type": "code",
   "source": "arr",
   "id": "f680cb92a0f63de5",
   "outputs": [
    {
     "data": {
      "text/plain": [
       "array([[ 0,  1,  0],\n",
       "       [ 1,  2, -2],\n",
       "       [ 6,  3,  2],\n",
       "       [-1,  0, -1],\n",
       "       [ 1,  0,  1]])"
      ]
     },
     "execution_count": 78,
     "metadata": {},
     "output_type": "execute_result"
    }
   ],
   "execution_count": 78
  },
  {
   "metadata": {
    "ExecuteTime": {
     "end_time": "2025-06-27T02:48:30.048518Z",
     "start_time": "2025-06-27T02:48:30.042677Z"
    }
   },
   "cell_type": "code",
   "source": "arr.swapaxes(0,1)",
   "id": "8a1427738483531d",
   "outputs": [
    {
     "data": {
      "text/plain": [
       "array([[ 0,  1,  6, -1,  1],\n",
       "       [ 1,  2,  3,  0,  0],\n",
       "       [ 0, -2,  2, -1,  1]])"
      ]
     },
     "execution_count": 79,
     "metadata": {},
     "output_type": "execute_result"
    }
   ],
   "execution_count": 79
  },
  {
   "metadata": {},
   "cell_type": "markdown",
   "source": "## Pseudorandom Number Generation",
   "id": "6eb8b769cb58f6e0"
  },
  {
   "metadata": {
    "ExecuteTime": {
     "end_time": "2025-06-27T02:50:02.964090Z",
     "start_time": "2025-06-27T02:50:02.957793Z"
    }
   },
   "cell_type": "code",
   "source": [
    "samples=np.random.standard_normal(size=(4,4))\n",
    "samples"
   ],
   "id": "f124a7d9060c500e",
   "outputs": [
    {
     "data": {
      "text/plain": [
       "array([[-0.71630442, -0.12870887, -1.14690832, -0.445749  ],\n",
       "       [ 0.39636401, -0.3262057 , -0.96933053,  1.50025948],\n",
       "       [ 1.6032301 ,  0.05722367, -0.26502952, -1.90636069],\n",
       "       [-0.11921867, -0.1761352 , -0.16428926,  0.24610701]])"
      ]
     },
     "execution_count": 81,
     "metadata": {},
     "output_type": "execute_result"
    }
   ],
   "execution_count": 81
  },
  {
   "metadata": {
    "ExecuteTime": {
     "end_time": "2025-06-27T02:52:25.755996Z",
     "start_time": "2025-06-27T02:52:25.741621Z"
    }
   },
   "cell_type": "code",
   "source": [
    "rng=np.random.default_rng(seed=12345)\n",
    "data=rng.standard_normal((2,3))\n",
    "data"
   ],
   "id": "30981b438b2e15d2",
   "outputs": [
    {
     "data": {
      "text/plain": [
       "array([[-1.42382504,  1.26372846, -0.87066174],\n",
       "       [-0.25917323, -0.07534331, -0.74088465]])"
      ]
     },
     "execution_count": 82,
     "metadata": {},
     "output_type": "execute_result"
    }
   ],
   "execution_count": 82
  },
  {
   "metadata": {
    "ExecuteTime": {
     "end_time": "2025-06-27T02:57:05.399123Z",
     "start_time": "2025-06-27T02:57:05.390730Z"
    }
   },
   "cell_type": "code",
   "source": "np.random.randint(1,10,size=(2,3))",
   "id": "81d56d69a1996e6c",
   "outputs": [
    {
     "data": {
      "text/plain": [
       "array([[8, 1, 7],\n",
       "       [7, 1, 8]], dtype=int32)"
      ]
     },
     "execution_count": 90,
     "metadata": {},
     "output_type": "execute_result"
    }
   ],
   "execution_count": 90
  },
  {
   "metadata": {
    "ExecuteTime": {
     "end_time": "2025-06-27T02:57:19.511567Z",
     "start_time": "2025-06-27T02:57:19.509136Z"
    }
   },
   "cell_type": "code",
   "source": "",
   "id": "c6f9e96c7d2080f4",
   "outputs": [],
   "execution_count": null
  },
  {
   "metadata": {
    "ExecuteTime": {
     "end_time": "2025-06-27T03:06:21.709606Z",
     "start_time": "2025-06-27T03:06:21.658020Z"
    }
   },
   "cell_type": "code",
   "source": "arr",
   "id": "88ec184a700de2aa",
   "outputs": [
    {
     "data": {
      "text/plain": [
       "array([[ 0,  1,  0],\n",
       "       [ 1,  2, -2],\n",
       "       [ 6,  3,  2],\n",
       "       [-1,  0, -1],\n",
       "       [ 1,  0,  1]])"
      ]
     },
     "execution_count": 91,
     "metadata": {},
     "output_type": "execute_result"
    }
   ],
   "execution_count": 91
  },
  {
   "metadata": {
    "ExecuteTime": {
     "end_time": "2025-06-27T03:06:32.575156Z",
     "start_time": "2025-06-27T03:06:32.565870Z"
    }
   },
   "cell_type": "code",
   "source": "arr[[1,2,3,4]]",
   "id": "1766a8d01b34ea7c",
   "outputs": [
    {
     "data": {
      "text/plain": [
       "array([[ 1,  2, -2],\n",
       "       [ 6,  3,  2],\n",
       "       [-1,  0, -1],\n",
       "       [ 1,  0,  1]])"
      ]
     },
     "execution_count": 92,
     "metadata": {},
     "output_type": "execute_result"
    }
   ],
   "execution_count": 92
  },
  {
   "metadata": {
    "ExecuteTime": {
     "end_time": "2025-06-27T03:07:30.815748Z",
     "start_time": "2025-06-27T03:07:30.810290Z"
    }
   },
   "cell_type": "code",
   "source": [
    "arr[[1,2,3,4],[0,0,0,0]]=[99]\n",
    "arr"
   ],
   "id": "b759e977d0a4f5d1",
   "outputs": [
    {
     "data": {
      "text/plain": [
       "array([[ 0,  1,  0],\n",
       "       [99,  2, -2],\n",
       "       [99,  3,  2],\n",
       "       [99,  0, -1],\n",
       "       [99,  0,  1]])"
      ]
     },
     "execution_count": 95,
     "metadata": {},
     "output_type": "execute_result"
    }
   ],
   "execution_count": 95
  },
  {
   "metadata": {},
   "cell_type": "markdown",
   "source": [
    "## Universal Functions: Fast Element-Wise Array Functions\n",
    "\n",
    "A universal function, or ufunc, is a function that performs element-wise operations on data in ndarrays."
   ],
   "id": "3d7ffd5b96a543"
  },
  {
   "metadata": {
    "ExecuteTime": {
     "end_time": "2025-06-27T03:08:31.374387Z",
     "start_time": "2025-06-27T03:08:31.367999Z"
    }
   },
   "cell_type": "code",
   "source": [
    "arr=np.arange(10)\n",
    "arr"
   ],
   "id": "858c871b85c429a7",
   "outputs": [
    {
     "data": {
      "text/plain": [
       "array([0, 1, 2, 3, 4, 5, 6, 7, 8, 9])"
      ]
     },
     "execution_count": 97,
     "metadata": {},
     "output_type": "execute_result"
    }
   ],
   "execution_count": 97
  },
  {
   "metadata": {
    "ExecuteTime": {
     "end_time": "2025-06-27T03:10:33.284731Z",
     "start_time": "2025-06-27T03:10:33.276463Z"
    }
   },
   "cell_type": "code",
   "source": "np.sqrt(arr).round(4)",
   "id": "106da1c7aedccfa7",
   "outputs": [
    {
     "data": {
      "text/plain": [
       "array([0.    , 1.    , 1.4142, 1.7321, 2.    , 2.2361, 2.4495, 2.6458,\n",
       "       2.8284, 3.    ])"
      ]
     },
     "execution_count": 100,
     "metadata": {},
     "output_type": "execute_result"
    }
   ],
   "execution_count": 100
  },
  {
   "metadata": {
    "ExecuteTime": {
     "end_time": "2025-06-27T03:11:08.314241Z",
     "start_time": "2025-06-27T03:11:08.308725Z"
    }
   },
   "cell_type": "code",
   "source": "np.exp(arr).round(4)",
   "id": "70cf9ae7e7ed9fb0",
   "outputs": [
    {
     "data": {
      "text/plain": [
       "array([1.0000000e+00, 2.7183000e+00, 7.3891000e+00, 2.0085500e+01,\n",
       "       5.4598200e+01, 1.4841320e+02, 4.0342880e+02, 1.0966332e+03,\n",
       "       2.9809580e+03, 8.1030839e+03])"
      ]
     },
     "execution_count": 112,
     "metadata": {},
     "output_type": "execute_result"
    }
   ],
   "execution_count": 112
  },
  {
   "metadata": {
    "ExecuteTime": {
     "end_time": "2025-06-27T03:13:41.502795Z",
     "start_time": "2025-06-27T03:13:41.498528Z"
    }
   },
   "cell_type": "code",
   "source": [
    "x=np.random.standard_normal(8).round(2)\n",
    "y=np.random.standard_normal(8).round(2)\n",
    "print(x)\n",
    "print(y)"
   ],
   "id": "501ccfe5196856ca",
   "outputs": [
    {
     "name": "stdout",
     "output_type": "stream",
     "text": [
      "[ 0.72  0.94  1.31 -0.34  1.06 -1.67 -0.27  1.28]\n",
      "[-0.68  0.56 -0.82  0.48 -1.1   0.37  0.9  -0.18]\n"
     ]
    }
   ],
   "execution_count": 114
  },
  {
   "metadata": {
    "ExecuteTime": {
     "end_time": "2025-06-27T03:13:58.716135Z",
     "start_time": "2025-06-27T03:13:58.710594Z"
    }
   },
   "cell_type": "code",
   "source": "np.maximum(x,y)",
   "id": "abcde1db4d2e0656",
   "outputs": [
    {
     "data": {
      "text/plain": [
       "array([0.72, 0.94, 1.31, 0.48, 1.06, 0.37, 0.9 , 1.28])"
      ]
     },
     "execution_count": 115,
     "metadata": {},
     "output_type": "execute_result"
    }
   ],
   "execution_count": 115
  },
  {
   "metadata": {
    "ExecuteTime": {
     "end_time": "2025-06-27T03:14:08.954810Z",
     "start_time": "2025-06-27T03:14:08.949739Z"
    }
   },
   "cell_type": "code",
   "source": "np.add(x,y)",
   "id": "c48a5bc839cfead",
   "outputs": [
    {
     "data": {
      "text/plain": [
       "array([ 0.04,  1.5 ,  0.49,  0.14, -0.04, -1.3 ,  0.63,  1.1 ])"
      ]
     },
     "execution_count": 116,
     "metadata": {},
     "output_type": "execute_result"
    }
   ],
   "execution_count": 116
  },
  {
   "metadata": {
    "ExecuteTime": {
     "end_time": "2025-06-27T03:16:42.348192Z",
     "start_time": "2025-06-27T03:16:42.343575Z"
    }
   },
   "cell_type": "code",
   "source": [
    "arr=np.random.standard_normal(7).round(4)*5\n",
    "arr"
   ],
   "id": "cbae560fcc62706f",
   "outputs": [
    {
     "data": {
      "text/plain": [
       "array([ 0.531 ,  9.3405, -1.957 ,  0.218 , -5.988 ,  0.1175, -2.912 ])"
      ]
     },
     "execution_count": 118,
     "metadata": {},
     "output_type": "execute_result"
    }
   ],
   "execution_count": 118
  },
  {
   "metadata": {
    "ExecuteTime": {
     "end_time": "2025-06-27T03:17:13.411711Z",
     "start_time": "2025-06-27T03:17:13.407521Z"
    }
   },
   "cell_type": "code",
   "source": "remainder,whole_part=np.modf(arr)",
   "id": "8430bd470dc2ea65",
   "outputs": [],
   "execution_count": 120
  },
  {
   "metadata": {
    "ExecuteTime": {
     "end_time": "2025-06-27T03:17:19.792519Z",
     "start_time": "2025-06-27T03:17:19.786808Z"
    }
   },
   "cell_type": "code",
   "source": "remainder,whole_part",
   "id": "3556e4fe1cf3f4c",
   "outputs": [
    {
     "data": {
      "text/plain": [
       "(array([ 0.531 ,  0.3405, -0.957 ,  0.218 , -0.988 ,  0.1175, -0.912 ]),\n",
       " array([ 0.,  9., -1.,  0., -5.,  0., -2.]))"
      ]
     },
     "execution_count": 121,
     "metadata": {},
     "output_type": "execute_result"
    }
   ],
   "execution_count": 121
  },
  {
   "metadata": {
    "ExecuteTime": {
     "end_time": "2025-06-27T04:30:30.694331Z",
     "start_time": "2025-06-27T04:30:30.615422Z"
    }
   },
   "cell_type": "code",
   "source": "arr",
   "id": "7a521585f2c25ec9",
   "outputs": [
    {
     "data": {
      "text/plain": [
       "array([ 0.531 ,  9.3405, -1.957 ,  0.218 , -5.988 ,  0.1175, -2.912 ])"
      ]
     },
     "execution_count": 122,
     "metadata": {},
     "output_type": "execute_result"
    }
   ],
   "execution_count": 122
  },
  {
   "metadata": {
    "ExecuteTime": {
     "end_time": "2025-06-27T04:31:43.807889Z",
     "start_time": "2025-06-27T04:31:43.801315Z"
    }
   },
   "cell_type": "code",
   "source": [
    "out=np.zeros_like(arr)\n",
    "np.add(arr,1)"
   ],
   "id": "84a9743df0e09807",
   "outputs": [
    {
     "data": {
      "text/plain": [
       "array([ 1.531 , 10.3405, -0.957 ,  1.218 , -4.988 ,  1.1175, -1.912 ])"
      ]
     },
     "execution_count": 124,
     "metadata": {},
     "output_type": "execute_result"
    }
   ],
   "execution_count": 124
  },
  {
   "metadata": {
    "ExecuteTime": {
     "end_time": "2025-06-27T04:32:07.074017Z",
     "start_time": "2025-06-27T04:32:07.066925Z"
    }
   },
   "cell_type": "code",
   "source": [
    "# Ufuncs accept an optional out argument that allows them to assign their results into an existing array rather than create a new one:\n",
    "np.add(arr,1,out=out)"
   ],
   "id": "69a5008c90608a5a",
   "outputs": [
    {
     "data": {
      "text/plain": [
       "array([ 1.531 , 10.3405, -0.957 ,  1.218 , -4.988 ,  1.1175, -1.912 ])"
      ]
     },
     "execution_count": 125,
     "metadata": {},
     "output_type": "execute_result"
    }
   ],
   "execution_count": 125
  },
  {
   "metadata": {
    "ExecuteTime": {
     "end_time": "2025-06-27T04:33:04.052822Z",
     "start_time": "2025-06-27T04:33:04.047121Z"
    }
   },
   "cell_type": "code",
   "source": "out",
   "id": "818257f2856c4005",
   "outputs": [
    {
     "data": {
      "text/plain": [
       "array([ 1.531 , 10.3405, -0.957 ,  1.218 , -4.988 ,  1.1175, -1.912 ])"
      ]
     },
     "execution_count": 128,
     "metadata": {},
     "output_type": "execute_result"
    }
   ],
   "execution_count": 128
  },
  {
   "metadata": {
    "ExecuteTime": {
     "end_time": "2025-06-27T04:33:39.159149Z",
     "start_time": "2025-06-27T04:33:39.153106Z"
    }
   },
   "cell_type": "code",
   "source": "np.abs(arr)",
   "id": "b800947f4a6b5f50",
   "outputs": [
    {
     "data": {
      "text/plain": [
       "array([0.531 , 9.3405, 1.957 , 0.218 , 5.988 , 0.1175, 2.912 ])"
      ]
     },
     "execution_count": 130,
     "metadata": {},
     "output_type": "execute_result"
    }
   ],
   "execution_count": 130
  },
  {
   "metadata": {},
   "cell_type": "code",
   "outputs": [],
   "execution_count": null,
   "source": "",
   "id": "887e48c037c756a5"
  }
 ],
 "metadata": {
  "kernelspec": {
   "display_name": "Python 3",
   "language": "python",
   "name": "python3"
  },
  "language_info": {
   "codemirror_mode": {
    "name": "ipython",
    "version": 2
   },
   "file_extension": ".py",
   "mimetype": "text/x-python",
   "name": "python",
   "nbconvert_exporter": "python",
   "pygments_lexer": "ipython2",
   "version": "2.7.6"
  }
 },
 "nbformat": 4,
 "nbformat_minor": 5
}
