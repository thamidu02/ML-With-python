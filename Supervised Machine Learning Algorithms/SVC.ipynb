{
 "cells": [
  {
   "metadata": {
    "ExecuteTime": {
     "end_time": "2025-07-07T18:17:17.387403Z",
     "start_time": "2025-07-07T18:17:17.380938Z"
    }
   },
   "cell_type": "code",
   "source": [
    "import pandas as pd\n",
    "import numpy as np\n",
    "import mglearn\n",
    "import matplotlib.pyplot as plt\n",
    "\n"
   ],
   "id": "3547087f0ea1b2cd",
   "outputs": [],
   "execution_count": 18
  },
  {
   "metadata": {},
   "cell_type": "markdown",
   "source": [
    "💥 What’s the Problem?\n",
    "Sometimes, data isn’t linearly separable — you can’t draw a straight line to separate classes.\n",
    "\n",
    "To fix that, we can map data to a higher-dimensional space where it might become linearly separable.\n",
    "\n",
    "For example:\n",
    "\n",
    "A 2D circle can’t be separated by a line,\n",
    "\n",
    "But if you lift the data into 3D (add a feature like x² + y²), it can be separated by a plane.\n",
    "\n",
    "🧠 But… What’s the Problem with THAT?\n",
    "Adding lots of new features (like all polynomial combinations) means:\n",
    "\n",
    "Massive computation if your dataset has high dimensions (e.g., 100+ features)\n",
    "\n",
    "Slow and memory-heavy\n",
    "\n",
    "💡 The Solution: Kernel Trick\n",
    "The kernel trick lets you act as if you expanded the features into a high-dimensional space, without actually doing it!\n",
    "\n",
    "Instead of transforming the data, we just compute how far apart points would be in that higher space by using a special kernel function.\n",
    "\n",
    "✨ Two Common Kernels:\n",
    "1. Polynomial Kernel\n",
    "Computes combinations like:\n",
    "feature1² * feature2⁵, feature1 * feature3, etc.\n",
    "→ You choose the degree, and it includes all terms up to that degree.\n",
    "\n",
    "2. RBF Kernel (Radial Basis Function / Gaussian Kernel)\n",
    "Treats data as if it’s in an infinite-dimensional space, but gives less weight to higher-degree features.\n",
    "\n",
    "The formula is:\n",
    "\n",
    "python\n",
    "Copy\n",
    "Edit\n",
    "k(x1, x2) = exp(-γ ||x1 - x2||²)\n",
    "||x1 - x2||² → squared Euclidean distance\n",
    "\n",
    "γ (gamma) → controls how far the \"influence\" of a point reaches:\n",
    "\n",
    "Small gamma = broad influence (smooth decision boundary)\n",
    "\n",
    "Large gamma = narrow influence (complex decision boundary)\n",
    "\n",
    "👤 What are Support Vectors?\n",
    "In SVM, not all training points are important. Only those right at the edge of class separation — the support vectors — matter.\n",
    "\n",
    "These support vectors define the decision boundary\n",
    "\n",
    "During prediction, SVM measures the distance to these support vectors, weighted by importance (stored in .dual_coef_)\n",
    "\n",
    "So in short:\n",
    "\n",
    "The model doesn’t rely on the full training set\n",
    "\n",
    "It relies on a subset of key points that support the boundary\n",
    "\n",
    "✅ Summary\n",
    "The kernel trick lets SVMs classify non-linear data by pretending it’s in a higher-dimensional space — without ever computing that space directly.\n",
    "\n",
    "Polynomial kernel: All combinations of features up to a degree\n",
    "\n",
    "RBF (Gaussian) kernel: Considers infinite combinations with decreasing weight\n",
    "\n",
    "Support vectors: Only the important training points that lie near the class boundary — they define the decision surface\n",
    "\n",
    "Prediction: Based on distance to support vectors using the chosen kernel function"
   ],
   "id": "c1cc08349af80b33"
  },
  {
   "metadata": {
    "ExecuteTime": {
     "end_time": "2025-07-07T18:17:18.263007Z",
     "start_time": "2025-07-07T18:17:17.431106Z"
    }
   },
   "cell_type": "code",
   "source": [
    "from sklearn.svm import SVC\n",
    "X, y = mglearn.tools.make_handcrafted_dataset()\n",
    "svm = SVC(kernel='rbf', C=10, gamma=0.1).fit(X, y)\n",
    "mglearn.plots.plot_2d_separator(svm, X, eps=.5)\n",
    "mglearn.discrete_scatter(X[:, 0], X[:, 1], y)\n",
    "# plot support vectors\n",
    "sv = svm.support_vectors_\n",
    "# class labels of support vectors are given by the sign of the dual coefficients\n",
    "sv_labels = svm.dual_coef_.ravel() > 0\n",
    "mglearn.discrete_scatter(sv[:, 0], sv[:, 1], sv_labels, s=15, markeredgewidth=3)\n",
    "plt.xlabel(\"Feature 0\")\n",
    "plt.ylabel(\"Feature 1\")"
   ],
   "id": "7d92277356711299",
   "outputs": [
    {
     "data": {
      "text/plain": [
       "Text(0, 0.5, 'Feature 1')"
      ]
     },
     "execution_count": 19,
     "metadata": {},
     "output_type": "execute_result"
    },
    {
     "data": {
      "text/plain": [
       "<Figure size 640x480 with 1 Axes>"
      ],
      "image/png": "[encoded data removed]"
     },
     "metadata": {},
     "output_type": "display_data"
    }
   ],
   "execution_count": 19
  },
  {
   "metadata": {
    "ExecuteTime": {
     "end_time": "2025-07-07T18:17:18.323646Z",
     "start_time": "2025-07-07T18:17:18.284608Z"
    }
   },
   "cell_type": "code",
   "source": [
    "from sklearn.datasets import load_breast_cancer\n",
    "from sklearn.model_selection import train_test_split\n",
    "cancer=load_breast_cancer()\n",
    "\n",
    "X_train,X_test,y_train,y_test=train_test_split(cancer.data,cancer.target,random_state=0)\n",
    "svc=SVC()\n",
    "svc.fit(X_train,y_train)\n",
    "\n",
    "print(\"Accuracy on training set: {:.2f}\".format(svc.score(X_train, y_train)))\n",
    "print(\"Accuracy on test set: {:.2f}\".format(svc.score(X_test, y_test)))"
   ],
   "id": "34952d008a80a976",
   "outputs": [
    {
     "name": "stdout",
     "output_type": "stream",
     "text": [
      "Accuracy on training set: 0.90\n",
      "Accuracy on test set: 0.94\n"
     ]
    }
   ],
   "execution_count": 20
  },
  {
   "metadata": {},
   "cell_type": "markdown",
   "source": "### Preprocessing data for SVMs",
   "id": "8bf7970432265f47"
  },
  {
   "metadata": {},
   "cell_type": "markdown",
   "source": "One way to resolve this problem is by rescaling each feature so that they are all approximately on the same scale. A common rescaling method for kernel SVMs is to scale the data such that all features have 0 mean and unit variance, or that all features are between 0 and 1. We will see how to do this using the StandardScaler or MinMaxScaler",
   "id": "3ef56b0a17e841e6"
  },
  {
   "metadata": {
    "ExecuteTime": {
     "end_time": "2025-07-07T18:17:18.370973Z",
     "start_time": "2025-07-07T18:17:18.361394Z"
    }
   },
   "cell_type": "code",
   "source": [
    "min_on_training=X_train.min(axis=0) # computing the minimum value per feature on the training set\n",
    "range_on_training=(X_train.max(axis=0)-min_on_training) # compute the range of each feature on the training set\n",
    "\n",
    "\n",
    "# subtract the min, and divide by range\n",
    "# afterward, min=0 and max=1 for each feature\n",
    "X_train_scaled=(X_train-min_on_training)/range_on_training\n",
    "X_test_scaled=(X_test-min_on_training)/range_on_training\n",
    "print(\"Minimum for each feature\\n\", X_train_scaled.min(axis=0))\n",
    "print(\"Maximum for each feature\\n\", X_train_scaled.max(axis=0))\n"
   ],
   "id": "ebb5b5f18c4ad118",
   "outputs": [
    {
     "name": "stdout",
     "output_type": "stream",
     "text": [
      "Minimum for each feature\n",
      " [0. 0. 0. 0. 0. 0. 0. 0. 0. 0. 0. 0. 0. 0. 0. 0. 0. 0. 0. 0. 0. 0. 0. 0.\n",
      " 0. 0. 0. 0. 0. 0.]\n",
      "Maximum for each feature\n",
      " [1. 1. 1. 1. 1. 1. 1. 1. 1. 1. 1. 1. 1. 1. 1. 1. 1. 1. 1. 1. 1. 1. 1. 1.\n",
      " 1. 1. 1. 1. 1. 1.]\n"
     ]
    }
   ],
   "execution_count": 21
  },
  {
   "metadata": {
    "ExecuteTime": {
     "end_time": "2025-07-07T18:17:18.412347Z",
     "start_time": "2025-07-07T18:17:18.396519Z"
    }
   },
   "cell_type": "code",
   "source": [
    "svc=SVC(C=100)\n",
    "svc.fit(X_train_scaled,y_train)\n",
    "print(\"Accuracy on training set: {:.3f}\".format(\n",
    "        svc.score(X_train_scaled, y_train)))\n",
    "print(\"Accuracy on test set: {:.3f}\".format(svc.score(X_test_scaled, y_test)))"
   ],
   "id": "6ed6c79596c055a4",
   "outputs": [
    {
     "name": "stdout",
     "output_type": "stream",
     "text": [
      "Accuracy on training set: 1.000\n",
      "Accuracy on test set: 0.965\n"
     ]
    }
   ],
   "execution_count": 22
  },
  {
   "metadata": {},
   "cell_type": "markdown",
   "source": [
    "Kernelized support vector machines are powerful models and perform well on a variety of datasets. SVMs allow for complex decision boundaries, even if the data has only a few features. They work well on low-dimensional and high-dimensional data (i.e., few and many features), but don’t scale very well with the number of samples. Running an SVM on data with up to 10,000 samples might work well, but working with datasets of size 100,000 or more can become challenging in terms of runtime and memory usage.\n",
    "\n",
    "Another downside of SVMs is that they require careful preprocessing of the data and tuning of the parameters. This is why, these days, most people instead use tree-based models such as random forests or gradient boosting (which require little or no preprocessing) in many applications. Furthermore, SVM models are hard to inspect; it can be difficult to understand why a particular prediction was made, and it might be tricky to explain the model to a nonexpert.\n",
    "\n",
    "Still, it might be worth trying SVMs, particularly if all of your features represent measurements in similar units (e.g., all are pixel intensities) and they are on similar scales.\n",
    "\n",
    "The important parameters in kernel SVMs are the regularization parameter C, the choice of the kernel, and the kernel-specific parameters. Although we primarily focused on the RBF kernel, other choices are available in scikit-learn. The RBF kernel has only one parameter, gamma, which is the inverse of the width of the Gaussian kernel. gamma and C both control the complexity of the model, with large values in either resulting in a more complex model. Therefore, good settings for the two parameters are usually strongly correlated, and C and gamma should be adjusted together."
   ],
   "id": "640107b7901d02db"
  }
 ],
 "metadata": {
  "kernelspec": {
   "display_name": "Python 3",
   "language": "python",
   "name": "python3"
  },
  "language_info": {
   "codemirror_mode": {
    "name": "ipython",
    "version": 2
   },
   "file_extension": ".py",
   "mimetype": "text/x-python",
   "name": "python",
   "nbconvert_exporter": "python",
   "pygments_lexer": "ipython2",
   "version": "2.7.6"
  }
 },
 "nbformat": 4,
 "nbformat_minor": 5
}
