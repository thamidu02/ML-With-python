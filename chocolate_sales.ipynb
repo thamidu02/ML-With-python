{
 "cells": [
  {
   "cell_type": "code",
   "id": "initial_id",
   "metadata": {
    "collapsed": true,
    "ExecuteTime": {
     "end_time": "2025-07-12T12:49:08.535279Z",
     "start_time": "2025-07-12T12:49:07.571946Z"
    }
   },
   "source": [
    "import pandas as pd\n",
    "import numpy as np\n",
    "import matplotlib.pyplot as plt"
   ],
   "outputs": [],
   "execution_count": 1
  },
  {
   "metadata": {
    "ExecuteTime": {
     "end_time": "2025-07-12T12:49:08.735935Z",
     "start_time": "2025-07-12T12:49:08.724357Z"
    }
   },
   "cell_type": "code",
   "source": "choc_df=pd.read_csv(\"datasets/Chocolate Sales.csv\")",
   "id": "f799797e3d8853d3",
   "outputs": [],
   "execution_count": 2
  },
  {
   "metadata": {
    "ExecuteTime": {
     "end_time": "2025-07-12T12:49:08.773161Z",
     "start_time": "2025-07-12T12:49:08.760197Z"
    }
   },
   "cell_type": "code",
   "source": "choc_df.head()",
   "id": "9046ff48bc500a28",
   "outputs": [
    {
     "data": {
      "text/plain": [
       "     Sales Person    Country              Product       Date    Amount  \\\n",
       "0  Jehu Rudeforth         UK      Mint Chip Choco  04-Jan-22   $5,320    \n",
       "1     Van Tuxwell      India        85% Dark Bars  01-Aug-22   $7,896    \n",
       "2    Gigi Bohling      India  Peanut Butter Cubes  07-Jul-22   $4,501    \n",
       "3    Jan Morforth  Australia  Peanut Butter Cubes  27-Apr-22  $12,726    \n",
       "4  Jehu Rudeforth         UK  Peanut Butter Cubes  24-Feb-22  $13,685    \n",
       "\n",
       "   Boxes Shipped  \n",
       "0            180  \n",
       "1             94  \n",
       "2             91  \n",
       "3            342  \n",
       "4            184  "
      ],
      "text/html": [
       "<div>\n",
       "<style scoped>\n",
       "    .dataframe tbody tr th:only-of-type {\n",
       "        vertical-align: middle;\n",
       "    }\n",
       "\n",
       "    .dataframe tbody tr th {\n",
       "        vertical-align: top;\n",
       "    }\n",
       "\n",
       "    .dataframe thead th {\n",
       "        text-align: right;\n",
       "    }\n",
       "</style>\n",
       "<table border=\"1\" class=\"dataframe\">\n",
       "  <thead>\n",
       "    <tr style=\"text-align: right;\">\n",
       "      <th></th>\n",
       "      <th>Sales Person</th>\n",
       "      <th>Country</th>\n",
       "      <th>Product</th>\n",
       "      <th>Date</th>\n",
       "      <th>Amount</th>\n",
       "      <th>Boxes Shipped</th>\n",
       "    </tr>\n",
       "  </thead>\n",
       "  <tbody>\n",
       "    <tr>\n",
       "      <th>0</th>\n",
       "      <td>Jehu Rudeforth</td>\n",
       "      <td>UK</td>\n",
       "      <td>Mint Chip Choco</td>\n",
       "      <td>04-Jan-22</td>\n",
       "      <td>$5,320</td>\n",
       "      <td>180</td>\n",
       "    </tr>\n",
       "    <tr>\n",
       "      <th>1</th>\n",
       "      <td>Van Tuxwell</td>\n",
       "      <td>India</td>\n",
       "      <td>85% Dark Bars</td>\n",
       "      <td>01-Aug-22</td>\n",
       "      <td>$7,896</td>\n",
       "      <td>94</td>\n",
       "    </tr>\n",
       "    <tr>\n",
       "      <th>2</th>\n",
       "      <td>Gigi Bohling</td>\n",
       "      <td>India</td>\n",
       "      <td>Peanut Butter Cubes</td>\n",
       "      <td>07-Jul-22</td>\n",
       "      <td>$4,501</td>\n",
       "      <td>91</td>\n",
       "    </tr>\n",
       "    <tr>\n",
       "      <th>3</th>\n",
       "      <td>Jan Morforth</td>\n",
       "      <td>Australia</td>\n",
       "      <td>Peanut Butter Cubes</td>\n",
       "      <td>27-Apr-22</td>\n",
       "      <td>$12,726</td>\n",
       "      <td>342</td>\n",
       "    </tr>\n",
       "    <tr>\n",
       "      <th>4</th>\n",
       "      <td>Jehu Rudeforth</td>\n",
       "      <td>UK</td>\n",
       "      <td>Peanut Butter Cubes</td>\n",
       "      <td>24-Feb-22</td>\n",
       "      <td>$13,685</td>\n",
       "      <td>184</td>\n",
       "    </tr>\n",
       "  </tbody>\n",
       "</table>\n",
       "</div>"
      ]
     },
     "execution_count": 3,
     "metadata": {},
     "output_type": "execute_result"
    }
   ],
   "execution_count": 3
  },
  {
   "metadata": {
    "ExecuteTime": {
     "end_time": "2025-07-12T12:49:46.433110Z",
     "start_time": "2025-07-12T12:49:46.417777Z"
    }
   },
   "cell_type": "code",
   "source": "choc_df.Product.value_counts()",
   "id": "4ad06aca9109210e",
   "outputs": [
    {
     "data": {
      "text/plain": [
       "Product\n",
       "Eclairs                 60\n",
       "50% Dark Bites          60\n",
       "Smooth Sliky Salty      59\n",
       "White Choc              58\n",
       "Drinking Coco           56\n",
       "Spicy Special Slims     54\n",
       "Organic Choco Syrup     52\n",
       "85% Dark Bars           50\n",
       "Fruit & Nut Bars        50\n",
       "After Nines             50\n",
       "Peanut Butter Cubes     49\n",
       "99% Dark & Pure         49\n",
       "Milk Bars               49\n",
       "Raspberry Choco         48\n",
       "Almond Choco            48\n",
       "Orange Choco            47\n",
       "Mint Chip Choco         45\n",
       "Manuka Honey Choco      45\n",
       "Caramel Stuffed Bars    43\n",
       "70% Dark Bites          42\n",
       "Baker's Choco Chips     41\n",
       "Choco Coated Almonds    39\n",
       "Name: count, dtype: int64"
      ]
     },
     "execution_count": 4,
     "metadata": {},
     "output_type": "execute_result"
    }
   ],
   "execution_count": 4
  },
  {
   "metadata": {
    "ExecuteTime": {
     "end_time": "2025-07-12T12:50:25.042403Z",
     "start_time": "2025-07-12T12:50:25.036865Z"
    }
   },
   "cell_type": "code",
   "source": "choc_df.Country.value_counts()",
   "id": "fd741b22d9ceb63b",
   "outputs": [
    {
     "data": {
      "text/plain": [
       "Country\n",
       "Australia      205\n",
       "India          184\n",
       "USA            179\n",
       "UK             178\n",
       "Canada         175\n",
       "New Zealand    173\n",
       "Name: count, dtype: int64"
      ]
     },
     "execution_count": 5,
     "metadata": {},
     "output_type": "execute_result"
    }
   ],
   "execution_count": 5
  },
  {
   "metadata": {
    "ExecuteTime": {
     "end_time": "2025-07-12T12:52:36.472804Z",
     "start_time": "2025-07-12T12:52:36.465591Z"
    }
   },
   "cell_type": "code",
   "source": [
    "choc_df=choc_df.drop(columns='Amount')\n",
    "choc_df.head()"
   ],
   "id": "42e4ee0a8a7f7467",
   "outputs": [
    {
     "data": {
      "text/plain": [
       "     Sales Person    Country              Product  Boxes Shipped\n",
       "0  Jehu Rudeforth         UK      Mint Chip Choco            180\n",
       "1     Van Tuxwell      India        85% Dark Bars             94\n",
       "2    Gigi Bohling      India  Peanut Butter Cubes             91\n",
       "3    Jan Morforth  Australia  Peanut Butter Cubes            342\n",
       "4  Jehu Rudeforth         UK  Peanut Butter Cubes            184"
      ],
      "text/html": [
       "<div>\n",
       "<style scoped>\n",
       "    .dataframe tbody tr th:only-of-type {\n",
       "        vertical-align: middle;\n",
       "    }\n",
       "\n",
       "    .dataframe tbody tr th {\n",
       "        vertical-align: top;\n",
       "    }\n",
       "\n",
       "    .dataframe thead th {\n",
       "        text-align: right;\n",
       "    }\n",
       "</style>\n",
       "<table border=\"1\" class=\"dataframe\">\n",
       "  <thead>\n",
       "    <tr style=\"text-align: right;\">\n",
       "      <th></th>\n",
       "      <th>Sales Person</th>\n",
       "      <th>Country</th>\n",
       "      <th>Product</th>\n",
       "      <th>Boxes Shipped</th>\n",
       "    </tr>\n",
       "  </thead>\n",
       "  <tbody>\n",
       "    <tr>\n",
       "      <th>0</th>\n",
       "      <td>Jehu Rudeforth</td>\n",
       "      <td>UK</td>\n",
       "      <td>Mint Chip Choco</td>\n",
       "      <td>180</td>\n",
       "    </tr>\n",
       "    <tr>\n",
       "      <th>1</th>\n",
       "      <td>Van Tuxwell</td>\n",
       "      <td>India</td>\n",
       "      <td>85% Dark Bars</td>\n",
       "      <td>94</td>\n",
       "    </tr>\n",
       "    <tr>\n",
       "      <th>2</th>\n",
       "      <td>Gigi Bohling</td>\n",
       "      <td>India</td>\n",
       "      <td>Peanut Butter Cubes</td>\n",
       "      <td>91</td>\n",
       "    </tr>\n",
       "    <tr>\n",
       "      <th>3</th>\n",
       "      <td>Jan Morforth</td>\n",
       "      <td>Australia</td>\n",
       "      <td>Peanut Butter Cubes</td>\n",
       "      <td>342</td>\n",
       "    </tr>\n",
       "    <tr>\n",
       "      <th>4</th>\n",
       "      <td>Jehu Rudeforth</td>\n",
       "      <td>UK</td>\n",
       "      <td>Peanut Butter Cubes</td>\n",
       "      <td>184</td>\n",
       "    </tr>\n",
       "  </tbody>\n",
       "</table>\n",
       "</div>"
      ]
     },
     "execution_count": 10,
     "metadata": {},
     "output_type": "execute_result"
    }
   ],
   "execution_count": 10
  },
  {
   "metadata": {
    "ExecuteTime": {
     "end_time": "2025-07-12T12:53:30.527753Z",
     "start_time": "2025-07-12T12:53:30.520988Z"
    }
   },
   "cell_type": "code",
   "source": "choc_df['Sales Person'].value_counts()",
   "id": "bb4ee965516a6308",
   "outputs": [
    {
     "data": {
      "text/plain": [
       "Sales Person\n",
       "Kelci Walkden          54\n",
       "Brien Boise            53\n",
       "Van Tuxwell            51\n",
       "Beverie Moffet         50\n",
       "Oby Sorrel             49\n",
       "Dennison Crosswaite    49\n",
       "Ches Bonnell           48\n",
       "Gigi Bohling           47\n",
       "Karlen McCaffrey       47\n",
       "Curtice Advani         46\n",
       "Madelene Upcott        45\n",
       "Kaine Padly            45\n",
       "Marney O'Breen         45\n",
       "Jehu Rudeforth         43\n",
       "Roddy Speechley        43\n",
       "Gunar Cockshoot        43\n",
       "Barr Faughny           43\n",
       "Mallorie Waber         41\n",
       "Jan Morforth           39\n",
       "Andria Kimpton         39\n",
       "Husein Augar           38\n",
       "Dotty Strutley         36\n",
       "Rafaelita Blaksland    34\n",
       "Wilone O'Kielt         34\n",
       "Camilla Castle         32\n",
       "Name: count, dtype: int64"
      ]
     },
     "execution_count": 11,
     "metadata": {},
     "output_type": "execute_result"
    }
   ],
   "execution_count": 11
  },
  {
   "metadata": {
    "ExecuteTime": {
     "end_time": "2025-07-12T13:20:39.222540Z",
     "start_time": "2025-07-12T13:20:39.204410Z"
    }
   },
   "cell_type": "code",
   "source": "choc_dummies=pd.get_dummies(choc_df)",
   "id": "5d612ed819c2a848",
   "outputs": [],
   "execution_count": 17
  },
  {
   "metadata": {
    "ExecuteTime": {
     "end_time": "2025-07-12T13:20:39.927388Z",
     "start_time": "2025-07-12T13:20:39.923141Z"
    }
   },
   "cell_type": "code",
   "source": "choc_dummies.columns",
   "id": "9a09156de3338369",
   "outputs": [
    {
     "data": {
      "text/plain": [
       "Index(['Boxes Shipped', 'Sales Person_Andria Kimpton',\n",
       "       'Sales Person_Barr Faughny', 'Sales Person_Beverie Moffet',\n",
       "       'Sales Person_Brien Boise', 'Sales Person_Camilla Castle',\n",
       "       'Sales Person_Ches Bonnell', 'Sales Person_Curtice Advani',\n",
       "       'Sales Person_Dennison Crosswaite', 'Sales Person_Dotty Strutley',\n",
       "       'Sales Person_Gigi Bohling', 'Sales Person_Gunar Cockshoot',\n",
       "       'Sales Person_Husein Augar', 'Sales Person_Jan Morforth',\n",
       "       'Sales Person_Jehu Rudeforth', 'Sales Person_Kaine Padly',\n",
       "       'Sales Person_Karlen McCaffrey', 'Sales Person_Kelci Walkden',\n",
       "       'Sales Person_Madelene Upcott', 'Sales Person_Mallorie Waber',\n",
       "       'Sales Person_Marney O'Breen', 'Sales Person_Oby Sorrel',\n",
       "       'Sales Person_Rafaelita Blaksland', 'Sales Person_Roddy Speechley',\n",
       "       'Sales Person_Van Tuxwell', 'Sales Person_Wilone O'Kielt',\n",
       "       'Country_Australia', 'Country_Canada', 'Country_India',\n",
       "       'Country_New Zealand', 'Country_UK', 'Country_USA',\n",
       "       'Product_50% Dark Bites', 'Product_70% Dark Bites',\n",
       "       'Product_85% Dark Bars', 'Product_99% Dark & Pure',\n",
       "       'Product_After Nines', 'Product_Almond Choco',\n",
       "       'Product_Baker's Choco Chips', 'Product_Caramel Stuffed Bars',\n",
       "       'Product_Choco Coated Almonds', 'Product_Drinking Coco',\n",
       "       'Product_Eclairs', 'Product_Fruit & Nut Bars',\n",
       "       'Product_Manuka Honey Choco', 'Product_Milk Bars',\n",
       "       'Product_Mint Chip Choco', 'Product_Orange Choco',\n",
       "       'Product_Organic Choco Syrup', 'Product_Peanut Butter Cubes',\n",
       "       'Product_Raspberry Choco', 'Product_Smooth Sliky Salty',\n",
       "       'Product_Spicy Special Slims', 'Product_White Choc'],\n",
       "      dtype='object')"
      ]
     },
     "execution_count": 18,
     "metadata": {},
     "output_type": "execute_result"
    }
   ],
   "execution_count": 18
  },
  {
   "metadata": {
    "ExecuteTime": {
     "end_time": "2025-07-12T13:20:46.441025Z",
     "start_time": "2025-07-12T13:20:46.430241Z"
    }
   },
   "cell_type": "code",
   "source": "choc_dummies.head().astype(int)",
   "id": "90ea0f4a0a943cbd",
   "outputs": [
    {
     "data": {
      "text/plain": [
       "   Boxes Shipped  Sales Person_Andria Kimpton  Sales Person_Barr Faughny  \\\n",
       "0            180                            0                          0   \n",
       "1             94                            0                          0   \n",
       "2             91                            0                          0   \n",
       "3            342                            0                          0   \n",
       "4            184                            0                          0   \n",
       "\n",
       "   Sales Person_Beverie Moffet  Sales Person_Brien Boise  \\\n",
       "0                            0                         0   \n",
       "1                            0                         0   \n",
       "2                            0                         0   \n",
       "3                            0                         0   \n",
       "4                            0                         0   \n",
       "\n",
       "   Sales Person_Camilla Castle  Sales Person_Ches Bonnell  \\\n",
       "0                            0                          0   \n",
       "1                            0                          0   \n",
       "2                            0                          0   \n",
       "3                            0                          0   \n",
       "4                            0                          0   \n",
       "\n",
       "   Sales Person_Curtice Advani  Sales Person_Dennison Crosswaite  \\\n",
       "0                            0                                 0   \n",
       "1                            0                                 0   \n",
       "2                            0                                 0   \n",
       "3                            0                                 0   \n",
       "4                            0                                 0   \n",
       "\n",
       "   Sales Person_Dotty Strutley  ...  Product_Manuka Honey Choco  \\\n",
       "0                            0  ...                           0   \n",
       "1                            0  ...                           0   \n",
       "2                            0  ...                           0   \n",
       "3                            0  ...                           0   \n",
       "4                            0  ...                           0   \n",
       "\n",
       "   Product_Milk Bars  Product_Mint Chip Choco  Product_Orange Choco  \\\n",
       "0                  0                        1                     0   \n",
       "1                  0                        0                     0   \n",
       "2                  0                        0                     0   \n",
       "3                  0                        0                     0   \n",
       "4                  0                        0                     0   \n",
       "\n",
       "   Product_Organic Choco Syrup  Product_Peanut Butter Cubes  \\\n",
       "0                            0                            0   \n",
       "1                            0                            0   \n",
       "2                            0                            1   \n",
       "3                            0                            1   \n",
       "4                            0                            1   \n",
       "\n",
       "   Product_Raspberry Choco  Product_Smooth Sliky Salty  \\\n",
       "0                        0                           0   \n",
       "1                        0                           0   \n",
       "2                        0                           0   \n",
       "3                        0                           0   \n",
       "4                        0                           0   \n",
       "\n",
       "   Product_Spicy Special Slims  Product_White Choc  \n",
       "0                            0                   0  \n",
       "1                            0                   0  \n",
       "2                            0                   0  \n",
       "3                            0                   0  \n",
       "4                            0                   0  \n",
       "\n",
       "[5 rows x 54 columns]"
      ],
      "text/html": [
       "<div>\n",
       "<style scoped>\n",
       "    .dataframe tbody tr th:only-of-type {\n",
       "        vertical-align: middle;\n",
       "    }\n",
       "\n",
       "    .dataframe tbody tr th {\n",
       "        vertical-align: top;\n",
       "    }\n",
       "\n",
       "    .dataframe thead th {\n",
       "        text-align: right;\n",
       "    }\n",
       "</style>\n",
       "<table border=\"1\" class=\"dataframe\">\n",
       "  <thead>\n",
       "    <tr style=\"text-align: right;\">\n",
       "      <th></th>\n",
       "      <th>Boxes Shipped</th>\n",
       "      <th>Sales Person_Andria Kimpton</th>\n",
       "      <th>Sales Person_Barr Faughny</th>\n",
       "      <th>Sales Person_Beverie Moffet</th>\n",
       "      <th>Sales Person_Brien Boise</th>\n",
       "      <th>Sales Person_Camilla Castle</th>\n",
       "      <th>Sales Person_Ches Bonnell</th>\n",
       "      <th>Sales Person_Curtice Advani</th>\n",
       "      <th>Sales Person_Dennison Crosswaite</th>\n",
       "      <th>Sales Person_Dotty Strutley</th>\n",
       "      <th>...</th>\n",
       "      <th>Product_Manuka Honey Choco</th>\n",
       "      <th>Product_Milk Bars</th>\n",
       "      <th>Product_Mint Chip Choco</th>\n",
       "      <th>Product_Orange Choco</th>\n",
       "      <th>Product_Organic Choco Syrup</th>\n",
       "      <th>Product_Peanut Butter Cubes</th>\n",
       "      <th>Product_Raspberry Choco</th>\n",
       "      <th>Product_Smooth Sliky Salty</th>\n",
       "      <th>Product_Spicy Special Slims</th>\n",
       "      <th>Product_White Choc</th>\n",
       "    </tr>\n",
       "  </thead>\n",
       "  <tbody>\n",
       "    <tr>\n",
       "      <th>0</th>\n",
       "      <td>180</td>\n",
       "      <td>0</td>\n",
       "      <td>0</td>\n",
       "      <td>0</td>\n",
       "      <td>0</td>\n",
       "      <td>0</td>\n",
       "      <td>0</td>\n",
       "      <td>0</td>\n",
       "      <td>0</td>\n",
       "      <td>0</td>\n",
       "      <td>...</td>\n",
       "      <td>0</td>\n",
       "      <td>0</td>\n",
       "      <td>1</td>\n",
       "      <td>0</td>\n",
       "      <td>0</td>\n",
       "      <td>0</td>\n",
       "      <td>0</td>\n",
       "      <td>0</td>\n",
       "      <td>0</td>\n",
       "      <td>0</td>\n",
       "    </tr>\n",
       "    <tr>\n",
       "      <th>1</th>\n",
       "      <td>94</td>\n",
       "      <td>0</td>\n",
       "      <td>0</td>\n",
       "      <td>0</td>\n",
       "      <td>0</td>\n",
       "      <td>0</td>\n",
       "      <td>0</td>\n",
       "      <td>0</td>\n",
       "      <td>0</td>\n",
       "      <td>0</td>\n",
       "      <td>...</td>\n",
       "      <td>0</td>\n",
       "      <td>0</td>\n",
       "      <td>0</td>\n",
       "      <td>0</td>\n",
       "      <td>0</td>\n",
       "      <td>0</td>\n",
       "      <td>0</td>\n",
       "      <td>0</td>\n",
       "      <td>0</td>\n",
       "      <td>0</td>\n",
       "    </tr>\n",
       "    <tr>\n",
       "      <th>2</th>\n",
       "      <td>91</td>\n",
       "      <td>0</td>\n",
       "      <td>0</td>\n",
       "      <td>0</td>\n",
       "      <td>0</td>\n",
       "      <td>0</td>\n",
       "      <td>0</td>\n",
       "      <td>0</td>\n",
       "      <td>0</td>\n",
       "      <td>0</td>\n",
       "      <td>...</td>\n",
       "      <td>0</td>\n",
       "      <td>0</td>\n",
       "      <td>0</td>\n",
       "      <td>0</td>\n",
       "      <td>0</td>\n",
       "      <td>1</td>\n",
       "      <td>0</td>\n",
       "      <td>0</td>\n",
       "      <td>0</td>\n",
       "      <td>0</td>\n",
       "    </tr>\n",
       "    <tr>\n",
       "      <th>3</th>\n",
       "      <td>342</td>\n",
       "      <td>0</td>\n",
       "      <td>0</td>\n",
       "      <td>0</td>\n",
       "      <td>0</td>\n",
       "      <td>0</td>\n",
       "      <td>0</td>\n",
       "      <td>0</td>\n",
       "      <td>0</td>\n",
       "      <td>0</td>\n",
       "      <td>...</td>\n",
       "      <td>0</td>\n",
       "      <td>0</td>\n",
       "      <td>0</td>\n",
       "      <td>0</td>\n",
       "      <td>0</td>\n",
       "      <td>1</td>\n",
       "      <td>0</td>\n",
       "      <td>0</td>\n",
       "      <td>0</td>\n",
       "      <td>0</td>\n",
       "    </tr>\n",
       "    <tr>\n",
       "      <th>4</th>\n",
       "      <td>184</td>\n",
       "      <td>0</td>\n",
       "      <td>0</td>\n",
       "      <td>0</td>\n",
       "      <td>0</td>\n",
       "      <td>0</td>\n",
       "      <td>0</td>\n",
       "      <td>0</td>\n",
       "      <td>0</td>\n",
       "      <td>0</td>\n",
       "      <td>...</td>\n",
       "      <td>0</td>\n",
       "      <td>0</td>\n",
       "      <td>0</td>\n",
       "      <td>0</td>\n",
       "      <td>0</td>\n",
       "      <td>1</td>\n",
       "      <td>0</td>\n",
       "      <td>0</td>\n",
       "      <td>0</td>\n",
       "      <td>0</td>\n",
       "    </tr>\n",
       "  </tbody>\n",
       "</table>\n",
       "<p>5 rows × 54 columns</p>\n",
       "</div>"
      ]
     },
     "execution_count": 19,
     "metadata": {},
     "output_type": "execute_result"
    }
   ],
   "execution_count": 19
  },
  {
   "metadata": {
    "ExecuteTime": {
     "end_time": "2025-07-12T13:23:01.155823Z",
     "start_time": "2025-07-12T13:23:01.150196Z"
    }
   },
   "cell_type": "code",
   "source": [
    "features=choc_dummies.loc[:,'Sales Person_Andria Kimpton':'Product_White Choc']\n",
    "X=features.values\n",
    "y=choc_dummies['Boxes Shipped'].values"
   ],
   "id": "a8cd45165b5d1a14",
   "outputs": [],
   "execution_count": 21
  },
  {
   "metadata": {
    "ExecuteTime": {
     "end_time": "2025-07-12T13:27:22.732708Z",
     "start_time": "2025-07-12T13:27:22.719472Z"
    }
   },
   "cell_type": "code",
   "source": [
    "from sklearn.linear_model import LinearRegression\n",
    "from sklearn.model_selection import train_test_split\n",
    "\n",
    "X_train,X_test,y_train,y_test=train_test_split(X,y,random_state=0)\n",
    "regressor=LinearRegression()\n",
    "regressor.fit(X_train,y_train)\n",
    "print(\"Training Accuracy: {:.3f}\".format(regressor.score(X_train,y_train)))\n",
    "print(\"Testing Accuracy: {:.3f}\".format(regressor.score(X_test,y_test)))"
   ],
   "id": "713651c1a77a46f3",
   "outputs": [
    {
     "name": "stdout",
     "output_type": "stream",
     "text": [
      "Training Accuracy: 0.068\n",
      "Testing Accuracy: -0.124\n"
     ]
    }
   ],
   "execution_count": 24
  },
  {
   "metadata": {
    "ExecuteTime": {
     "end_time": "2025-07-12T13:30:54.556957Z",
     "start_time": "2025-07-12T13:30:54.548648Z"
    }
   },
   "cell_type": "code",
   "source": "X[:10]",
   "id": "918a96e7ccbb97fa",
   "outputs": [
    {
     "data": {
      "text/plain": [
       "array([[False, False, False, False, False, False, False, False, False,\n",
       "        False, False, False, False,  True, False, False, False, False,\n",
       "        False, False, False, False, False, False, False, False, False,\n",
       "        False, False,  True, False, False, False, False, False, False,\n",
       "        False, False, False, False, False, False, False, False, False,\n",
       "         True, False, False, False, False, False, False, False],\n",
       "       [False, False, False, False, False, False, False, False, False,\n",
       "        False, False, False, False, False, False, False, False, False,\n",
       "        False, False, False, False, False,  True, False, False, False,\n",
       "         True, False, False, False, False, False,  True, False, False,\n",
       "        False, False, False, False, False, False, False, False, False,\n",
       "        False, False, False, False, False, False, False, False],\n",
       "       [False, False, False, False, False, False, False, False, False,\n",
       "         True, False, False, False, False, False, False, False, False,\n",
       "        False, False, False, False, False, False, False, False, False,\n",
       "         True, False, False, False, False, False, False, False, False,\n",
       "        False, False, False, False, False, False, False, False, False,\n",
       "        False, False, False,  True, False, False, False, False],\n",
       "       [False, False, False, False, False, False, False, False, False,\n",
       "        False, False, False,  True, False, False, False, False, False,\n",
       "        False, False, False, False, False, False, False,  True, False,\n",
       "        False, False, False, False, False, False, False, False, False,\n",
       "        False, False, False, False, False, False, False, False, False,\n",
       "        False, False, False,  True, False, False, False, False],\n",
       "       [False, False, False, False, False, False, False, False, False,\n",
       "        False, False, False, False,  True, False, False, False, False,\n",
       "        False, False, False, False, False, False, False, False, False,\n",
       "        False, False,  True, False, False, False, False, False, False,\n",
       "        False, False, False, False, False, False, False, False, False,\n",
       "        False, False, False,  True, False, False, False, False],\n",
       "       [False, False, False, False, False, False, False, False, False,\n",
       "        False, False, False, False, False, False, False, False, False,\n",
       "        False, False, False, False, False,  True, False, False, False,\n",
       "         True, False, False, False, False, False, False, False, False,\n",
       "        False, False, False, False, False, False, False, False, False,\n",
       "        False, False, False, False, False,  True, False, False],\n",
       "       [False, False, False, False, False, False, False, False, False,\n",
       "        False, False, False, False, False, False, False, False, False,\n",
       "        False, False,  True, False, False, False, False, False, False,\n",
       "        False, False,  True, False, False, False, False,  True, False,\n",
       "        False, False, False, False, False, False, False, False, False,\n",
       "        False, False, False, False, False, False, False, False],\n",
       "       [False, False, False, False, False, False, False, False, False,\n",
       "        False,  True, False, False, False, False, False, False, False,\n",
       "        False, False, False, False, False, False, False,  True, False,\n",
       "        False, False, False, False, False, False, False, False,  True,\n",
       "        False, False, False, False, False, False, False, False, False,\n",
       "        False, False, False, False, False, False, False, False],\n",
       "       [False, False, False, False, False, False, False, False, False,\n",
       "        False, False, False, False,  True, False, False, False, False,\n",
       "        False, False, False, False, False, False, False, False, False,\n",
       "        False,  True, False, False,  True, False, False, False, False,\n",
       "        False, False, False, False, False, False, False, False, False,\n",
       "        False, False, False, False, False, False, False, False],\n",
       "       [False, False, False,  True, False, False, False, False, False,\n",
       "        False, False, False, False, False, False, False, False, False,\n",
       "        False, False, False, False, False, False, False,  True, False,\n",
       "        False, False, False, False, False, False, False,  True, False,\n",
       "        False, False, False, False, False, False, False, False, False,\n",
       "        False, False, False, False, False, False, False, False]])"
      ]
     },
     "execution_count": 26,
     "metadata": {},
     "output_type": "execute_result"
    }
   ],
   "execution_count": 26
  },
  {
   "metadata": {},
   "cell_type": "code",
   "outputs": [],
   "execution_count": null,
   "source": "",
   "id": "ff8512877415427"
  }
 ],
 "metadata": {
  "kernelspec": {
   "display_name": "Python 3",
   "language": "python",
   "name": "python3"
  },
  "language_info": {
   "codemirror_mode": {
    "name": "ipython",
    "version": 2
   },
   "file_extension": ".py",
   "mimetype": "text/x-python",
   "name": "python",
   "nbconvert_exporter": "python",
   "pygments_lexer": "ipython2",
   "version": "2.7.6"
  }
 },
 "nbformat": 4,
 "nbformat_minor": 5
}
