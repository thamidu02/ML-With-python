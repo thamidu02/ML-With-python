{
 "cells": [
  {
   "cell_type": "code",
   "id": "initial_id",
   "metadata": {
    "collapsed": true,
    "ExecuteTime": {
     "end_time": "2025-06-28T03:53:36.025038Z",
     "start_time": "2025-06-28T03:53:35.281468Z"
    }
   },
   "source": [
    "import pandas as pd\n",
    "import numpy as np"
   ],
   "outputs": [],
   "execution_count": 2
  },
  {
   "metadata": {},
   "cell_type": "markdown",
   "source": "## Series",
   "id": "fe93a8572b4ea2b0"
  },
  {
   "metadata": {
    "ExecuteTime": {
     "end_time": "2025-06-28T03:53:36.050391Z",
     "start_time": "2025-06-28T03:53:36.039674Z"
    }
   },
   "cell_type": "code",
   "source": [
    "obj=pd.Series([4, 7, -5, 3])\n",
    "obj"
   ],
   "id": "2e0db31dcddd3f75",
   "outputs": [
    {
     "data": {
      "text/plain": [
       "0    4\n",
       "1    7\n",
       "2   -5\n",
       "3    3\n",
       "dtype: int64"
      ]
     },
     "execution_count": 3,
     "metadata": {},
     "output_type": "execute_result"
    }
   ],
   "execution_count": 3
  },
  {
   "metadata": {
    "ExecuteTime": {
     "end_time": "2025-06-28T03:53:36.148771Z",
     "start_time": "2025-06-28T03:53:36.143905Z"
    }
   },
   "cell_type": "code",
   "source": "obj.array",
   "id": "1f625f66c24aaba7",
   "outputs": [
    {
     "data": {
      "text/plain": [
       "<NumpyExtensionArray>\n",
       "[np.int64(4), np.int64(7), np.int64(-5), np.int64(3)]\n",
       "Length: 4, dtype: int64"
      ]
     },
     "execution_count": 4,
     "metadata": {},
     "output_type": "execute_result"
    }
   ],
   "execution_count": 4
  },
  {
   "metadata": {
    "ExecuteTime": {
     "end_time": "2025-06-28T03:53:36.595902Z",
     "start_time": "2025-06-28T03:53:36.590846Z"
    }
   },
   "cell_type": "code",
   "source": "obj.index",
   "id": "cb5f719919bceb98",
   "outputs": [
    {
     "data": {
      "text/plain": [
       "RangeIndex(start=0, stop=4, step=1)"
      ]
     },
     "execution_count": 5,
     "metadata": {},
     "output_type": "execute_result"
    }
   ],
   "execution_count": 5
  },
  {
   "metadata": {
    "ExecuteTime": {
     "end_time": "2025-06-28T03:53:37.142104Z",
     "start_time": "2025-06-28T03:53:37.134968Z"
    }
   },
   "cell_type": "code",
   "source": [
    "obj2=pd.Series([4, 7, -5, 3],index=[\"a\",\"b\",\"c\",\"d\"])\n",
    "obj2"
   ],
   "id": "e15579c025d8a392",
   "outputs": [
    {
     "data": {
      "text/plain": [
       "a    4\n",
       "b    7\n",
       "c   -5\n",
       "d    3\n",
       "dtype: int64"
      ]
     },
     "execution_count": 6,
     "metadata": {},
     "output_type": "execute_result"
    }
   ],
   "execution_count": 6
  },
  {
   "metadata": {
    "ExecuteTime": {
     "end_time": "2025-06-28T03:53:37.250133Z",
     "start_time": "2025-06-28T03:53:37.244604Z"
    }
   },
   "cell_type": "code",
   "source": "obj2[\"a\"]",
   "id": "e3cabe6f97a8cbe8",
   "outputs": [
    {
     "data": {
      "text/plain": [
       "np.int64(4)"
      ]
     },
     "execution_count": 7,
     "metadata": {},
     "output_type": "execute_result"
    }
   ],
   "execution_count": 7
  },
  {
   "metadata": {
    "ExecuteTime": {
     "end_time": "2025-06-28T03:55:01.409572Z",
     "start_time": "2025-06-28T03:55:01.393104Z"
    }
   },
   "cell_type": "code",
   "source": "obj2[[\"c\",\"a\",\"b\"]]",
   "id": "30a26747c25acd78",
   "outputs": [
    {
     "data": {
      "text/plain": [
       "c   -5\n",
       "a    4\n",
       "b    7\n",
       "dtype: int64"
      ]
     },
     "execution_count": 8,
     "metadata": {},
     "output_type": "execute_result"
    }
   ],
   "execution_count": 8
  },
  {
   "metadata": {
    "ExecuteTime": {
     "end_time": "2025-06-28T03:57:47.712780Z",
     "start_time": "2025-06-28T03:57:47.707512Z"
    }
   },
   "cell_type": "code",
   "source": "obj2[obj2>0]",
   "id": "fc66ee359911db7",
   "outputs": [
    {
     "data": {
      "text/plain": [
       "a    4\n",
       "b    7\n",
       "d    3\n",
       "dtype: int64"
      ]
     },
     "execution_count": 13,
     "metadata": {},
     "output_type": "execute_result"
    }
   ],
   "execution_count": 13
  },
  {
   "metadata": {
    "ExecuteTime": {
     "end_time": "2025-06-28T03:57:58.141344Z",
     "start_time": "2025-06-28T03:57:58.135794Z"
    }
   },
   "cell_type": "code",
   "source": "obj2*2",
   "id": "eb7b7a2cd30d1eba",
   "outputs": [
    {
     "data": {
      "text/plain": [
       "a     8\n",
       "b    14\n",
       "c   -10\n",
       "d     6\n",
       "dtype: int64"
      ]
     },
     "execution_count": 14,
     "metadata": {},
     "output_type": "execute_result"
    }
   ],
   "execution_count": 14
  },
  {
   "metadata": {
    "ExecuteTime": {
     "end_time": "2025-06-28T03:58:25.407260Z",
     "start_time": "2025-06-28T03:58:25.401850Z"
    }
   },
   "cell_type": "code",
   "source": "np.exp(obj2)",
   "id": "9bb359a2bd8023e2",
   "outputs": [
    {
     "data": {
      "text/plain": [
       "a      54.598150\n",
       "b    1096.633158\n",
       "c       0.006738\n",
       "d      20.085537\n",
       "dtype: float64"
      ]
     },
     "execution_count": 15,
     "metadata": {},
     "output_type": "execute_result"
    }
   ],
   "execution_count": 15
  },
  {
   "metadata": {
    "ExecuteTime": {
     "end_time": "2025-06-28T03:58:52.131501Z",
     "start_time": "2025-06-28T03:58:52.126233Z"
    }
   },
   "cell_type": "code",
   "source": "\"b\" in obj2,\"e\" in obj2",
   "id": "717a862a1d454e66",
   "outputs": [
    {
     "data": {
      "text/plain": [
       "(True, False)"
      ]
     },
     "execution_count": 17,
     "metadata": {},
     "output_type": "execute_result"
    }
   ],
   "execution_count": 17
  },
  {
   "metadata": {
    "ExecuteTime": {
     "end_time": "2025-06-28T03:59:36.227715Z",
     "start_time": "2025-06-28T03:59:36.222314Z"
    }
   },
   "cell_type": "code",
   "source": [
    "sdata={\"Ohio\": 35000, \"Texas\": 71000, \"Oregon\": 16000, \"Utah\": 5000}\n",
    "obj3=pd.Series(sdata) # converting python dictionary to a Series\n",
    "obj3"
   ],
   "id": "1c8ca30db67ad4fa",
   "outputs": [
    {
     "data": {
      "text/plain": [
       "Ohio      35000\n",
       "Texas     71000\n",
       "Oregon    16000\n",
       "Utah       5000\n",
       "dtype: int64"
      ]
     },
     "execution_count": 18,
     "metadata": {},
     "output_type": "execute_result"
    }
   ],
   "execution_count": 18
  },
  {
   "metadata": {
    "ExecuteTime": {
     "end_time": "2025-06-28T04:00:02.976729Z",
     "start_time": "2025-06-28T04:00:02.972381Z"
    }
   },
   "cell_type": "code",
   "source": "obj3.to_dict() # converting series to a python dictionary",
   "id": "d8f9f26bc2e8cc5",
   "outputs": [
    {
     "data": {
      "text/plain": [
       "{'Ohio': 35000, 'Texas': 71000, 'Oregon': 16000, 'Utah': 5000}"
      ]
     },
     "execution_count": 19,
     "metadata": {},
     "output_type": "execute_result"
    }
   ],
   "execution_count": 19
  },
  {
   "metadata": {
    "ExecuteTime": {
     "end_time": "2025-06-28T04:23:47.773384Z",
     "start_time": "2025-06-28T04:23:47.731527Z"
    }
   },
   "cell_type": "code",
   "source": [
    "states=[\"California\", \"Ohio\", \"Oregon\", \"Texas\"]\n",
    "obj4=pd.Series(sdata,index=states)\n",
    "obj4\n",
    "# Here, three values found in sdata were placed in the appropriate locations, but since no value for \"California\" was found, it appears as NaN (Not a Number), which is considered in pandas to mark missing or NA values. Since \"Utah\" was not included in states, it is excluded from the resulting object."
   ],
   "id": "4cca650d8feb63d0",
   "outputs": [
    {
     "data": {
      "text/plain": [
       "California        NaN\n",
       "Ohio          35000.0\n",
       "Oregon        16000.0\n",
       "Texas         71000.0\n",
       "dtype: float64"
      ]
     },
     "execution_count": 24,
     "metadata": {},
     "output_type": "execute_result"
    }
   ],
   "execution_count": 24
  },
  {
   "metadata": {
    "ExecuteTime": {
     "end_time": "2025-06-28T04:26:09.740287Z",
     "start_time": "2025-06-28T04:26:09.734207Z"
    }
   },
   "cell_type": "code",
   "source": "pd.isna(obj4),pd.notna(obj4) # The isna and notna functions in pandas should be used to detect missing data",
   "id": "bf37c9258e261258",
   "outputs": [
    {
     "data": {
      "text/plain": [
       "(California     True\n",
       " Ohio          False\n",
       " Oregon        False\n",
       " Texas         False\n",
       " dtype: bool,\n",
       " California    False\n",
       " Ohio           True\n",
       " Oregon         True\n",
       " Texas          True\n",
       " dtype: bool)"
      ]
     },
     "execution_count": 26,
     "metadata": {},
     "output_type": "execute_result"
    }
   ],
   "execution_count": 26
  },
  {
   "metadata": {
    "ExecuteTime": {
     "end_time": "2025-06-28T04:27:03.362569Z",
     "start_time": "2025-06-28T04:27:03.356616Z"
    }
   },
   "cell_type": "code",
   "source": "obj4.isna()",
   "id": "3444ede3f022ac68",
   "outputs": [
    {
     "data": {
      "text/plain": [
       "California     True\n",
       "Ohio          False\n",
       "Oregon        False\n",
       "Texas         False\n",
       "dtype: bool"
      ]
     },
     "execution_count": 27,
     "metadata": {},
     "output_type": "execute_result"
    }
   ],
   "execution_count": 27
  },
  {
   "metadata": {
    "ExecuteTime": {
     "end_time": "2025-06-28T04:27:49.498481Z",
     "start_time": "2025-06-28T04:27:49.493455Z"
    }
   },
   "cell_type": "code",
   "source": "obj3,obj4",
   "id": "7fbb5d574e80cf3d",
   "outputs": [
    {
     "data": {
      "text/plain": [
       "(Ohio      35000\n",
       " Texas     71000\n",
       " Oregon    16000\n",
       " Utah       5000\n",
       " dtype: int64,\n",
       " California        NaN\n",
       " Ohio          35000.0\n",
       " Oregon        16000.0\n",
       " Texas         71000.0\n",
       " dtype: float64)"
      ]
     },
     "execution_count": 29,
     "metadata": {},
     "output_type": "execute_result"
    }
   ],
   "execution_count": 29
  },
  {
   "metadata": {
    "ExecuteTime": {
     "end_time": "2025-06-28T04:33:08.992748Z",
     "start_time": "2025-06-28T04:33:08.987143Z"
    }
   },
   "cell_type": "code",
   "source": "(obj3+obj4)",
   "id": "6b270e394e77640",
   "outputs": [
    {
     "data": {
      "text/plain": [
       "California         NaN\n",
       "Ohio           70000.0\n",
       "Oregon         32000.0\n",
       "Texas         142000.0\n",
       "Utah               NaN\n",
       "dtype: float64"
      ]
     },
     "execution_count": 33,
     "metadata": {},
     "output_type": "execute_result"
    }
   ],
   "execution_count": 33
  },
  {
   "metadata": {
    "ExecuteTime": {
     "end_time": "2025-06-28T04:35:08.577682Z",
     "start_time": "2025-06-28T04:35:08.571277Z"
    }
   },
   "cell_type": "code",
   "source": [
    "obj4.name=\"Population\"\n",
    "obj4.index.name=\"state\"\n",
    "obj4"
   ],
   "id": "3041c7368afff7f7",
   "outputs": [
    {
     "data": {
      "text/plain": [
       "state\n",
       "California        NaN\n",
       "Ohio          35000.0\n",
       "Oregon        16000.0\n",
       "Texas         71000.0\n",
       "Name: Population, dtype: float64"
      ]
     },
     "execution_count": 34,
     "metadata": {},
     "output_type": "execute_result"
    }
   ],
   "execution_count": 34
  },
  {
   "metadata": {
    "ExecuteTime": {
     "end_time": "2025-06-28T04:35:56.851961Z",
     "start_time": "2025-06-28T04:35:56.845831Z"
    }
   },
   "cell_type": "code",
   "source": "obj",
   "id": "774968d7a59c3f07",
   "outputs": [
    {
     "data": {
      "text/plain": [
       "0    4\n",
       "1    7\n",
       "2   -5\n",
       "3    3\n",
       "dtype: int64"
      ]
     },
     "execution_count": 35,
     "metadata": {},
     "output_type": "execute_result"
    }
   ],
   "execution_count": 35
  },
  {
   "metadata": {
    "ExecuteTime": {
     "end_time": "2025-06-28T04:36:23.897939Z",
     "start_time": "2025-06-28T04:36:23.890950Z"
    }
   },
   "cell_type": "code",
   "source": [
    "obj.index=[\"Bob\", \"Steve\", \"Jeff\", \"Ryan\"]\n",
    "obj"
   ],
   "id": "a51b9c916b11fd98",
   "outputs": [
    {
     "data": {
      "text/plain": [
       "Bob      4\n",
       "Steve    7\n",
       "Jeff    -5\n",
       "Ryan     3\n",
       "dtype: int64"
      ]
     },
     "execution_count": 36,
     "metadata": {},
     "output_type": "execute_result"
    }
   ],
   "execution_count": 36
  },
  {
   "metadata": {},
   "cell_type": "markdown",
   "source": "## DataFrame",
   "id": "d53532c030bfa7ef"
  },
  {
   "metadata": {},
   "cell_type": "markdown",
   "source": "A DataFrame represents a rectangular table of data and contains an ordered, named collection of columns, each of which can be a different value type (numeric, string, Boolean, etc.). The DataFrame has both a row and column index; it can be thought of as a dictionary of Series all sharing the same index.",
   "id": "2049186031f3c784"
  },
  {
   "metadata": {},
   "cell_type": "code",
   "outputs": [],
   "execution_count": null,
   "source": "",
   "id": "e57592f371045f26"
  }
 ],
 "metadata": {
  "kernelspec": {
   "display_name": "Python 3",
   "language": "python",
   "name": "python3"
  },
  "language_info": {
   "codemirror_mode": {
    "name": "ipython",
    "version": 2
   },
   "file_extension": ".py",
   "mimetype": "text/x-python",
   "name": "python",
   "nbconvert_exporter": "python",
   "pygments_lexer": "ipython2",
   "version": "2.7.6"
  }
 },
 "nbformat": 4,
 "nbformat_minor": 5
}
