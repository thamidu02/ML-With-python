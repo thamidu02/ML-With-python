{
 "cells": [
  {
   "cell_type": "code",
   "id": "initial_id",
   "metadata": {
    "collapsed": true,
    "ExecuteTime": {
     "end_time": "2025-07-03T16:34:41.707322Z",
     "start_time": "2025-07-03T16:34:41.653223Z"
    }
   },
   "source": [
    "import pandas as pd\n",
    "import numpy as np\n",
    "import matplotlib.pyplot as plt"
   ],
   "outputs": [],
   "execution_count": 15
  },
  {
   "metadata": {
    "ExecuteTime": {
     "end_time": "2025-07-03T15:25:34.490924Z",
     "start_time": "2025-07-03T15:25:33.094385Z"
    }
   },
   "cell_type": "code",
   "source": [
    "from sklearn.datasets import load_diabetes\n",
    "diabetes=load_diabetes()"
   ],
   "id": "3e21730e9f7a2ec4",
   "outputs": [],
   "execution_count": 2
  },
  {
   "metadata": {
    "ExecuteTime": {
     "end_time": "2025-07-03T15:26:03.273247Z",
     "start_time": "2025-07-03T15:26:03.266258Z"
    }
   },
   "cell_type": "code",
   "source": "diabetes.keys()",
   "id": "71fa6abdd4f9ccae",
   "outputs": [
    {
     "data": {
      "text/plain": [
       "dict_keys(['data', 'target', 'frame', 'DESCR', 'feature_names', 'data_filename', 'target_filename', 'data_module'])"
      ]
     },
     "execution_count": 3,
     "metadata": {},
     "output_type": "execute_result"
    }
   ],
   "execution_count": 3
  },
  {
   "metadata": {
    "ExecuteTime": {
     "end_time": "2025-07-03T16:03:21.262452Z",
     "start_time": "2025-07-03T16:03:21.248813Z"
    }
   },
   "cell_type": "code",
   "source": "diabetes[\"DESCR\"]",
   "id": "32ca637812ff5120",
   "outputs": [
    {
     "data": {
      "text/plain": [
       "'.. _diabetes_dataset:\\n\\nDiabetes dataset\\n----------------\\n\\nTen baseline variables, age, sex, body mass index, average blood\\npressure, and six blood serum measurements were obtained for each of n =\\n442 diabetes patients, as well as the response of interest, a\\nquantitative measure of disease progression one year after baseline.\\n\\n**Data Set Characteristics:**\\n\\n:Number of Instances: 442\\n\\n:Number of Attributes: First 10 columns are numeric predictive values\\n\\n:Target: Column 11 is a quantitative measure of disease progression one year after baseline\\n\\n:Attribute Information:\\n    - age     age in years\\n    - sex\\n    - bmi     body mass index\\n    - bp      average blood pressure\\n    - s1      tc, total serum cholesterol\\n    - s2      ldl, low-density lipoproteins\\n    - s3      hdl, high-density lipoproteins\\n    - s4      tch, total cholesterol / HDL\\n    - s5      ltg, possibly log of serum triglycerides level\\n    - s6      glu, blood sugar level\\n\\nNote: Each of these 10 feature variables have been mean centered and scaled by the standard deviation times the square root of `n_samples` (i.e. the sum of squares of each column totals 1).\\n\\nSource URL:\\nhttps://www4.stat.ncsu.edu/~boos/var.select/diabetes.html\\n\\nFor more information see:\\nBradley Efron, Trevor Hastie, Iain Johnstone and Robert Tibshirani (2004) \"Least Angle Regression,\" Annals of Statistics (with discussion), 407-499.\\n(https://web.stanford.edu/~hastie/Papers/LARS/LeastAngle_2002.pdf)\\n'"
      ]
     },
     "execution_count": 5,
     "metadata": {},
     "output_type": "execute_result"
    }
   ],
   "execution_count": 5
  },
  {
   "metadata": {
    "ExecuteTime": {
     "end_time": "2025-07-03T16:19:33.963264Z",
     "start_time": "2025-07-03T16:19:33.927097Z"
    }
   },
   "cell_type": "code",
   "source": "diabetes.feature_names",
   "id": "c2758d9432d39442",
   "outputs": [
    {
     "data": {
      "text/plain": [
       "['age', 'sex', 'bmi', 'bp', 's1', 's2', 's3', 's4', 's5', 's6']"
      ]
     },
     "execution_count": 6,
     "metadata": {},
     "output_type": "execute_result"
    }
   ],
   "execution_count": 6
  },
  {
   "metadata": {
    "ExecuteTime": {
     "end_time": "2025-07-03T16:23:42.922196Z",
     "start_time": "2025-07-03T16:23:42.846689Z"
    }
   },
   "cell_type": "code",
   "source": "diabetes_dataframe=pd.DataFrame(diabetes.data,columns=diabetes.feature_names)\n",
   "id": "3e641ed78a1faf92",
   "outputs": [
    {
     "name": "stderr",
     "output_type": "stream",
     "text": [
      "C:\\Users\\thami\\AppData\\Local\\Temp\\ipykernel_19936\\865942797.py:2: FutureWarning: pandas.value_counts is deprecated and will be removed in a future version. Use pd.Series(obj).value_counts() instead.\n",
      "  pd.value_counts(diabetes_dataframe[\"age\"].isna()==True)\n"
     ]
    },
    {
     "data": {
      "text/plain": [
       "age\n",
       "False    442\n",
       "Name: count, dtype: int64"
      ]
     },
     "execution_count": 11,
     "metadata": {},
     "output_type": "execute_result"
    }
   ],
   "execution_count": 11
  },
  {
   "metadata": {
    "ExecuteTime": {
     "end_time": "2025-07-03T16:26:09.214448Z",
     "start_time": "2025-07-03T16:26:09.184119Z"
    }
   },
   "cell_type": "code",
   "source": [
    "for feature in diabetes_dataframe.columns:\n",
    "    print(pd.value_counts(diabetes_dataframe[feature].isna()==True)) # checking is there any values missing in the columns\n"
   ],
   "id": "8f6f5ee9074e5080",
   "outputs": [
    {
     "name": "stdout",
     "output_type": "stream",
     "text": [
      "age\n",
      "False    442\n",
      "Name: count, dtype: int64\n",
      "sex\n",
      "False    442\n",
      "Name: count, dtype: int64\n",
      "bmi\n",
      "False    442\n",
      "Name: count, dtype: int64\n",
      "bp\n",
      "False    442\n",
      "Name: count, dtype: int64\n",
      "s1\n",
      "False    442\n",
      "Name: count, dtype: int64\n",
      "s2\n",
      "False    442\n",
      "Name: count, dtype: int64\n",
      "s3\n",
      "False    442\n",
      "Name: count, dtype: int64\n",
      "s4\n",
      "False    442\n",
      "Name: count, dtype: int64\n",
      "s5\n",
      "False    442\n",
      "Name: count, dtype: int64\n",
      "s6\n",
      "False    442\n",
      "Name: count, dtype: int64\n"
     ]
    },
    {
     "name": "stderr",
     "output_type": "stream",
     "text": [
      "C:\\Users\\thami\\AppData\\Local\\Temp\\ipykernel_19936\\3416389807.py:2: FutureWarning: pandas.value_counts is deprecated and will be removed in a future version. Use pd.Series(obj).value_counts() instead.\n",
      "  print(pd.value_counts(diabetes_dataframe[feature].isna()==True))\n"
     ]
    }
   ],
   "execution_count": 12
  },
  {
   "metadata": {
    "ExecuteTime": {
     "end_time": "2025-07-03T16:29:53.316208Z",
     "start_time": "2025-07-03T16:29:53.300231Z"
    }
   },
   "cell_type": "code",
   "source": [
    "from sklearn.neighbors import KNeighborsClassifier\n",
    "from sklearn.model_selection import train_test_split\n",
    "\n",
    "X_train,X_test,y_train,y_test=train_test_split(diabetes.data,diabetes.target,random_state=66)"
   ],
   "id": "46df9915a95de2cb",
   "outputs": [],
   "execution_count": 14
  },
  {
   "metadata": {
    "ExecuteTime": {
     "end_time": "2025-07-03T16:38:07.354698Z",
     "start_time": "2025-07-03T16:38:07.037189Z"
    }
   },
   "cell_type": "code",
   "source": [
    "neighbors_settings=range(1,11)\n",
    "training_accuracy=[]\n",
    "test_accuracy=[]\n",
    "\n",
    "for n_neighbors in neighbors_settings:\n",
    "    diabetes_model=KNeighborsClassifier(n_neighbors=n_neighbors)\n",
    "    diabetes_model.fit(X_train,y_train)\n",
    "    training_accuracy.append(diabetes_model.score(X_train,y_train))\n",
    "    test_accuracy.append(diabetes_model.score(X_test,y_test))\n",
    "\n",
    "\n",
    "plt.plot(neighbors_settings,training_accuracy,label=\"Training Accuracy\")\n",
    "plt.plot(neighbors_settings,test_accuracy,label=\"Testing accuracy\")\n",
    "plt.ylabel(\"Accuracy\")\n",
    "plt.xlabel(\"n_neighbors\")\n",
    "plt.legend()"
   ],
   "id": "4eca301f5e08afac",
   "outputs": [
    {
     "data": {
      "text/plain": [
       "<matplotlib.legend.Legend at 0x288648f8cd0>"
      ]
     },
     "execution_count": 20,
     "metadata": {},
     "output_type": "execute_result"
    },
    {
     "data": {
      "text/plain": [
       "<Figure size 640x480 with 1 Axes>"
      ],
      "image/png": "[encoded data removed]"
     },
     "metadata": {},
     "output_type": "display_data"
    }
   ],
   "execution_count": 20
  },
  {
   "metadata": {
    "ExecuteTime": {
     "end_time": "2025-07-03T16:39:34.981198Z",
     "start_time": "2025-07-03T16:39:34.949987Z"
    }
   },
   "cell_type": "code",
   "source": "test_accuracy",
   "id": "d3a905923b63b7ee",
   "outputs": [
    {
     "data": {
      "text/plain": [
       "[0.018018018018018018,\n",
       " 0.009009009009009009,\n",
       " 0.0,\n",
       " 0.0,\n",
       " 0.0,\n",
       " 0.0,\n",
       " 0.0,\n",
       " 0.0,\n",
       " 0.0,\n",
       " 0.0]"
      ]
     },
     "execution_count": 21,
     "metadata": {},
     "output_type": "execute_result"
    }
   ],
   "execution_count": 21
  },
  {
   "metadata": {},
   "cell_type": "markdown",
   "source": "Conclusion: for the diabetes data set K neighbors classification is not suitable",
   "id": "5acb2af4172c8e6b"
  }
 ],
 "metadata": {
  "kernelspec": {
   "display_name": "Python 3",
   "language": "python",
   "name": "python3"
  },
  "language_info": {
   "codemirror_mode": {
    "name": "ipython",
    "version": 2
   },
   "file_extension": ".py",
   "mimetype": "text/x-python",
   "name": "python",
   "nbconvert_exporter": "python",
   "pygments_lexer": "ipython2",
   "version": "2.7.6"
  }
 },
 "nbformat": 4,
 "nbformat_minor": 5
}
